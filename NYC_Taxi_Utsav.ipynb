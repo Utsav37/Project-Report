{
 "cells": [
  {
   "cell_type": "code",
   "execution_count": 2,
   "metadata": {
    "_uuid": "c8cce98046ff17fab0fe4a85ec8081aa25d9739d",
    "collapsed": true
   },
   "outputs": [],
   "source": [
    "import pandas as pd\n",
    "import numpy as np\n",
    "import matplotlib.pyplot as plt\n",
    "%matplotlib inline "
   ]
  },
  {
   "cell_type": "code",
   "execution_count": 3,
   "metadata": {
    "_uuid": "1cdf9435196259933efb2db420fcd321fbb921ce",
    "colab": {},
    "colab_type": "code",
    "id": "xsGr-BBuNilu"
   },
   "outputs": [],
   "source": [
    "pd.set_option('display.max_columns', 100)"
   ]
  },
  {
   "cell_type": "code",
   "execution_count": 4,
   "metadata": {
    "_uuid": "ea86e456bf32c022bab675c5f40db2fa9657b2e4",
    "colab": {
     "base_uri": "https://localhost:8080/",
     "height": 52
    },
    "colab_type": "code",
    "id": "4sAqpSeRR_PV",
    "outputId": "df5b2a62-90b9-4645-c259-6d15d867704f"
   },
   "outputs": [],
   "source": [
    "df_taxi = pd.read_csv('../input/green_tripdata_2015-09.csv')"
   ]
  },
  {
   "cell_type": "code",
   "execution_count": 5,
   "metadata": {
    "_uuid": "0965b615b24bda0ef330adc9f3da80e5df68da5c",
    "colab": {
     "base_uri": "https://localhost:8080/",
     "height": 244
    },
    "colab_type": "code",
    "id": "u4BwBpzSP2C3",
    "outputId": "cbf963a0-bbe8-4ace-89ce-efb8ddf2759d"
   },
   "outputs": [
    {
     "data": {
      "text/plain": [
       "numpy.float64"
      ]
     },
     "execution_count": 5,
     "metadata": {},
     "output_type": "execute_result"
    }
   ],
   "source": [
    "type(df_taxi['Dropoff_latitude'][0])"
   ]
  },
  {
   "cell_type": "code",
   "execution_count": 6,
   "metadata": {
    "_uuid": "1d7293c3af342c067e968d41ec69a4e6ea736fb9",
    "colab": {
     "base_uri": "https://localhost:8080/",
     "height": 140
    },
    "colab_type": "code",
    "id": "ZV7FAsT3SzY2",
    "outputId": "75d9585f-9165-4a45-c0d7-658f55e69561"
   },
   "outputs": [],
   "source": [
    "# df_taxi.columns"
   ]
  },
  {
   "cell_type": "markdown",
   "metadata": {
    "_uuid": "fa8e3ee51663a37d0c8b4cfae86376b9722e86ec"
   },
   "source": [
    "#### Creating Trip_time column. Here time is in seconds."
   ]
  },
  {
   "cell_type": "code",
   "execution_count": 7,
   "metadata": {
    "_uuid": "7ee0964dcad5a7306fb43407b602b07ad141f141"
   },
   "outputs": [
    {
     "data": {
      "text/plain": [
       "0      4.0\n",
       "1      4.0\n",
       "2    154.0\n",
       "3    246.0\n",
       "4    246.0\n",
       "Name: Trip_time, dtype: float64"
      ]
     },
     "execution_count": 7,
     "metadata": {},
     "output_type": "execute_result"
    }
   ],
   "source": [
    "t1 = pd.to_datetime(df_taxi['lpep_pickup_datetime'])\n",
    "t2 = pd.to_datetime(df_taxi['Lpep_dropoff_datetime'])\n",
    "df_taxi['Trip_time']=(t2-t1).astype('timedelta64[s]')\n",
    "df_taxi['Trip_time'].head()"
   ]
  },
  {
   "cell_type": "markdown",
   "metadata": {
    "_uuid": "b7a7f794b7d844679bd4e1ef853307e28564c40f",
    "colab_type": "text",
    "id": "dHV2B0dOTXgR"
   },
   "source": [
    "# <font color='darkred'>Question 1</font>\n",
    "\n",
    "## <font color='darkred'>•Programmatically download and load into your favorite analytical tool the trip data for September 2015.</font>\n",
    "\n",
    "\n",
    "## <font color='darkred'> •Report how many rows and columns of data you have loaded.</font>\n",
    "\n",
    "## <font color='blue'>Answer:   Rows: 1494926  and  Columns: 21</font> "
   ]
  },
  {
   "cell_type": "code",
   "execution_count": 8,
   "metadata": {
    "_uuid": "61d7b6cf4b4fa90604370926ec2cc97087f6a832",
    "colab": {
     "base_uri": "https://localhost:8080/",
     "height": 34
    },
    "colab_type": "code",
    "id": "O0N6Ga1BTbk4",
    "outputId": "467ea094-55c8-416c-d8a5-6480ad6f667e"
   },
   "outputs": [
    {
     "data": {
      "text/plain": [
       "(1494926, 22)"
      ]
     },
     "execution_count": 8,
     "metadata": {},
     "output_type": "execute_result"
    }
   ],
   "source": [
    "df_taxi.shape"
   ]
  },
  {
   "cell_type": "code",
   "execution_count": 9,
   "metadata": {
    "_uuid": "ae7fe518b96a6463540a44106ebefd7d599cccfb",
    "colab": {
     "base_uri": "https://localhost:8080/",
     "height": 52
    },
    "colab_type": "code",
    "id": "caN75XbAqjLe",
    "outputId": "cbf648d6-cb95-4928-a96f-18ce624f1b45"
   },
   "outputs": [
    {
     "name": "stdout",
     "output_type": "stream",
     "text": [
      "Number of Rows are :  1494926\n",
      "Number of Columns are :  22\n"
     ]
    }
   ],
   "source": [
    "print(\"Number of Rows are : \",df_taxi.shape[0])\n",
    "print(\"Number of Columns are : \",df_taxi.shape[1])"
   ]
  },
  {
   "cell_type": "markdown",
   "metadata": {
    "_uuid": "eea23be2ba41e049648b346bb4aaf2dae9778453",
    "colab_type": "text",
    "id": "ppcmWgDhUKj4"
   },
   "source": [
    "# <font color='darkred'>Question 2</font>\n",
    "\n",
    "# <font color='darkred'>• Plot a histogram of the number of the trip distance (“Trip Distance”).</font>\n",
    "\n",
    "# <font color='darkred'>• Report any structure you find and any hypotheses you have about that structure.</font>"
   ]
  },
  {
   "cell_type": "markdown",
   "metadata": {
    "_uuid": "4cacf1c5e56eec7d5b7972fe3a3341e15746d860"
   },
   "source": [
    "### Number of 0 distance Trips : 20,592"
   ]
  },
  {
   "cell_type": "code",
   "execution_count": 10,
   "metadata": {
    "_uuid": "41bf364f0bda233b0cb51df36e9f4dffc524ea5c",
    "colab": {
     "base_uri": "https://localhost:8080/",
     "height": 1004
    },
    "colab_type": "code",
    "id": "qChHDkVfUQpg",
    "outputId": "c3350151-efa7-4ea1-8ba8-eac765876a58"
   },
   "outputs": [],
   "source": [
    "# df_taxi['Trip_distance'].value_counts()"
   ]
  },
  {
   "cell_type": "markdown",
   "metadata": {
    "_uuid": "4a31bb11fdf9007bd37754bdbf79882833986401"
   },
   "source": [
    "### So there were nearly 20,592 trips which travelled no distance at all. For simplicity, lets keep those as an insight and remove those outliers. Also nearly 97.68% of data is between 0 and 15. So we will plot histogram of this much data."
   ]
  },
  {
   "cell_type": "code",
   "execution_count": 11,
   "metadata": {
    "_uuid": "5b383fc250827c7cadbc36bf52b4a814fcd991ee"
   },
   "outputs": [
    {
     "data": {
      "text/plain": [
       "0.0008194385541491686"
      ]
     },
     "execution_count": 11,
     "metadata": {},
     "output_type": "execute_result"
    }
   ],
   "source": [
    "(df_taxi[ (df_taxi['Trip_distance']>25) & (df_taxi['Trip_distance']<2500) ].shape[0])/(df_taxi).shape[0]"
   ]
  },
  {
   "cell_type": "markdown",
   "metadata": {
    "_uuid": "8177ec12f13921262aa39c2fd55825c03d993521",
    "colab": {},
    "colab_type": "code",
    "id": "VXFUFoaioUr1"
   },
   "source": [
    "# <font color='darkred'>Q2.A • Plot a histogram of the number of the trip distance (“Trip Distance”).</font>\n",
    "\n"
   ]
  },
  {
   "cell_type": "code",
   "execution_count": 12,
   "metadata": {
    "_uuid": "c08ee57e1d9f9def63508a31ec20765e9ca2ccd0",
    "colab": {},
    "colab_type": "code",
    "id": "De1BQc8eoUvT"
   },
   "outputs": [
    {
     "data": {
      "image/png": "[encoded data removed]",
      "text/plain": [
       "<Figure size 1440x1440 with 3 Axes>"
      ]
     },
     "metadata": {},
     "output_type": "display_data"
    }
   ],
   "source": [
    "import seaborn as sns\n",
    "import matplotlib.mlab as mlab\n",
    "import scipy.stats as stat\n",
    "import matplotlib\n",
    "\n",
    "sns.set()\n",
    "matplotlib.rc('xtick', labelsize=20)     \n",
    "matplotlib.rc('ytick', labelsize=20)\n",
    "plt.figure(1,figsize=(20,20))\n",
    "\n",
    "plt.subplot(221)\n",
    "plt.hist(df_taxi['Trip_distance'],bins=50)\n",
    "plt.title('Histogram of Trip Distance\\n(Raw Data- without removing outliers)',size=20)\n",
    "plt.xlabel(\"Distance in Miles\",size=18)\n",
    "plt.grid(True)\n",
    "plt.ylabel(\"Count\",size=20)\n",
    "\n",
    "\n",
    "plt.subplot(222)\n",
    "plt.hist(df_taxi['Trip_distance'],log=True,bins=50)\n",
    "plt.title('Histogram of log of Trip Distance\\n(Raw Data -without removing outliers)',size=20)\n",
    "plt.xlabel(\"Distance in Miles\",size=18)\n",
    "plt.ylabel(\"Count\",size=20)\n",
    "plt.grid(True)\n",
    "\n",
    "df_taxi_subset1 = df_taxi[(df_taxi['Trip_distance'] >0) & (df_taxi['Trip_distance'] <= 15)]\n",
    "\n",
    "plt.subplot(223)\n",
    "plt.hist(df_taxi_subset1['Trip_distance'],bins=40)\n",
    "plt.title('Histogram of Trip Distance (Removing Outliers) \\nie including only >0 to <=15 ~ 97.6 % of data',size=20)\n",
    "plt.xlabel(\"Distance in Miles\",size=18)\n",
    "plt.ylabel(\"Count\",size=20)\n",
    "plt.grid(True)\n",
    "\n",
    "plt.show()"
   ]
  },
  {
   "cell_type": "markdown",
   "metadata": {
    "_uuid": "d42f239537fbd6d2be3972b2a06e717570e8aac3"
   },
   "source": [
    "### 1. Raw data of Trip_distance is plotted.(Without removing outliers)\n",
    "### 2. Logarithm of Trip_distance is plotted.(Without removing outliers)\n",
    "### 3. Removing Outliers(trip_distance=0 and trip_distance>15) and then plotting histogram."
   ]
  },
  {
   "cell_type": "markdown",
   "metadata": {
    "_uuid": "757404fdaba93d327129933fa50d857e6e97f85f",
    "colab": {},
    "colab_type": "code",
    "id": "fS3txlAWoU5R"
   },
   "source": [
    "# <font color='darkred'>Q2.B • Report any structure you find and any hypotheses you have about that structure.</font>"
   ]
  },
  {
   "cell_type": "markdown",
   "metadata": {
    "_uuid": "a79e47376fb47410489cf339be373dba218a838e",
    "colab": {},
    "colab_type": "code",
    "id": "25Y3LpnroU8o"
   },
   "source": [
    "# <font color='blue'> • Insights and Hypothesis:\n",
    "\n",
    "># <font color='blue'>• Statistical Inference: </font>\n",
    ">> ###   <font color='blue'>    • Trip Distance is clearly Right Skewed ie it has mean greater than the median and it is Assymetric in nature.\n",
    ">> ###   <font color='blue'>   • The distribution has a \"structure of LogNormal Distribution\".\n",
    ">>###    <font color='blue'>   • There are nearly 20,500 zero distance trips.\n",
    ">>###   <font color='blue'>     \n",
    "> # <font color='blue'> • Qualitative Inferences:\n",
    ">>###    <font color='blue'>    • Most of the people taking taxi travel less distance ie. \n",
    ">>>####    <font color='blue'>        • 83% people travel distance less than 5 miles in taxi  \n",
    ">>>####     <font color='blue'>       • 12.6% people travel between 5 and 10 miles\n",
    ">>>####    <font color='blue'>        • 3.5% people travel between 10 and 25 miles \n",
    ">>>####   <font color='blue'>         • 0.08% people travel more than 25 miles which is too much rare.\n",
    ">>###   <font color='blue'>     • There are 10 trips with > 100 miles distance, out of which extreme two are 603 miles and 246 miles respectively.\n",
    ">>####     <font color='blue'>   \n",
    " "
   ]
  },
  {
   "cell_type": "markdown",
   "metadata": {
    "_uuid": "949bfd06a8c3d309a0c5030f958ff46f8858f4e5",
    "colab": {},
    "colab_type": "code",
    "id": "ZbBUix5koVQd"
   },
   "source": [
    "# <font color='darkred'> Question 3\n",
    "## <font color='darkred'>• Report mean and median trip distance grouped by hour of day.\n",
    "\n",
    "## <font color='darkred'>• We’d like to get a rough sense of identifying trips that originate or terminate at one of the NYC area airports. Can you provide a count of how many transactions fit this criteria, the average fare, and any other interesting characteristics of these trips."
   ]
  },
  {
   "cell_type": "code",
   "execution_count": 13,
   "metadata": {
    "_uuid": "e4fdaa48b03b9968cf36a5a132771be25046d117"
   },
   "outputs": [],
   "source": [
    "### Creating time (in Hour) column"
   ]
  },
  {
   "cell_type": "code",
   "execution_count": 14,
   "metadata": {
    "_uuid": "87ea44c398a78f72432d6e9b9f0f1f3daf6f972c"
   },
   "outputs": [
    {
     "data": {
      "text/plain": [
       "1494921    23\n",
       "1494922    23\n",
       "1494923    23\n",
       "1494924    23\n",
       "1494925    23\n",
       "Name: hour, dtype: int64"
      ]
     },
     "execution_count": 14,
     "metadata": {},
     "output_type": "execute_result"
    }
   ],
   "source": [
    "import datetime\n",
    "df_taxi['hour']=[ t.hour for t in pd.to_datetime(df_taxi['lpep_pickup_datetime'])]\n",
    "df_taxi['hour'].tail()"
   ]
  },
  {
   "cell_type": "code",
   "execution_count": 15,
   "metadata": {
    "_uuid": "10b575d240514d4bed04a07546b824422bfae7b7"
   },
   "outputs": [
    {
     "data": {
      "text/plain": [
       "Index(['VendorID', 'lpep_pickup_datetime', 'Lpep_dropoff_datetime',\n",
       "       'Store_and_fwd_flag', 'RateCodeID', 'Pickup_longitude',\n",
       "       'Pickup_latitude', 'Dropoff_longitude', 'Dropoff_latitude',\n",
       "       'Passenger_count', 'Trip_distance', 'Fare_amount', 'Extra', 'MTA_tax',\n",
       "       'Tip_amount', 'Tolls_amount', 'Ehail_fee', 'improvement_surcharge',\n",
       "       'Total_amount', 'Payment_type', 'Trip_type ', 'Trip_time', 'hour'],\n",
       "      dtype='object')"
      ]
     },
     "execution_count": 15,
     "metadata": {},
     "output_type": "execute_result"
    }
   ],
   "source": [
    "df_taxi.columns"
   ]
  },
  {
   "cell_type": "markdown",
   "metadata": {
    "_uuid": "7bcde9cc56913f613a92b60b73d766b0d7f9d52b"
   },
   "source": [
    "## <font color='darkred'>Q3.A • Report mean and median trip distance grouped by hour of day.\n"
   ]
  },
  {
   "cell_type": "markdown",
   "metadata": {
    "_uuid": "1068829e65cb3c8d6e7cb33857c39592b5d4c826"
   },
   "source": [
    "# <font color='blue'> Answer 3.A : Mean and Median Trip Distance Grouped by Hour of the day are in below Data Frame"
   ]
  },
  {
   "cell_type": "code",
   "execution_count": 16,
   "metadata": {
    "_uuid": "d881139542a2aa02cc9783e900b4c691d2947f72"
   },
   "outputs": [
    {
     "data": {
      "text/html": [
       "<div>\n",
       "<style scoped>\n",
       "    .dataframe tbody tr th:only-of-type {\n",
       "        vertical-align: middle;\n",
       "    }\n",
       "\n",
       "    .dataframe tbody tr th {\n",
       "        vertical-align: top;\n",
       "    }\n",
       "\n",
       "    .dataframe thead th {\n",
       "        text-align: right;\n",
       "    }\n",
       "</style>\n",
       "<table border=\"1\" class=\"dataframe\">\n",
       "  <thead>\n",
       "    <tr style=\"text-align: right;\">\n",
       "      <th></th>\n",
       "      <th>Hour</th>\n",
       "      <th>Mean_distance</th>\n",
       "      <th>Median_distance</th>\n",
       "    </tr>\n",
       "  </thead>\n",
       "  <tbody>\n",
       "    <tr>\n",
       "      <th>0</th>\n",
       "      <td>0</td>\n",
       "      <td>3.115276</td>\n",
       "      <td>2.20</td>\n",
       "    </tr>\n",
       "    <tr>\n",
       "      <th>1</th>\n",
       "      <td>1</td>\n",
       "      <td>3.017347</td>\n",
       "      <td>2.12</td>\n",
       "    </tr>\n",
       "    <tr>\n",
       "      <th>2</th>\n",
       "      <td>2</td>\n",
       "      <td>3.046176</td>\n",
       "      <td>2.14</td>\n",
       "    </tr>\n",
       "    <tr>\n",
       "      <th>3</th>\n",
       "      <td>3</td>\n",
       "      <td>3.212945</td>\n",
       "      <td>2.20</td>\n",
       "    </tr>\n",
       "    <tr>\n",
       "      <th>4</th>\n",
       "      <td>4</td>\n",
       "      <td>3.526555</td>\n",
       "      <td>2.36</td>\n",
       "    </tr>\n",
       "  </tbody>\n",
       "</table>\n",
       "</div>"
      ],
      "text/plain": [
       "   Hour  Mean_distance  Median_distance\n",
       "0     0       3.115276             2.20\n",
       "1     1       3.017347             2.12\n",
       "2     2       3.046176             2.14\n",
       "3     3       3.212945             2.20\n",
       "4     4       3.526555             2.36"
      ]
     },
     "execution_count": 16,
     "metadata": {},
     "output_type": "execute_result"
    }
   ],
   "source": [
    "df_hour=pd.DataFrame()\n",
    "df_hour['Hour']=range(0,24)\n",
    "df_hour['Mean_distance']=df_taxi.groupby('hour').mean()['Trip_distance']\n",
    "df_hour['Median_distance']=df_taxi.groupby('hour').median()['Trip_distance']\n",
    "df_hour.head()"
   ]
  },
  {
   "cell_type": "markdown",
   "metadata": {
    "_uuid": "500e6fd590df110feb77df2d85a87dc0964ee38a"
   },
   "source": [
    "## <font color='blue'> 3.A (Continued) Graphs Representing Mean, Median and Hour of the day.\n"
   ]
  },
  {
   "cell_type": "code",
   "execution_count": 17,
   "metadata": {
    "_uuid": "c1e27930628aee9a1379db0c5b162ccb0213b18b"
   },
   "outputs": [
    {
     "data": {
      "image/png": "[encoded data removed]",
      "text/plain": [
       "<Figure size 720x576 with 1 Axes>"
      ]
     },
     "metadata": {},
     "output_type": "display_data"
    }
   ],
   "source": [
    "plt.figure(figsize=(10,8))\n",
    "plt.plot(df_hour['Hour'],df_hour['Mean_distance'],'bo-',linewidth=2,label='Mean Distance')\n",
    "plt.plot(df_hour['Hour'],df_hour['Median_distance'],'ro-',linewidth=2,label='Median Distance')\n",
    "plt.legend(loc='upper right',fontsize=20)\n",
    "plt.title('Graph representing Mean and Median for corresponding Hour of Day',size=20)\n",
    "plt.xlabel(\"Hour of the Day\",size=22)\n",
    "plt.ylabel(\"Distance (in Miles)\",size=20)\n",
    "plt.grid(True)\n"
   ]
  },
  {
   "cell_type": "markdown",
   "metadata": {
    "_uuid": "38f9955db4b568153316b27ed5e2a1e84e131317"
   },
   "source": [
    "## <font color='blue'> Inference from above graph:\n",
    ">###    <font color='blue'>• There are more long distance trips in morning 5 AM to 6 AM as compared to whole day.\n",
    ">###  <font color='blue'> • Also we can see that morning mean and median trips are much longer than as compared to evening trips. This might be due to reason that people might be taking taxi in morning if they do not want to be late to work and in evening they take more public transportation. It might be any other case too."
   ]
  },
  {
   "cell_type": "markdown",
   "metadata": {
    "_uuid": "b3c784b7e0f1b21bd6b370ba12f0aea60f5833b9"
   },
   "source": [
    "## <font color='darkred'>Q3.B • We’d like to get a rough sense of identifying trips that originate or terminate at one of the NYC area airports. Can you provide a count of how many transactions fit this criteria, the average fare, and any other interesting characteristics of these trips."
   ]
  },
  {
   "cell_type": "markdown",
   "metadata": {
    "_uuid": "d090a7f1e0b7485e1a274a4019ea04ffa2b55a7f"
   },
   "source": [
    "## <font color='blue'>I have taken three airports into consideration and Logitudes and Latitudes are found from google maps. The references are also given below.   \n",
    "   \n",
    "|Latitude                      |     Longitude        |                           Airport         |                         \n",
    " |-|-|-|\n",
    "|40.6551573                 |   -73.7800813   |                      John F Kennedy (JFK)             |                   \n",
    "|40.6884901       |-74.1743015        |     Newark (EWR) across the river from Manhattan in New Jersey            \n",
    "|40.77262         |    -73.8759       | La Guardia (LGA) in the Queens borough of NYC               |              \n",
    "\n",
    "\n",
    "References: Latitudes and Longitudes from Google Maps Coordinates\n",
    "https://www.google.com/maps/place/John+F.+Kennedy+International+Airport/@40.6551573,-73.7800813,5459m/data=!3m1!1e3!4m5!3m4!1s0x89c26650d5404947:0xec4fb213489f11f0!8m2!3d40.641312!4d-73.7781394?hl=en-US\n",
    "https://www.google.com/maps/place/Newark+Liberty+International+Airport/@40.6895232,-74.1752402,341m/data=!3m1!1e3!4m12!1m6!3m5!1s0x89c252e1c5ec0cef:0xb3f3b437c5d7f286!2sNewark+Liberty+International+Airport!8m2!3d40.6895314!4d-74.1744624!3m4!1s0x89c252e1c5ec0cef:0xb3f3b437c5d7f286!8m2!3d40.6895314!4d-74.1744624?hl=en-US\n",
    "https://www.google.com/maps/search/La+Guardia+(LGA)+in+the+Queens/@40.77262,-73.8759,1362m/data=!3m1!1e3?hl=en-US"
   ]
  },
  {
   "cell_type": "markdown",
   "metadata": {
    "_uuid": "82814092b310a6b5396701bba7ce1df0e1e7d5d4"
   },
   "source": [
    "### <font color='blue' > Approach:  We will take small area around the latitide and longitudes to get an average of all the taxi that dropped off to and picked up from near airport and not only exact  coordinates of airport because all taxis pickup and drop around airport (near parking, etc..).\n",
    "\n",
    "### <font color='blue' > Note that I could also have used RateCodeId = 2 and 3 which involves JFK and Newark, but it was \"NEVER MENTIONED\" in documentation that those rateCodeID=2 \"involves trips from JFK\". In short, we had some incomplete informations regarding RateCodeID. So I decided not to use it."
   ]
  },
  {
   "cell_type": "markdown",
   "metadata": {
    "_uuid": "a1e8052cdc06bd8b1f759b99e23b7c633e7a7a72"
   },
   "source": [
    "### I have used compact Numpy Vectorization to perform operation on whole DataFrame to calculate Which trips involve pickup or drop off to Airport."
   ]
  },
  {
   "cell_type": "code",
   "execution_count": 1,
   "metadata": {
    "_uuid": "1c730f8c4520eb023cd652b2e9c8fe26b0bc72e9"
   },
   "outputs": [],
   "source": [
    "airportlist2=[]\n",
    "\n",
    "a=pd.DataFrame()\n",
    "a['Pickup_latitude']=df_taxi['Pickup_latitude'].copy()\n",
    "a['Dropoff_latitude']=df_taxi['Dropoff_latitude'].copy()\n",
    "a['Pickup_longitude']=df_taxi['Pickup_longitude'].copy()\n",
    "a['Dropoff_longitude']=df_taxi['Dropoff_longitude'].copy()\n",
    "a.head()\n",
    "a=np.array(a)\n",
    "x=((a[:,0] > 40.63899) & (a[:,0] < 40.666573) & (a[:,2] > -73.810) & (a[:,2]< -73.77500)) | ((a[:,1] > 40.63899) & (a[:,1] < 40.666573) & (a[:,3] > -73.81199) & (a[:,3] <-73.77500))\n",
    "airportlist2=[1]\n",
    "airportlist3=['None' for x in range(0,len(a))]\n",
    "airportlist2=np.multiply(airportlist2,x)\n",
    "for p in range(0,len(airportlist2)):\n",
    "    if(airportlist2[p]==1):\n",
    "        airportlist3[p]='JFK'\n",
    "x=((a[:,0] > 40.66994) & (a[:,0] < 40.70669) & (a[:,2] > -74.1959) & (a[:,2]<-74.1509)) | ((a[:,1] > 40.66994) & (a[:,1]<40.70669) & (a[:,3]> -74.1959) & (a[:,3]<-74.1509))\n",
    "\n",
    "airportlist2=[1]\n",
    "airportlist2=np.multiply(airportlist2,x)\n",
    "for p in range(0,len(airportlist2)):\n",
    "    if(airportlist2[p]==1):\n",
    "        airportlist3[p]='EWR'\n",
    "x=((a[:,0] > 40.7659) &  (a[:,0]< 40.7830) &  (a[:,2] >-73.889) & (a[:,2]<-73.8500 )) | ((a[:,1] > 40.7659) & (a[:,1] <40.7830) & (a[:,3] > -73.889) & (a[:,3]<-73.8500))\n",
    "\n",
    "airportlist2=[1]\n",
    "airportlist2=np.multiply(airportlist2,x)\n",
    "for p in range(0,len(airportlist2)):\n",
    "    if(airportlist2[p]==1):\n",
    "        airportlist3[p]='LGA'\n",
    "\n"
   ]
  },
  {
   "cell_type": "code",
   "execution_count": 19,
   "metadata": {
    "_uuid": "99b5eeb8e5259cbe0609505357147f8ce4da69bf"
   },
   "outputs": [
    {
     "data": {
      "text/plain": [
       "None    1454711\n",
       "LGA       25715\n",
       "JFK       13775\n",
       "EWR         725\n",
       "Name: Airport, dtype: int64"
      ]
     },
     "execution_count": 19,
     "metadata": {},
     "output_type": "execute_result"
    }
   ],
   "source": [
    "df_taxi['Airport']=airportlist3\n",
    "df_taxi['Airport'].value_counts()"
   ]
  },
  {
   "cell_type": "markdown",
   "metadata": {
    "_uuid": "ff38c9be7f7d910ba0357cac000849c4137f0f57"
   },
   "source": [
    "## <font color='darkred'> Can you provide a count of how many transactions fit this criteria?\n",
    "\n",
    "## <font color='blue'> Please find below the approximate number of count that indicates number of drop off or pick up at any of the three given airports.\n",
    "    \n",
    "    \n",
    " |  Airport |Number of Trips|\n",
    "|   -|-|\n",
    "|LGA   |    25,715|\n",
    "|JFK   |    13,775|\n",
    "|EWR   |      725|\n",
    "| None |   1,454,711|"
   ]
  },
  {
   "cell_type": "code",
   "execution_count": 20,
   "metadata": {
    "_uuid": "3d60cf4cd8d91fae86beee92b3f35a96c5566de7"
   },
   "outputs": [
    {
     "data": {
      "text/plain": [
       "None    1454711\n",
       "LGA       25715\n",
       "JFK       13775\n",
       "EWR         725\n",
       "Name: Airport, dtype: int64"
      ]
     },
     "execution_count": 20,
     "metadata": {},
     "output_type": "execute_result"
    }
   ],
   "source": [
    "df_taxi['Airport'].value_counts()"
   ]
  },
  {
   "cell_type": "markdown",
   "metadata": {
    "_uuid": "066a2905a374cddfc655d52d8abf81fa5aa61cbc"
   },
   "source": [
    "# <font color='darkred'> The average fare and any other interesting characteristics of these trips."
   ]
  },
  {
   "cell_type": "markdown",
   "metadata": {
    "_uuid": "f72b0b46d6bcc37ebe95ce09e0894a4be3835e5f"
   },
   "source": [
    "### <font color='blue'>There were many insights from Data that were noticed. They are:\n",
    " \n",
    "### <font color='blue'>Comparison between Airport Trips and Rest all Trips. \n",
    "\n",
    "|Feature|Airport Trips| Non Airport Trips|\n",
    "|-|-|-|\n",
    "|Fare Amount|28.00|12.54|\n",
    "|Total Amount |33.91 |15.03|\n",
    "|Tip Amount  |3.74| 1.23|\n",
    "|Trip Distance| 8.73 |2.96 |\n",
    "|Trip Time | 1700.67 | 1215.75|\n",
    "|Payment type-Credit card |65% |52%|\n",
    "\n",
    "\n",
    "> ### <font color='blue'> We can clearly see that Average Fare Amount, Total Amount, Tip Amount, Trip Distance and Trip Time are more for airports and less for Non Airport trips.\n",
    " \n",
    "\n",
    "\n",
    "|Airport| Tolls_amount|Trip_distance|Fare_amount|Extra|Tip_%|Trip_time|\n",
    "|-|-|-|-|-|-|-|\n",
    "|EWR   |  9.545710|20.35|75.72|0.193|11.02|3244.25|\n",
    "|JFK    | 0.975228|13.41|40.62|0.202|9.38|2376.71|\n",
    "|LGA     |1.019293|5.90 |19.90|0.263|9.75|1295.01|\n",
    "|None    |0.094498|2.80 |12.11|0.354|6.55|1202.35|\n",
    "\n",
    "\n",
    "### <font color='blue'> It can be inferred from above that EWR is far away from NYC core city which leads to higher Fare, higher Toll, higher Trip time and higher tips. BUT WAIT!!! There is a interesting characteristic here!  EWR has lowest Extra as compared to other trips. So Why is that? \n",
    "\n",
    "> ### <font color='blue'>It is lowest for EWR and highest for Non Airport trips because Extras include Rush Hour and Over night charges which are not possible mostly on Airport highways because the Rush Hour would effect city roads and not Airport Highways and Over night charges are also less for Airport People because people generally have tendency to go airport and take flight during day time instead of night time. Though sometimes there might be negligible weight of overnight charges for airports but not more than inside city."
   ]
  },
  {
   "cell_type": "code",
   "execution_count": 21,
   "metadata": {
    "_uuid": "f590e8c2420270023d87ccdebbf2ff101960e0f5"
   },
   "outputs": [
    {
     "name": "stdout",
     "output_type": "stream",
     "text": [
      "Average fare Amount for ALL TRIPS  12.54319751613129\n",
      "Average fare Amount for AIRPORT TRIPS  28.006853910232493\n",
      "Average Total Amount for ALL TRIPS  15.032145751981083\n",
      "Average Total Amount for AIRPORT TRIPS  33.91363073481325\n",
      "Tip Amount for ALL TRIPS  1.2357267048672937\n",
      "Tip Amount for AIRPORT TRIPS  3.7494947159020917\n",
      "Trip Distance for ALL TRIPS  2.9681408511189864\n",
      "Trip Distance for AIRPORT TRIPS  8.736023623026162\n",
      "Trip Time for ALL TRIPS  1215.7577853351938\n",
      "Trip Time for AIRPORT TRIPS  1700.6724107919931\n",
      "Payment Type for ALL TRIPS  2    783699\n",
      "1    701287\n",
      "3      5498\n",
      "4      4368\n",
      "5        74\n",
      "Name: Payment_type, dtype: int64\n",
      "Payment Type for AIRPORT TRIPS  1    25921\n",
      "2    14198\n",
      "4       57\n",
      "3       38\n",
      "5        1\n",
      "Name: Payment_type, dtype: int64\n"
     ]
    }
   ],
   "source": [
    "# Average Fare of All trips vs Average Fare of Airport Trips\n",
    "print(\"Average fare Amount for ALL TRIPS \",df_taxi['Fare_amount'].mean())\n",
    "\n",
    "print(\"Average fare Amount for AIRPORT TRIPS \",df_taxi[df_taxi['Airport']!='None']['Fare_amount'].mean())\n",
    "# Total Fare of All trips vs Total Fare of Airport Trips\n",
    "print(\"Average Total Amount for ALL TRIPS \",df_taxi['Total_amount'].mean())\n",
    "\n",
    "print(\"Average Total Amount for AIRPORT TRIPS \",df_taxi[df_taxi['Airport']!='None']['Total_amount'].mean())\n",
    "# Tip Amount of All trips vs Tip Amount of Airport Trips\n",
    "print(\"Tip Amount for ALL TRIPS \",df_taxi['Tip_amount'].mean())\n",
    "\n",
    "print(\"Tip Amount for AIRPORT TRIPS \",df_taxi[df_taxi['Airport']!='None']['Tip_amount'].mean())\n",
    "# Trip Distance of All trips vs Trip Distance of Airport Trips\n",
    "print(\"Trip Distance for ALL TRIPS \",df_taxi['Trip_distance'].mean())\n",
    "\n",
    "print(\"Trip Distance for AIRPORT TRIPS \",df_taxi[df_taxi['Airport']!='None']['Trip_distance'].mean())\n",
    "# Trip Time of All trips vs Trip Distance of Airport Trips\n",
    "print(\"Trip Time for ALL TRIPS \",df_taxi['Trip_time'].mean())\n",
    "\n",
    "print(\"Trip Time for AIRPORT TRIPS \",df_taxi[df_taxi['Airport']!='None']['Trip_time'].mean())\n",
    "# Trip Time of All trips vs Trip Distance of Airport Trips\n",
    "print(\"Payment Type for ALL TRIPS \",df_taxi['Payment_type'].value_counts())\n",
    "\n",
    "print(\"Payment Type for AIRPORT TRIPS \",df_taxi[df_taxi['Airport']!='None']['Payment_type'].value_counts())\n",
    "# df_taxi.groupby('Airport').mean()['Tolls_amount']\n",
    "# df_taxi.groupby('Airport').mean()['Trip_distance']\n",
    "# df_taxi.groupby('Airport').mean()['Fare_amount']\n",
    "# df_taxi.groupby('Airport').mean()['Extra']\n",
    "# df_taxi.groupby('Airport').mean()['Tip_%']\n",
    "# df_taxi.groupby('Airport').mean()['Trip_time']"
   ]
  },
  {
   "cell_type": "markdown",
   "metadata": {
    "_uuid": "424d4b43ef23c108d0c939bca7e589e4d137a245"
   },
   "source": [
    "# <font color='darkred'>Question 4\n",
    "\n",
    "# <font color='darkred'> • Build a derived variable for tip as a percentage of the total fare.\n",
    "\n",
    "#  <font color='darkred'> • Build a predictive model for tip as a percentage of the total fare. Use  as much of the data as you like (or all of it). Provide an estimate of performance  using an appropriate sample, and show your work.\n"
   ]
  },
  {
   "cell_type": "markdown",
   "metadata": {
    "_uuid": "c52be0eacf3a76c3ba77f59a77fe4b5a78d60c96"
   },
   "source": [
    "\n",
    "# <font color='blue'>  Answer 4.A\n",
    "\n",
    "# <font color='blue'> I have created new column named 'Tip_%' which will be representing: Tip as Percentage of the 'Total_amount' (which is total fare).   \n",
    "## Note that there was another column named Fare_amount which could also have been taken, but for simplicity I have assumed that we need to consider Total_amount column."
   ]
  },
  {
   "cell_type": "code",
   "execution_count": 22,
   "metadata": {
    "_uuid": "34e15e9664c3be2e976fa2f493946d3a2d4b66ab"
   },
   "outputs": [
    {
     "name": "stdout",
     "output_type": "stream",
     "text": [
      "Initially there are 4172 NA Values \n",
      "We replace all NA values by 0.\n",
      "Just for confirming now # of NA values are :  0\n"
     ]
    }
   ],
   "source": [
    "df_taxi['Tip_%']=100*df_taxi['Tip_amount']/df_taxi['Total_amount']\n",
    "print(\"Initially there are {} NA Values \".format(df_taxi['Tip_%'].isna().sum()))\n",
    "df_taxi['Tip_%'].fillna(0,inplace=True)\n",
    "df_taxi.drop('Tip_amount',axis=1,inplace=True)\n",
    "print(\"We replace all NA values by 0.\")\n",
    "print(\"Just for confirming now # of NA values are : \",df_taxi['Tip_%'].isna().sum())"
   ]
  },
  {
   "cell_type": "markdown",
   "metadata": {
    "_uuid": "55b256983f43354b2d3adf95f56df7106c865a72"
   },
   "source": [
    "#### There were 4172 NA Values in Tip_% column created, so I replaced them with 0% which means there was 0% tip."
   ]
  },
  {
   "cell_type": "code",
   "execution_count": 23,
   "metadata": {
    "_uuid": "549604a52353f5264eade40df87bce3632bcfad3",
    "scrolled": true
   },
   "outputs": [
    {
     "data": {
      "text/plain": [
       "0.0     60.0\n",
       "17.0    21.0\n",
       "20.0     5.0\n",
       "23.0     3.0\n",
       "13.0     1.0\n",
       "Name: Tip_%, dtype: float64"
      ]
     },
     "execution_count": 23,
     "metadata": {},
     "output_type": "execute_result"
    }
   ],
   "source": [
    "(100*df_taxi['Tip_%'].round().value_counts()/len(df_taxi)).round().iloc[:5]"
   ]
  },
  {
   "cell_type": "markdown",
   "metadata": {
    "_uuid": "dfc1c527e45d774fd15dcf73bfd99ce115d31756"
   },
   "source": [
    "# <font color='blue'> Insight 4.A :\n",
    "# <font color='blue'> Top 5 Notable Values of Tip %(Rounded)\n",
    "### <font color='blue'> Almost 60% people give no tip.\n",
    "### <font color='blue'>Most of the people tend to give 17% or 20% of the tip or No tip.\n",
    "% of tip  |  % of People   \n",
    "-|-\n",
    "0.0  |   60.0\n",
    "**17.0**  | **21.0**\n",
    "**20.0**   |  **5.0**\n",
    "23.0    | 3.0\n",
    "13.0     |1.0\n",
    "Other | 10"
   ]
  },
  {
   "cell_type": "code",
   "execution_count": 24,
   "metadata": {
    "_uuid": "c368c7ea1146f08477de369863a39a1123a5e003"
   },
   "outputs": [
    {
     "data": {
      "image/png": "[encoded data removed]",
      "text/plain": [
       "<Figure size 720x720 with 1 Axes>"
      ]
     },
     "metadata": {},
     "output_type": "display_data"
    }
   ],
   "source": [
    "import seaborn as sns\n",
    "import matplotlib\n",
    "import matplotlib.pyplot as plt\n",
    "%matplotlib inline\n",
    "sns.set()\n",
    "matplotlib.rc('xtick', labelsize=20)     \n",
    "matplotlib.rc('ytick', labelsize=20)\n",
    "plt.figure(figsize=(10,10))\n",
    "plt.hist(df_taxi['Tip_%'],bins=40)\n",
    "plt.title('Histogram of Tip% for 1,494,926 observations',size=20)\n",
    "plt.xlabel(\"Tip % \",size=22)\n",
    "plt.ylabel(\"No of Trips\",size=20)\n",
    "plt.grid(True)"
   ]
  },
  {
   "cell_type": "markdown",
   "metadata": {
    "_uuid": "b7e5a6ed6a04c5e09c512631c0dcfdb0fa7b247e"
   },
   "source": [
    "\n",
    "#  <font color='darkred'> • Build a predictive model for tip as a percentage of the total fare. Use  as much of the data as you like (or all of it). Provide an estimate of performance  using an appropriate sample, and show your work.\n"
   ]
  },
  {
   "cell_type": "markdown",
   "metadata": {
    "_uuid": "eb0f7acd4d193a484e657ae277573fed6e34c3c3"
   },
   "source": [
    "# <font color='blue'> 1. Data Preprocessing:\n",
    "\n",
    "> ### <font color='limegreen'> Removing Total Amount <=0.  Note that we could have replaced them with something other(Mean, Median or Mode), but in our whole data of 1494926, we were having only handfull(6500) which were outliers and we dont want our model to concentrate more on these kind of outliers, so better we remove them.\n",
    "    \n",
    "> ### <font color='limegreen'>Dropping 'Ehail_fee' column which was useless (100% NAN Values)\n",
    "    \n",
    "> ### <font color='limegreen'> Removing rows with RateCodeID values 99 which is invalid. There were 4 rows in total and i removed it because it was having many other columns invalid value(eg:  Trip_distance =0, Passenger Count=0, DropOff Longitude and Latitue both 0). There were only 4 such rows, so I removed them.  \n",
    "    \n",
    "> ### <font color='limegreen'>  Removing rows with 0 passenger count. We removed it because there were only 267 rows in 1494926 observations.\n",
    "    \n",
    "> ### <font color='limegreen'>  Creating a new column with Trip_distance_Zero and Keeping its value 1 if the distance was 0.\n",
    ">### <font color='limegreen'>  Replacing Trip_Distance having value 0 with mean distance 3.0117792040867934 (which we got by doing mean of Trip_distance values - excluding values with distance 0)\n",
    "    \n",
    "> ### <font color='limegreen'>removing Fare_amount ==0 (There were 288 such columns)\n"
   ]
  },
  {
   "cell_type": "code",
   "execution_count": 25,
   "metadata": {
    "_uuid": "7b27ffa729659ab9a68dc6fd2ad310acacf1cd4b"
   },
   "outputs": [
    {
     "name": "stdout",
     "output_type": "stream",
     "text": [
      "Removing 6589 rows with Total Amount <=0 \n"
     ]
    },
    {
     "name": "stderr",
     "output_type": "stream",
     "text": [
      "/opt/conda/lib/python3.6/site-packages/pandas/core/frame.py:3697: SettingWithCopyWarning: \n",
      "A value is trying to be set on a copy of a slice from a DataFrame\n",
      "\n",
      "See the caveats in the documentation: http://pandas.pydata.org/pandas-docs/stable/indexing.html#indexing-view-versus-copy\n",
      "  errors=errors)\n"
     ]
    },
    {
     "name": "stdout",
     "output_type": "stream",
     "text": [
      "Ehail_fee column with 100% missing data dropped.\n",
      "Rows with RateCodeID = 99 dropped. There were 4 such rows \n",
      "Rows with Passenger_count = 0 dropped\n",
      "Mean is : 3.0117792040867934\n"
     ]
    },
    {
     "name": "stderr",
     "output_type": "stream",
     "text": [
      "/opt/conda/lib/python3.6/site-packages/ipykernel_launcher.py:20: SettingWithCopyWarning: \n",
      "A value is trying to be set on a copy of a slice from a DataFrame.\n",
      "Try using .loc[row_indexer,col_indexer] = value instead\n",
      "\n",
      "See the caveats in the documentation: http://pandas.pydata.org/pandas-docs/stable/indexing.html#indexing-view-versus-copy\n",
      "/opt/conda/lib/python3.6/site-packages/pandas/core/generic.py:5890: SettingWithCopyWarning: \n",
      "A value is trying to be set on a copy of a slice from a DataFrame\n",
      "\n",
      "See the caveats in the documentation: http://pandas.pydata.org/pandas-docs/stable/indexing.html#indexing-view-versus-copy\n",
      "  self._update_inplace(new_data)\n",
      "/opt/conda/lib/python3.6/site-packages/ipykernel_launcher.py:27: UserWarning: Boolean Series key will be reindexed to match DataFrame index.\n"
     ]
    },
    {
     "name": "stdout",
     "output_type": "stream",
     "text": [
      "New column Trip_distance_Zero created.\n",
      "Trip_Distance having values 0, replaced with mean =  3.0117792040867934\n",
      "Removing 288 rows with Fare Amount <=0 \n"
     ]
    }
   ],
   "source": [
    "print(\"Removing {} rows with Total Amount <=0 \".format(df_taxi[(df_taxi['Total_amount']<=0)].shape[0]))\n",
    "df_taxi_tips=df_taxi[(df_taxi['Total_amount']>0)]\n",
    "\n",
    "df_taxi_tips.drop(columns='Ehail_fee',inplace=True)\n",
    "print(\"Ehail_fee column with 100% missing data dropped.\")\n",
    "\n",
    "i=df_taxi_tips[(df_taxi_tips['RateCodeID']==99)].index\n",
    "df_taxi_tips.drop(index=i,axis=0,inplace=True)\n",
    "print(\"Rows with RateCodeID = 99 dropped. There were 4 such rows \")\n",
    "\n",
    "\n",
    "i=df_taxi_tips[(df_taxi_tips['Passenger_count']==0)].index\n",
    "df_taxi_tips.drop(index=i,axis=0,inplace=True)\n",
    "print(\"Rows with Passenger_count = 0 dropped\")\n",
    "\n",
    "print(\"Mean is :\",df_taxi_tips[df_taxi_tips['Trip_distance']>0]['Trip_distance'].mean())\n",
    "\n",
    "df_taxi_tips['Trip_distance_Zero']= df_taxi_tips.apply(\n",
    "    lambda row: 1 if (row['Trip_distance']==0) else 0,\n",
    "    axis=1\n",
    ")\n",
    "print(\"New column Trip_distance_Zero created.\")\n",
    "df_taxi_tips['Trip_distance'].replace(0,3.0117792040867934,inplace=True)\n",
    "print(\"Trip_Distance having values 0, replaced with mean = \",3.0117792040867934)\n",
    "\n",
    "print(\"Removing {} rows with Fare Amount <=0 \".format(df_taxi_tips[(df_taxi_tips['Fare_amount']==0)].shape[0]))\n",
    "df_taxi_tips=df_taxi_tips[(df_taxi['Fare_amount']>0)]\n"
   ]
  },
  {
   "cell_type": "code",
   "execution_count": 26,
   "metadata": {
    "_uuid": "7588283fcf0b9bc04d6cfef377efff1318cc9e49"
   },
   "outputs": [],
   "source": [
    "df_taxi_tips=df_taxi_tips.reset_index(drop=True)"
   ]
  },
  {
   "cell_type": "markdown",
   "metadata": {
    "_uuid": "3d6ef41ac494234355b6743f36def1563214e5c9"
   },
   "source": [
    "# <font color='blue'> 2. Feature Engineering\n",
    "\n",
    "> ### <font color='limegreen'> Creating Day of Month Column (1,2,3,...30). The day of the month might act useful if there is some big occasion for US on that day or there is some good news for NYC people on that day or traffic is more on that day due ot some reasons and people would pay tip according to that situation.\n",
    "    \n",
    "> ### <font color='limegreen'> Creating Week Column(1,2,3,4,5- Maximum 5th week can start). The Week currently running might also affect the tips because there might be human intuition to give more tip the week they receive salary or Week of Public Holiday when their mood is very good.\n",
    "    \n",
    "> ### <font color='limegreen'> Creating Day of Week Column(1,2,3,4,5,6,7) which might be usefull if we want to predict tip because people might be willing to pay high tip on Weekends as they would be in joyfull mood.\n",
    "    \n",
    "> ### <font color='limegreen'> Creating Speed from distance in mile and time in seconds. Replacing Nan values with 0.\n",
    "\n",
    "> ### <font color='blue'>  Most Important: Creating 36 sub-regions in NYC from where a taxi is picking up or where taxi is dropping off. This is very usefull because there might be regions in NYC where people are rich as compared to other regions. Say from this 36 regions, there are 7 very Porshe Regions and people who are picked up from that locations would give more tips as compared to other people from other locations. Thus, Tips can be very highly dependent on this feature set. \n",
    "    \n",
    "> ### <font color='limegreen'>  Treating Pickup Sub-Regions as a Category. One Hot Encoding of this 36 Sub-Regions. We cannot treat SubRegions as a continuous variable because it might not be beneficial while we are using ML algorithms. Intuition behind this: ML Algorithm treats Sub Region as a Continuous quantity ie. If subregion is 1,2,...36, ML algorithm with treat subregion 1 as smaller than subregion 36 because it treats it numerically. Thus we want to treat them as categorical variable so it extracts good features from it. \n",
    "    \n",
    ">### <font color='limegreen'> Treating Week Column and Day of Week column as a Category because they would be more usefull if we treat them as a category because we DO NOT want ML algorithm to infer that 1 as Monday is less than 2 as Tuesday and Sunday-7 is greatest. We want Monday, Tuesday,...Sunday to be treated as categories.\n",
    "    \n",
    "> ### <font color='limegreen'> Creating another 36 subregions for DropOff Locations. Initially I tried keeping Pickup and Dropoff as in same group, but model was performing better when I tried it doing different groups. Thus, we now have 36 regions of Pickup and 36 regions of Drop Off. \n",
    "    \n",
    "    \n",
    "> ### <font color='limegreen'> Treating:  1. VendorID  2. RateCodeID  3. Store_and_fwd_flag  4. Payment_type 5. Hour of Day and  6. Trip_type as Categorical Variables. So I did One Hot Encoding of all these columns. Now, the reason of treating them as categories is same as previous one.\n",
    "  \n",
    "> ### <font color='limegreen'> Removing Object Columns (Pickup Date, Date and Time, Date and DropOff Date) which cannot be fitted into ML Model while training."
   ]
  },
  {
   "cell_type": "code",
   "execution_count": 27,
   "metadata": {
    "_uuid": "e569768e9ccec68e918b157551a7a04d4f1f9016"
   },
   "outputs": [
    {
     "name": "stdout",
     "output_type": "stream",
     "text": [
      "Day column created\n",
      "Date Column Created\n",
      "Week of Month Column Created\n",
      "Day of Week Column Created\n",
      "Initially there are 0 null values in Speed column\n",
      "Now there are 0 null values in Speed column\n"
     ]
    },
    {
     "name": "stderr",
     "output_type": "stream",
     "text": [
      "/opt/conda/lib/python3.6/site-packages/ipykernel_launcher.py:61: FutureWarning: Interpreting tuple 'by' as a list of keys, rather than a single key. Use 'by=[...]' instead of 'by=(...)'. In the future, a tuple will always mean a single key.\n"
     ]
    }
   ],
   "source": [
    "import datetime\n",
    "timedf = pd.DataFrame()\n",
    "timedf['Day']=[ t.day for t in pd.to_datetime(df_taxi_tips['lpep_pickup_datetime'])]\n",
    "print(\"Day column created\")\n",
    "timedf['DateandTime']=df_taxi_tips['lpep_pickup_datetime']\n",
    "timedf['Date']=[ t.date() for t in pd.to_datetime(df_taxi_tips['lpep_pickup_datetime'])]\n",
    "print(\"Date Column Created\")\n",
    "baseweek=datetime.datetime(2015,9,1).isocalendar()[1]\n",
    "\n",
    "timedf['Week']=timedf['Date'].apply(lambda x : x.isocalendar()[1])-baseweek+1\n",
    "print(\"Week of Month Column Created\")\n",
    "timedf['DayofWeek']=timedf['Date'].apply(lambda x : x.isocalendar()[2])\n",
    "print(\"Day of Week Column Created\")\n",
    "\n",
    "timedf['Speed']=df_taxi_tips.Trip_distance/(df_taxi_tips.Trip_time/3600)\n",
    "print('Initially there are {} null values in Speed column'.format(timedf.Speed.isna().sum()))\n",
    "timedf['Speed'].fillna(0,inplace=True)\n",
    "print('Now there are {} null values in Speed column'.format(timedf.Speed.isna().sum()))\n",
    "d={}\n",
    "d[40.56]={-73.98:1}     \n",
    "d[40.62]={-73.98:2} \n",
    "d[40.65]={-74.01:3,-73.98:4,-73.95:5,-73.92:6}       \n",
    "d[40.68]={-74.01:7,-73.98:8,-73.95:9,-73.92:10 ,-73.83:11} \n",
    "d[40.71]={-73.98:12,-73.95:13,-73.89:14,-73.86:15,-73.83:16}  \n",
    "d[40.74]={-73.98:17,-73.95:18,-73.92 :19,-73.89:20,-73.86:21,-73.83:22 }     \n",
    "d[40.77]={-73.98:23,-73.95:24,-73.92:25}\n",
    "d[40.80]={-73.98:26,-73.95:27,-73.92:28}\n",
    "d[40.83]={-73.95:29,-73.92:30,-73.89:31,-73.86:32}     \n",
    "d[40.86]={-73.95:33,-73.92:34,-73.89:35} \n",
    "\n",
    "\n",
    "timedf[\"Pickup_latitude\"] = df_taxi_tips.Pickup_latitude\n",
    "timedf[\"Pickup_longitude\"] = df_taxi_tips.Pickup_longitude\n",
    "step = 0.03\n",
    "to_bin = lambda x: np.floor( x/ step) * step\n",
    "timedf[\"latbin\"] = df_taxi_tips.Pickup_latitude.map(to_bin)\n",
    "timedf[\"lonbin\"] = df_taxi_tips.Pickup_longitude.map(to_bin)\n",
    "\n",
    "timedf.head()\n",
    "\n",
    "arr=np.array(timedf)\n",
    "group=[]\n",
    "for x in range(0,len(timedf)):\n",
    "    if(arr[:,8][x] in d.keys()):\n",
    "        if(arr[:,9][x] in d[arr[:,8][x]].keys()):\n",
    "            g=d[arr[:,8][x]][arr[:,9][x]]\n",
    "            group.append(g)\n",
    "        else:\n",
    "            group.append(0)\n",
    "    else:\n",
    "        group.append(0)\n",
    "timedf['Group1']=group\n",
    "timedf.Group1.value_counts()\n",
    "\n",
    "timedf[\"Dropoff_latitude\"] = df_taxi_tips.Dropoff_latitude\n",
    "timedf[\"Dropoff_longitude\"] = df_taxi_tips.Dropoff_longitude\n",
    "step = 0.03\n",
    "to_bin = lambda x: np.floor( x/ step) * step\n",
    "timedf[\"latbin2\"] = df_taxi_tips.Dropoff_latitude.map(to_bin)\n",
    "timedf[\"lonbin2\"] = df_taxi_tips.Dropoff_longitude.map(to_bin)\n",
    "groups = timedf.groupby((\"latbin2\", \"lonbin2\"))\n",
    "timedf.head()\n",
    "\n",
    "arr=np.array(timedf)\n",
    "group=[]\n",
    "for x in range(0,len(timedf)):\n",
    "    if(arr[:,13][x] in d.keys()):\n",
    "        if(arr[:,14][x] in d[arr[:,13][x]].keys()):\n",
    "            g=d[arr[:,13][x]][arr[:,14][x]]\n",
    "            group.append(g)\n",
    "        else:\n",
    "            group.append(0)\n",
    "    else:\n",
    "        group.append(0)\n",
    "timedf['Group2']=group\n",
    "timedf.Group2.value_counts()\n",
    "timedf=timedf.reset_index(drop=True)\n",
    "df_taxi_tips=pd.concat([df_taxi_tips,timedf],axis=1)"
   ]
  },
  {
   "cell_type": "code",
   "execution_count": 28,
   "metadata": {
    "_uuid": "c59841f78a78c3acecb950707f9d3189adff3e4e"
   },
   "outputs": [],
   "source": [
    "# df_taxi_tips.head()"
   ]
  },
  {
   "cell_type": "code",
   "execution_count": 29,
   "metadata": {
    "_uuid": "660227a292368c7e5d732acda4d37b2f82efdc49"
   },
   "outputs": [
    {
     "data": {
      "text/plain": [
       "0"
      ]
     },
     "execution_count": 29,
     "metadata": {},
     "output_type": "execute_result"
    }
   ],
   "source": [
    "df_taxi_tips['Group1'].isna().sum()"
   ]
  },
  {
   "cell_type": "code",
   "execution_count": 30,
   "metadata": {
    "_uuid": "ec5212b62cdb8b5939186ebb1f6bd1489ff9d78c"
   },
   "outputs": [],
   "source": [
    "df_taxi_tips.shape\n",
    "taxi_backup=df_taxi_tips[['Group1','Group2','Week','DayofWeek','Airport','VendorID','RateCodeID','Store_and_fwd_flag','Trip_type ','Payment_type','lpep_pickup_datetime', 'Lpep_dropoff_datetime','Date', 'DateandTime']].copy()"
   ]
  },
  {
   "cell_type": "code",
   "execution_count": 31,
   "metadata": {
    "_uuid": "e64825eee9d3761e2fd578cefa8fb22b1f198ae9"
   },
   "outputs": [
    {
     "name": "stdout",
     "output_type": "stream",
     "text": [
      "One Hot Encoding of Group2 done and shape is : 70\n",
      "One Hot Encoding of Group1 done and shape is : 100\n"
     ]
    }
   ],
   "source": [
    "pd.get_dummies(df_taxi_tips['Group2'])\n",
    "df_taxi_tips = pd.concat([df_taxi_tips,pd.get_dummies(df_taxi_tips['Group2'], prefix='Group2',dummy_na=True)],axis=1).drop(['Group2'],axis=1)\n",
    "print(\"One Hot Encoding of Group2 done and shape is :\",df_taxi_tips.shape[1])\n",
    "df_taxi_tips = pd.concat([df_taxi_tips,pd.get_dummies(df_taxi_tips['Group1'], prefix='Group1',dummy_na=True)],axis=1).drop(['Group1'],axis=1)\n",
    "print(\"One Hot Encoding of Group1 done and shape is :\",df_taxi_tips.shape[1])\n",
    "df_taxi_tips = pd.concat([df_taxi_tips,pd.get_dummies(df_taxi_tips['DayofWeek'], prefix='DayofWeek',dummy_na=True)],axis=1).drop(['DayofWeek'],axis=1)\n",
    "df_taxi_tips = pd.concat([df_taxi_tips,pd.get_dummies(df_taxi_tips['Airport'], prefix='Airport',dummy_na=True)],axis=1).drop(['Airport'],axis=1)\n",
    "df_taxi_tips = pd.concat([df_taxi_tips,pd.get_dummies(df_taxi_tips['hour'], prefix='hour',dummy_na=True)],axis=1)\n",
    "df_taxi_tips = pd.concat([df_taxi_tips,pd.get_dummies(df_taxi_tips['Week'], prefix='Week',dummy_na=True)],axis=1).drop(['Week'],axis=1)\n",
    "df_taxi_tips = pd.concat([df_taxi_tips,pd.get_dummies(df_taxi_tips['VendorID'], prefix='VendorID',dummy_na=True)],axis=1).drop(['VendorID'],axis=1)\n",
    "df_taxi_tips = pd.concat([df_taxi_tips,pd.get_dummies(df_taxi_tips['RateCodeID'], prefix='RateCodeID',dummy_na=True)],axis=1).drop(['RateCodeID'],axis=1)\n",
    "df_taxi_tips = pd.concat([df_taxi_tips,pd.get_dummies(df_taxi_tips['Store_and_fwd_flag'], prefix='Store_and_fwd_flag',dummy_na=True)],axis=1).drop(['Store_and_fwd_flag'],axis=1)\n",
    "df_taxi_tips = pd.concat([df_taxi_tips,pd.get_dummies(df_taxi_tips['Trip_type '], prefix='Trip_type',dummy_na=True)],axis=1).drop(['Trip_type '],axis=1)\n",
    "df_taxi_tips = pd.concat([df_taxi_tips,pd.get_dummies(df_taxi_tips['Payment_type'], prefix='Payment_type',dummy_na=True)],axis=1).drop(['Payment_type'],axis=1)\n",
    "df_taxi_tips.dtypes[df_taxi_tips.dtypes=='object']\n",
    "df_taxi_tips.drop(['lpep_pickup_datetime', 'Lpep_dropoff_datetime','Date', 'DateandTime'], inplace=True, axis=1)\n",
    "df_taxi_tips.Speed[(df_taxi_tips.Speed<240)&(df_taxi_tips.Speed>0)].mean()\n",
    "indices = df_taxi_tips[(df_taxi_tips.Speed>240)].index\n",
    "df_taxi_tips.loc[indices,'Speed']=13.32423148992669"
   ]
  },
  {
   "cell_type": "code",
   "execution_count": 32,
   "metadata": {
    "_uuid": "8342e4d8bbf74791bc6ca0331018740fbf42ff96"
   },
   "outputs": [],
   "source": [
    "taxi_backup=pd.concat([df_taxi_tips,taxi_backup],axis=1)\n",
    "# taxi_backup is used later\n",
    "# df_taxi_tips.head()\n"
   ]
  },
  {
   "cell_type": "code",
   "execution_count": 33,
   "metadata": {
    "_uuid": "f8aae5056950dfbf122dc43646601d418efeccea"
   },
   "outputs": [],
   "source": [
    "# taxi_backup.head()"
   ]
  },
  {
   "cell_type": "markdown",
   "metadata": {
    "_uuid": "fe138cf91e5338723b5080bd49b86a98321e901d"
   },
   "source": [
    "## Loading Libraries to use later"
   ]
  },
  {
   "cell_type": "code",
   "execution_count": 34,
   "metadata": {
    "_uuid": "1e4581af07981d8ba975010344ae148dbb0bcfa2"
   },
   "outputs": [],
   "source": [
    "import pandas as pd\n",
    "import numpy as np\n",
    "import xgboost as xgb\n",
    "from sklearn import preprocessing\n",
    "from sklearn.model_selection import train_test_split\n",
    "import datetime\n",
    "import time\n",
    "from sklearn import preprocessing\n",
    "from sklearn.model_selection import GridSearchCV\n",
    "import matplotlib.pyplot as plt\n",
    "from sklearn.model_selection import train_test_split\n",
    "from sklearn.model_selection import cross_val_predict, GridSearchCV\n",
    "from sklearn.preprocessing import MinMaxScaler\n",
    "from sklearn.metrics import (roc_curve, auc, accuracy_score)\n",
    " "
   ]
  },
  {
   "cell_type": "markdown",
   "metadata": {
    "_uuid": "bdc97dfda7e748a79a55d5eef56a862b4b1ba46c"
   },
   "source": [
    "# <font color='blue'> Model Building\n"
   ]
  },
  {
   "cell_type": "code",
   "execution_count": 34,
   "metadata": {
    "_uuid": "888328059c89c1f9d230b0ee99adc8b6e7e19265"
   },
   "outputs": [
    {
     "data": {
      "text/plain": [
       "Pickup_longitude         -0.002563\n",
       "Pickup_latitude          -0.004883\n",
       "Dropoff_longitude        -0.018082\n",
       "Dropoff_latitude          0.009585\n",
       "Passenger_count           0.001373\n",
       "Trip_distance             0.095788\n",
       "Fare_amount               0.085370\n",
       "Extra                     0.012975\n",
       "MTA_tax                   0.066664\n",
       "Tolls_amount              0.043230\n",
       "improvement_surcharge     0.065931\n",
       "Total_amount              0.230755\n",
       "Trip_time                -0.011282\n",
       "hour                      0.011478\n",
       "Tip_%                     1.000000\n",
       "Trip_distance_Zero       -0.006107\n",
       "Day                       0.023592\n",
       "Speed                     0.040409\n",
       "Pickup_latitude          -0.004883\n",
       "Pickup_longitude         -0.002563\n",
       "latbin                   -0.004760\n",
       "lonbin                   -0.002704\n",
       "Dropoff_latitude          0.009585\n",
       "Dropoff_longitude        -0.018082\n",
       "latbin2                   0.009664\n",
       "lonbin2                  -0.018158\n",
       "Group2_0.0                0.110138\n",
       "Group2_2.0                0.006359\n",
       "Group2_4.0                0.042346\n",
       "Group2_5.0               -0.013654\n",
       "                            ...   \n",
       "hour_23.0                 0.016474\n",
       "hour_nan                       NaN\n",
       "Week_1.0                 -0.022723\n",
       "Week_2.0                 -0.001339\n",
       "Week_3.0                  0.009844\n",
       "Week_4.0                  0.009175\n",
       "Week_5.0                  0.005688\n",
       "Week_nan                       NaN\n",
       "VendorID_1.0              0.006277\n",
       "VendorID_2.0             -0.006277\n",
       "VendorID_nan                   NaN\n",
       "RateCodeID_1.0            0.063264\n",
       "RateCodeID_2.0           -0.004626\n",
       "RateCodeID_3.0           -0.003294\n",
       "RateCodeID_4.0           -0.000616\n",
       "RateCodeID_5.0           -0.066901\n",
       "RateCodeID_6.0           -0.003497\n",
       "RateCodeID_nan                 NaN\n",
       "Store_and_fwd_flag_N      0.010237\n",
       "Store_and_fwd_flag_Y     -0.010237\n",
       "Store_and_fwd_flag_nan         NaN\n",
       "Trip_type_1.0             0.066439\n",
       "Trip_type_2.0            -0.066439\n",
       "Trip_type_nan                  NaN\n",
       "Payment_type_1.0          0.799281\n",
       "Payment_type_2.0         -0.791298\n",
       "Payment_type_3.0         -0.038804\n",
       "Payment_type_4.0         -0.036314\n",
       "Payment_type_5.0         -0.005246\n",
       "Payment_type_nan               NaN\n",
       "Name: Tip_%, Length: 154, dtype: float64"
      ]
     },
     "execution_count": 34,
     "metadata": {},
     "output_type": "execute_result"
    }
   ],
   "source": [
    "df_taxi_tips.corr()['Tip_%']"
   ]
  },
  {
   "cell_type": "code",
   "execution_count": 35,
   "metadata": {
    "_uuid": "98721b6d09f6c428371e05efdd014c0df6a12276"
   },
   "outputs": [
    {
     "name": "stdout",
     "output_type": "stream",
     "text": [
      "Training Features Shape: (1413392, 153)\n",
      "Training Label Shape: (1413392,)\n",
      "Testing Features Shape: (74390, 153)\n",
      "Testing Label Shape: (74390,)\n"
     ]
    }
   ],
   "source": [
    "\n",
    "#Creating Train Test split from here. X_test and y_test is TEST SET and they will not be touched upon from now until testing phase.\n",
    "X_train, X_test, y_train, y_test = train_test_split(np.array(df_taxi_tips.drop('Tip_%',axis=1)),np.array(df_taxi_tips['Tip_%']), test_size=0.05, random_state=42)\n",
    "\n",
    "# X_train and y_train will be further splitted into X_train_new and X_valid and same for y variable.\n",
    "X_train_new, X_validation, y_train_new, y_validation = train_test_split(X_train,y_train, test_size=0.20, random_state=42)\n",
    "\n",
    "print('Training Features Shape:', X_train.shape)\n",
    "print('Training Label Shape:', y_train.shape)\n",
    "print('Testing Features Shape:', X_test.shape)\n",
    "print('Testing Label Shape:', y_test.shape)\n"
   ]
  },
  {
   "cell_type": "code",
   "execution_count": 36,
   "metadata": {
    "_uuid": "235a6aedd36aabec4dcf83b1ab3e9d7aa4f25e27"
   },
   "outputs": [
    {
     "name": "stderr",
     "output_type": "stream",
     "text": [
      "[Parallel(n_jobs=1)]: Using backend SequentialBackend with 1 concurrent workers.\n",
      "[Parallel(n_jobs=1)]: Done 100 out of 100 | elapsed: 33.7min finished\n"
     ]
    },
    {
     "data": {
      "text/plain": [
       "RandomForestRegressor(bootstrap=True, criterion='mse', max_depth=10,\n",
       "           max_features='auto', max_leaf_nodes=None,\n",
       "           min_impurity_decrease=0.0, min_impurity_split=None,\n",
       "           min_samples_leaf=1, min_samples_split=2,\n",
       "           min_weight_fraction_leaf=0.0, n_estimators=100, n_jobs=None,\n",
       "           oob_score=False, random_state=42, verbose=True,\n",
       "           warm_start=False)"
      ]
     },
     "execution_count": 36,
     "metadata": {},
     "output_type": "execute_result"
    }
   ],
   "source": [
    "from sklearn.ensemble import RandomForestRegressor\n",
    "forest = RandomForestRegressor(max_depth=10, n_estimators=100,random_state=42, verbose=True)\n",
    "forest.fit( X_train_new, y_train_new)\n"
   ]
  },
  {
   "cell_type": "code",
   "execution_count": 37,
   "metadata": {
    "_uuid": "782cfb0c5efa65649c82a1b10a6157479938d5ab"
   },
   "outputs": [
    {
     "name": "stderr",
     "output_type": "stream",
     "text": [
      "[Parallel(n_jobs=1)]: Using backend SequentialBackend with 1 concurrent workers.\n"
     ]
    },
    {
     "name": "stdout",
     "output_type": "stream",
     "text": [
      "Our MSE(Mean Squared Error ) is :  15.045183080201236\n"
     ]
    },
    {
     "name": "stderr",
     "output_type": "stream",
     "text": [
      "[Parallel(n_jobs=1)]: Done 100 out of 100 | elapsed:    0.3s finished\n"
     ]
    }
   ],
   "source": [
    "from sklearn.metrics import mean_squared_error\n",
    "ypred2=forest.predict(X_test)\n",
    "error2 = mean_squared_error(ypred2, y_test)\n",
    "print(\"Our MSE(Mean Squared Error ) is : \",error2)"
   ]
  },
  {
   "cell_type": "markdown",
   "metadata": {
    "_uuid": "37a614a8b8c2e5ed69de41a6dc564691658085a4"
   },
   "source": []
  },
  {
   "cell_type": "code",
   "execution_count": 38,
   "metadata": {
    "_uuid": "865745071e74d627491df36083918fa333809536"
   },
   "outputs": [
    {
     "name": "stdout",
     "output_type": "stream",
     "text": [
      "[01:22:21] /workspace/src/tree/updater_prune.cc:74: tree pruning end, 1 roots, 416 extra nodes, 0 pruned nodes, max_depth=10\n",
      "[0]\tvalidation_0-rmse:9.8306\n",
      "Will train until validation_0-rmse hasn't improved in 50 rounds.\n",
      "[01:22:37] /workspace/src/tree/updater_prune.cc:74: tree pruning end, 1 roots, 460 extra nodes, 0 pruned nodes, max_depth=10\n",
      "[1]\tvalidation_0-rmse:9.00018\n",
      "[01:22:52] /workspace/src/tree/updater_prune.cc:74: tree pruning end, 1 roots, 516 extra nodes, 0 pruned nodes, max_depth=10\n",
      "[2]\tvalidation_0-rmse:8.26379\n",
      "[01:23:08] /workspace/src/tree/updater_prune.cc:74: tree pruning end, 1 roots, 522 extra nodes, 0 pruned nodes, max_depth=10\n",
      "[3]\tvalidation_0-rmse:7.59733\n",
      "[01:23:22] /workspace/src/tree/updater_prune.cc:74: tree pruning end, 1 roots, 516 extra nodes, 0 pruned nodes, max_depth=10\n",
      "[4]\tvalidation_0-rmse:7.01111\n",
      "[01:23:36] /workspace/src/tree/updater_prune.cc:74: tree pruning end, 1 roots, 526 extra nodes, 0 pruned nodes, max_depth=10\n",
      "[5]\tvalidation_0-rmse:6.49591\n",
      "[01:23:50] /workspace/src/tree/updater_prune.cc:74: tree pruning end, 1 roots, 482 extra nodes, 0 pruned nodes, max_depth=10\n",
      "[6]\tvalidation_0-rmse:6.03549\n",
      "[01:24:04] /workspace/src/tree/updater_prune.cc:74: tree pruning end, 1 roots, 546 extra nodes, 0 pruned nodes, max_depth=10\n",
      "[7]\tvalidation_0-rmse:5.63079\n",
      "[01:24:19] /workspace/src/tree/updater_prune.cc:74: tree pruning end, 1 roots, 542 extra nodes, 0 pruned nodes, max_depth=10\n",
      "[8]\tvalidation_0-rmse:5.24709\n",
      "[01:24:33] /workspace/src/tree/updater_prune.cc:74: tree pruning end, 1 roots, 558 extra nodes, 0 pruned nodes, max_depth=10\n",
      "[9]\tvalidation_0-rmse:4.92436\n",
      "[01:24:47] /workspace/src/tree/updater_prune.cc:74: tree pruning end, 1 roots, 530 extra nodes, 0 pruned nodes, max_depth=10\n",
      "[10]\tvalidation_0-rmse:4.64891\n",
      "[01:25:01] /workspace/src/tree/updater_prune.cc:74: tree pruning end, 1 roots, 558 extra nodes, 0 pruned nodes, max_depth=10\n",
      "[11]\tvalidation_0-rmse:4.38942\n",
      "[01:25:15] /workspace/src/tree/updater_prune.cc:74: tree pruning end, 1 roots, 574 extra nodes, 0 pruned nodes, max_depth=10\n",
      "[12]\tvalidation_0-rmse:4.10102\n",
      "[01:25:29] /workspace/src/tree/updater_prune.cc:74: tree pruning end, 1 roots, 566 extra nodes, 0 pruned nodes, max_depth=10\n",
      "[13]\tvalidation_0-rmse:3.84898\n",
      "[01:25:45] /workspace/src/tree/updater_prune.cc:74: tree pruning end, 1 roots, 574 extra nodes, 0 pruned nodes, max_depth=10\n",
      "[14]\tvalidation_0-rmse:3.67488\n",
      "[01:25:59] /workspace/src/tree/updater_prune.cc:74: tree pruning end, 1 roots, 576 extra nodes, 0 pruned nodes, max_depth=10\n",
      "[15]\tvalidation_0-rmse:3.46225\n",
      "[01:26:13] /workspace/src/tree/updater_prune.cc:74: tree pruning end, 1 roots, 564 extra nodes, 0 pruned nodes, max_depth=10\n",
      "[16]\tvalidation_0-rmse:3.32386\n",
      "[01:26:27] /workspace/src/tree/updater_prune.cc:74: tree pruning end, 1 roots, 608 extra nodes, 0 pruned nodes, max_depth=10\n",
      "[17]\tvalidation_0-rmse:3.14763\n",
      "[01:26:41] /workspace/src/tree/updater_prune.cc:74: tree pruning end, 1 roots, 848 extra nodes, 0 pruned nodes, max_depth=10\n",
      "[18]\tvalidation_0-rmse:2.95037\n",
      "[01:26:56] /workspace/src/tree/updater_prune.cc:74: tree pruning end, 1 roots, 666 extra nodes, 0 pruned nodes, max_depth=10\n",
      "[19]\tvalidation_0-rmse:2.83673\n",
      "[01:27:10] /workspace/src/tree/updater_prune.cc:74: tree pruning end, 1 roots, 692 extra nodes, 0 pruned nodes, max_depth=10\n",
      "[20]\tvalidation_0-rmse:2.70567\n",
      "[01:27:24] /workspace/src/tree/updater_prune.cc:74: tree pruning end, 1 roots, 890 extra nodes, 0 pruned nodes, max_depth=10\n",
      "[21]\tvalidation_0-rmse:2.55365\n",
      "[01:27:39] /workspace/src/tree/updater_prune.cc:74: tree pruning end, 1 roots, 768 extra nodes, 0 pruned nodes, max_depth=10\n",
      "[22]\tvalidation_0-rmse:2.44002\n",
      "[01:27:54] /workspace/src/tree/updater_prune.cc:74: tree pruning end, 1 roots, 754 extra nodes, 0 pruned nodes, max_depth=10\n",
      "[23]\tvalidation_0-rmse:2.35909\n",
      "[01:28:08] /workspace/src/tree/updater_prune.cc:74: tree pruning end, 1 roots, 752 extra nodes, 0 pruned nodes, max_depth=10\n",
      "[24]\tvalidation_0-rmse:2.27085\n",
      "[01:28:24] /workspace/src/tree/updater_prune.cc:74: tree pruning end, 1 roots, 722 extra nodes, 0 pruned nodes, max_depth=10\n",
      "[25]\tvalidation_0-rmse:2.20616\n",
      "[01:28:38] /workspace/src/tree/updater_prune.cc:74: tree pruning end, 1 roots, 968 extra nodes, 0 pruned nodes, max_depth=10\n",
      "[26]\tvalidation_0-rmse:2.09136\n",
      "[01:28:52] /workspace/src/tree/updater_prune.cc:74: tree pruning end, 1 roots, 838 extra nodes, 0 pruned nodes, max_depth=10\n",
      "[27]\tvalidation_0-rmse:2.00108\n",
      "[01:29:06] /workspace/src/tree/updater_prune.cc:74: tree pruning end, 1 roots, 528 extra nodes, 0 pruned nodes, max_depth=10\n",
      "[28]\tvalidation_0-rmse:1.94661\n",
      "[01:29:20] /workspace/src/tree/updater_prune.cc:74: tree pruning end, 1 roots, 762 extra nodes, 0 pruned nodes, max_depth=10\n",
      "[29]\tvalidation_0-rmse:1.88437\n",
      "[01:29:34] /workspace/src/tree/updater_prune.cc:74: tree pruning end, 1 roots, 942 extra nodes, 0 pruned nodes, max_depth=10\n",
      "[30]\tvalidation_0-rmse:1.80083\n",
      "[01:29:49] /workspace/src/tree/updater_prune.cc:74: tree pruning end, 1 roots, 834 extra nodes, 0 pruned nodes, max_depth=10\n",
      "[31]\tvalidation_0-rmse:1.74495\n",
      "[01:30:03] /workspace/src/tree/updater_prune.cc:74: tree pruning end, 1 roots, 698 extra nodes, 0 pruned nodes, max_depth=10\n",
      "[32]\tvalidation_0-rmse:1.70232\n",
      "[01:30:17] /workspace/src/tree/updater_prune.cc:74: tree pruning end, 1 roots, 958 extra nodes, 0 pruned nodes, max_depth=10\n",
      "[33]\tvalidation_0-rmse:1.62708\n",
      "[01:30:31] /workspace/src/tree/updater_prune.cc:74: tree pruning end, 1 roots, 530 extra nodes, 0 pruned nodes, max_depth=10\n",
      "[34]\tvalidation_0-rmse:1.58757\n",
      "[01:30:45] /workspace/src/tree/updater_prune.cc:74: tree pruning end, 1 roots, 576 extra nodes, 0 pruned nodes, max_depth=10\n",
      "[35]\tvalidation_0-rmse:1.55189\n",
      "[01:31:01] /workspace/src/tree/updater_prune.cc:74: tree pruning end, 1 roots, 882 extra nodes, 0 pruned nodes, max_depth=10\n",
      "[36]\tvalidation_0-rmse:1.49455\n",
      "[01:31:15] /workspace/src/tree/updater_prune.cc:74: tree pruning end, 1 roots, 810 extra nodes, 0 pruned nodes, max_depth=10\n",
      "[37]\tvalidation_0-rmse:1.45278\n",
      "[01:31:29] /workspace/src/tree/updater_prune.cc:74: tree pruning end, 1 roots, 820 extra nodes, 0 pruned nodes, max_depth=10\n",
      "[38]\tvalidation_0-rmse:1.41281\n",
      "[01:31:43] /workspace/src/tree/updater_prune.cc:74: tree pruning end, 1 roots, 876 extra nodes, 0 pruned nodes, max_depth=10\n",
      "[39]\tvalidation_0-rmse:1.37593\n",
      "[01:31:57] /workspace/src/tree/updater_prune.cc:74: tree pruning end, 1 roots, 838 extra nodes, 0 pruned nodes, max_depth=10\n",
      "[40]\tvalidation_0-rmse:1.34034\n",
      "[01:32:11] /workspace/src/tree/updater_prune.cc:74: tree pruning end, 1 roots, 932 extra nodes, 0 pruned nodes, max_depth=10\n",
      "[41]\tvalidation_0-rmse:1.2915\n",
      "[01:32:27] /workspace/src/tree/updater_prune.cc:74: tree pruning end, 1 roots, 860 extra nodes, 0 pruned nodes, max_depth=10\n",
      "[42]\tvalidation_0-rmse:1.26188\n",
      "[01:32:41] /workspace/src/tree/updater_prune.cc:74: tree pruning end, 1 roots, 662 extra nodes, 0 pruned nodes, max_depth=10\n",
      "[43]\tvalidation_0-rmse:1.23494\n",
      "[01:32:56] /workspace/src/tree/updater_prune.cc:74: tree pruning end, 1 roots, 928 extra nodes, 0 pruned nodes, max_depth=10\n",
      "[44]\tvalidation_0-rmse:1.203\n",
      "[01:33:11] /workspace/src/tree/updater_prune.cc:74: tree pruning end, 1 roots, 794 extra nodes, 0 pruned nodes, max_depth=10\n",
      "[45]\tvalidation_0-rmse:1.17498\n",
      "[01:33:25] /workspace/src/tree/updater_prune.cc:74: tree pruning end, 1 roots, 772 extra nodes, 0 pruned nodes, max_depth=10\n",
      "[46]\tvalidation_0-rmse:1.14303\n",
      "[01:33:38] /workspace/src/tree/updater_prune.cc:74: tree pruning end, 1 roots, 972 extra nodes, 0 pruned nodes, max_depth=10\n",
      "[47]\tvalidation_0-rmse:1.11873\n",
      "[01:33:53] /workspace/src/tree/updater_prune.cc:74: tree pruning end, 1 roots, 998 extra nodes, 0 pruned nodes, max_depth=10\n",
      "[48]\tvalidation_0-rmse:1.09472\n",
      "[01:34:06] /workspace/src/tree/updater_prune.cc:74: tree pruning end, 1 roots, 1392 extra nodes, 0 pruned nodes, max_depth=10\n",
      "[49]\tvalidation_0-rmse:1.03984\n",
      "[01:34:18] /workspace/src/tree/updater_prune.cc:74: tree pruning end, 1 roots, 992 extra nodes, 0 pruned nodes, max_depth=10\n",
      "[50]\tvalidation_0-rmse:1.02036\n",
      "[01:34:31] /workspace/src/tree/updater_prune.cc:74: tree pruning end, 1 roots, 1044 extra nodes, 0 pruned nodes, max_depth=10\n",
      "[51]\tvalidation_0-rmse:1.00183\n",
      "[01:34:44] /workspace/src/tree/updater_prune.cc:74: tree pruning end, 1 roots, 1426 extra nodes, 0 pruned nodes, max_depth=10\n"
     ]
    },
    {
     "name": "stdout",
     "output_type": "stream",
     "text": [
      "[52]\tvalidation_0-rmse:0.957651\n",
      "[01:34:57] /workspace/src/tree/updater_prune.cc:74: tree pruning end, 1 roots, 1130 extra nodes, 0 pruned nodes, max_depth=10\n",
      "[53]\tvalidation_0-rmse:0.922869\n",
      "[01:35:11] /workspace/src/tree/updater_prune.cc:74: tree pruning end, 1 roots, 1200 extra nodes, 0 pruned nodes, max_depth=10\n",
      "[54]\tvalidation_0-rmse:0.906947\n",
      "[01:35:24] /workspace/src/tree/updater_prune.cc:74: tree pruning end, 1 roots, 1324 extra nodes, 0 pruned nodes, max_depth=10\n",
      "[55]\tvalidation_0-rmse:0.877768\n",
      "[01:35:37] /workspace/src/tree/updater_prune.cc:74: tree pruning end, 1 roots, 1260 extra nodes, 0 pruned nodes, max_depth=10\n",
      "[56]\tvalidation_0-rmse:0.856781\n",
      "[01:35:49] /workspace/src/tree/updater_prune.cc:74: tree pruning end, 1 roots, 1216 extra nodes, 0 pruned nodes, max_depth=10\n",
      "[57]\tvalidation_0-rmse:0.839836\n",
      "[01:36:02] /workspace/src/tree/updater_prune.cc:74: tree pruning end, 1 roots, 1286 extra nodes, 0 pruned nodes, max_depth=10\n",
      "[58]\tvalidation_0-rmse:0.822235\n",
      "[01:36:15] /workspace/src/tree/updater_prune.cc:74: tree pruning end, 1 roots, 1318 extra nodes, 0 pruned nodes, max_depth=10\n",
      "[59]\tvalidation_0-rmse:0.798508\n",
      "[01:36:29] /workspace/src/tree/updater_prune.cc:74: tree pruning end, 1 roots, 1504 extra nodes, 0 pruned nodes, max_depth=10\n",
      "[60]\tvalidation_0-rmse:0.777123\n",
      "[01:36:42] /workspace/src/tree/updater_prune.cc:74: tree pruning end, 1 roots, 1348 extra nodes, 0 pruned nodes, max_depth=10\n",
      "[61]\tvalidation_0-rmse:0.760005\n",
      "[01:36:54] /workspace/src/tree/updater_prune.cc:74: tree pruning end, 1 roots, 1310 extra nodes, 0 pruned nodes, max_depth=10\n",
      "[62]\tvalidation_0-rmse:0.746707\n",
      "[01:37:07] /workspace/src/tree/updater_prune.cc:74: tree pruning end, 1 roots, 1412 extra nodes, 0 pruned nodes, max_depth=10\n",
      "[63]\tvalidation_0-rmse:0.732791\n",
      "[01:37:19] /workspace/src/tree/updater_prune.cc:74: tree pruning end, 1 roots, 1378 extra nodes, 0 pruned nodes, max_depth=10\n",
      "[64]\tvalidation_0-rmse:0.7159\n",
      "[01:37:32] /workspace/src/tree/updater_prune.cc:74: tree pruning end, 1 roots, 1520 extra nodes, 0 pruned nodes, max_depth=10\n",
      "[65]\tvalidation_0-rmse:0.696793\n",
      "[01:37:45] /workspace/src/tree/updater_prune.cc:74: tree pruning end, 1 roots, 1498 extra nodes, 0 pruned nodes, max_depth=10\n",
      "[66]\tvalidation_0-rmse:0.685132\n",
      "[01:37:58] /workspace/src/tree/updater_prune.cc:74: tree pruning end, 1 roots, 1542 extra nodes, 0 pruned nodes, max_depth=10\n",
      "[67]\tvalidation_0-rmse:0.670319\n",
      "[01:38:12] /workspace/src/tree/updater_prune.cc:74: tree pruning end, 1 roots, 1182 extra nodes, 0 pruned nodes, max_depth=10\n",
      "[68]\tvalidation_0-rmse:0.658139\n",
      "[01:38:26] /workspace/src/tree/updater_prune.cc:74: tree pruning end, 1 roots, 1494 extra nodes, 0 pruned nodes, max_depth=10\n",
      "[69]\tvalidation_0-rmse:0.644326\n",
      "[01:38:39] /workspace/src/tree/updater_prune.cc:74: tree pruning end, 1 roots, 1410 extra nodes, 0 pruned nodes, max_depth=10\n",
      "[70]\tvalidation_0-rmse:0.633046\n",
      "[01:38:51] /workspace/src/tree/updater_prune.cc:74: tree pruning end, 1 roots, 1586 extra nodes, 0 pruned nodes, max_depth=10\n",
      "[71]\tvalidation_0-rmse:0.614569\n",
      "[01:39:05] /workspace/src/tree/updater_prune.cc:74: tree pruning end, 1 roots, 1478 extra nodes, 0 pruned nodes, max_depth=10\n",
      "[72]\tvalidation_0-rmse:0.604455\n",
      "[01:39:18] /workspace/src/tree/updater_prune.cc:74: tree pruning end, 1 roots, 1590 extra nodes, 0 pruned nodes, max_depth=10\n",
      "[73]\tvalidation_0-rmse:0.595167\n",
      "[01:39:30] /workspace/src/tree/updater_prune.cc:74: tree pruning end, 1 roots, 1202 extra nodes, 0 pruned nodes, max_depth=10\n",
      "[74]\tvalidation_0-rmse:0.590205\n",
      "[01:39:43] /workspace/src/tree/updater_prune.cc:74: tree pruning end, 1 roots, 1554 extra nodes, 0 pruned nodes, max_depth=10\n",
      "[75]\tvalidation_0-rmse:0.580773\n",
      "[01:39:55] /workspace/src/tree/updater_prune.cc:74: tree pruning end, 1 roots, 1660 extra nodes, 0 pruned nodes, max_depth=10\n",
      "[76]\tvalidation_0-rmse:0.567359\n",
      "[01:40:08] /workspace/src/tree/updater_prune.cc:74: tree pruning end, 1 roots, 1286 extra nodes, 0 pruned nodes, max_depth=10\n",
      "[77]\tvalidation_0-rmse:0.559779\n",
      "[01:40:21] /workspace/src/tree/updater_prune.cc:74: tree pruning end, 1 roots, 1508 extra nodes, 0 pruned nodes, max_depth=10\n",
      "[78]\tvalidation_0-rmse:0.546996\n",
      "[01:40:34] /workspace/src/tree/updater_prune.cc:74: tree pruning end, 1 roots, 1634 extra nodes, 0 pruned nodes, max_depth=10\n",
      "[79]\tvalidation_0-rmse:0.537509\n",
      "[01:40:47] /workspace/src/tree/updater_prune.cc:74: tree pruning end, 1 roots, 1564 extra nodes, 0 pruned nodes, max_depth=10\n",
      "[80]\tvalidation_0-rmse:0.525701\n",
      "[01:40:59] /workspace/src/tree/updater_prune.cc:74: tree pruning end, 1 roots, 1096 extra nodes, 0 pruned nodes, max_depth=10\n",
      "[81]\tvalidation_0-rmse:0.521351\n",
      "[01:41:12] /workspace/src/tree/updater_prune.cc:74: tree pruning end, 1 roots, 1544 extra nodes, 0 pruned nodes, max_depth=10\n",
      "[82]\tvalidation_0-rmse:0.511104\n",
      "[01:41:24] /workspace/src/tree/updater_prune.cc:74: tree pruning end, 1 roots, 1648 extra nodes, 0 pruned nodes, max_depth=10\n",
      "[83]\tvalidation_0-rmse:0.501388\n",
      "[01:41:37] /workspace/src/tree/updater_prune.cc:74: tree pruning end, 1 roots, 1242 extra nodes, 0 pruned nodes, max_depth=10\n",
      "[84]\tvalidation_0-rmse:0.497375\n",
      "[01:41:51] /workspace/src/tree/updater_prune.cc:74: tree pruning end, 1 roots, 1558 extra nodes, 0 pruned nodes, max_depth=10\n",
      "[85]\tvalidation_0-rmse:0.48771\n",
      "[01:42:04] /workspace/src/tree/updater_prune.cc:74: tree pruning end, 1 roots, 1694 extra nodes, 0 pruned nodes, max_depth=10\n",
      "[86]\tvalidation_0-rmse:0.478992\n",
      "[01:42:16] /workspace/src/tree/updater_prune.cc:74: tree pruning end, 1 roots, 1464 extra nodes, 0 pruned nodes, max_depth=10\n",
      "[87]\tvalidation_0-rmse:0.474128\n",
      "[01:42:29] /workspace/src/tree/updater_prune.cc:74: tree pruning end, 1 roots, 1104 extra nodes, 0 pruned nodes, max_depth=10\n",
      "[88]\tvalidation_0-rmse:0.469421\n",
      "[01:42:41] /workspace/src/tree/updater_prune.cc:74: tree pruning end, 1 roots, 1686 extra nodes, 0 pruned nodes, max_depth=10\n",
      "[89]\tvalidation_0-rmse:0.46164\n",
      "[01:42:55] /workspace/src/tree/updater_prune.cc:74: tree pruning end, 1 roots, 1488 extra nodes, 0 pruned nodes, max_depth=10\n",
      "[90]\tvalidation_0-rmse:0.456985\n",
      "[01:43:08] /workspace/src/tree/updater_prune.cc:74: tree pruning end, 1 roots, 1580 extra nodes, 0 pruned nodes, max_depth=10\n",
      "[91]\tvalidation_0-rmse:0.451867\n",
      "[01:43:22] /workspace/src/tree/updater_prune.cc:74: tree pruning end, 1 roots, 1160 extra nodes, 0 pruned nodes, max_depth=10\n",
      "[92]\tvalidation_0-rmse:0.445933\n",
      "[01:43:35] /workspace/src/tree/updater_prune.cc:74: tree pruning end, 1 roots, 1682 extra nodes, 0 pruned nodes, max_depth=10\n",
      "[93]\tvalidation_0-rmse:0.437976\n",
      "[01:43:47] /workspace/src/tree/updater_prune.cc:74: tree pruning end, 1 roots, 1648 extra nodes, 0 pruned nodes, max_depth=10\n",
      "[94]\tvalidation_0-rmse:0.433358\n",
      "[01:44:00] /workspace/src/tree/updater_prune.cc:74: tree pruning end, 1 roots, 1728 extra nodes, 0 pruned nodes, max_depth=10\n",
      "[95]\tvalidation_0-rmse:0.426273\n",
      "[01:44:12] /workspace/src/tree/updater_prune.cc:74: tree pruning end, 1 roots, 1662 extra nodes, 0 pruned nodes, max_depth=10\n",
      "[96]\tvalidation_0-rmse:0.421377\n",
      "[01:44:26] /workspace/src/tree/updater_prune.cc:74: tree pruning end, 1 roots, 1132 extra nodes, 0 pruned nodes, max_depth=10\n",
      "[97]\tvalidation_0-rmse:0.418775\n",
      "[01:44:39] /workspace/src/tree/updater_prune.cc:74: tree pruning end, 1 roots, 1498 extra nodes, 0 pruned nodes, max_depth=10\n",
      "[98]\tvalidation_0-rmse:0.413461\n",
      "[01:44:51] /workspace/src/tree/updater_prune.cc:74: tree pruning end, 1 roots, 1294 extra nodes, 0 pruned nodes, max_depth=10\n",
      "[99]\tvalidation_0-rmse:0.410587\n",
      "[01:45:04] /workspace/src/tree/updater_prune.cc:74: tree pruning end, 1 roots, 1628 extra nodes, 0 pruned nodes, max_depth=10\n",
      "[100]\tvalidation_0-rmse:0.404588\n",
      "[01:45:16] /workspace/src/tree/updater_prune.cc:74: tree pruning end, 1 roots, 930 extra nodes, 0 pruned nodes, max_depth=10\n",
      "[101]\tvalidation_0-rmse:0.403183\n",
      "[01:45:29] /workspace/src/tree/updater_prune.cc:74: tree pruning end, 1 roots, 1658 extra nodes, 0 pruned nodes, max_depth=10\n",
      "[102]\tvalidation_0-rmse:0.39743\n",
      "[01:45:42] /workspace/src/tree/updater_prune.cc:74: tree pruning end, 1 roots, 1504 extra nodes, 0 pruned nodes, max_depth=10\n",
      "[103]\tvalidation_0-rmse:0.393353\n",
      "[01:45:55] /workspace/src/tree/updater_prune.cc:74: tree pruning end, 1 roots, 1628 extra nodes, 0 pruned nodes, max_depth=10\n"
     ]
    },
    {
     "name": "stdout",
     "output_type": "stream",
     "text": [
      "[104]\tvalidation_0-rmse:0.388564\n",
      "[01:46:08] /workspace/src/tree/updater_prune.cc:74: tree pruning end, 1 roots, 1640 extra nodes, 0 pruned nodes, max_depth=10\n",
      "[105]\tvalidation_0-rmse:0.385475\n",
      "[01:46:20] /workspace/src/tree/updater_prune.cc:74: tree pruning end, 1 roots, 1260 extra nodes, 0 pruned nodes, max_depth=10\n",
      "[106]\tvalidation_0-rmse:0.382998\n",
      "[01:46:33] /workspace/src/tree/updater_prune.cc:74: tree pruning end, 1 roots, 1150 extra nodes, 0 pruned nodes, max_depth=10\n",
      "[107]\tvalidation_0-rmse:0.380849\n",
      "[01:46:46] /workspace/src/tree/updater_prune.cc:74: tree pruning end, 1 roots, 1628 extra nodes, 0 pruned nodes, max_depth=10\n",
      "[108]\tvalidation_0-rmse:0.376687\n",
      "[01:46:58] /workspace/src/tree/updater_prune.cc:74: tree pruning end, 1 roots, 1474 extra nodes, 0 pruned nodes, max_depth=10\n",
      "[109]\tvalidation_0-rmse:0.374476\n",
      "[01:47:12] /workspace/src/tree/updater_prune.cc:74: tree pruning end, 1 roots, 1398 extra nodes, 0 pruned nodes, max_depth=10\n",
      "[110]\tvalidation_0-rmse:0.372916\n",
      "[01:47:24] /workspace/src/tree/updater_prune.cc:74: tree pruning end, 1 roots, 1670 extra nodes, 0 pruned nodes, max_depth=10\n",
      "[111]\tvalidation_0-rmse:0.369015\n",
      "[01:47:37] /workspace/src/tree/updater_prune.cc:74: tree pruning end, 1 roots, 1264 extra nodes, 0 pruned nodes, max_depth=10\n",
      "[112]\tvalidation_0-rmse:0.36702\n",
      "[01:47:50] /workspace/src/tree/updater_prune.cc:74: tree pruning end, 1 roots, 1582 extra nodes, 0 pruned nodes, max_depth=10\n",
      "[113]\tvalidation_0-rmse:0.364202\n",
      "[01:48:03] /workspace/src/tree/updater_prune.cc:74: tree pruning end, 1 roots, 1036 extra nodes, 0 pruned nodes, max_depth=10\n",
      "[114]\tvalidation_0-rmse:0.362693\n",
      "[01:48:15] /workspace/src/tree/updater_prune.cc:74: tree pruning end, 1 roots, 1618 extra nodes, 0 pruned nodes, max_depth=10\n",
      "[115]\tvalidation_0-rmse:0.358942\n",
      "[01:48:29] /workspace/src/tree/updater_prune.cc:74: tree pruning end, 1 roots, 1016 extra nodes, 0 pruned nodes, max_depth=10\n",
      "[116]\tvalidation_0-rmse:0.356243\n",
      "[01:48:42] /workspace/src/tree/updater_prune.cc:74: tree pruning end, 1 roots, 1606 extra nodes, 0 pruned nodes, max_depth=10\n",
      "[117]\tvalidation_0-rmse:0.35286\n",
      "[01:48:55] /workspace/src/tree/updater_prune.cc:74: tree pruning end, 1 roots, 1230 extra nodes, 0 pruned nodes, max_depth=10\n",
      "[118]\tvalidation_0-rmse:0.351578\n",
      "[01:49:08] /workspace/src/tree/updater_prune.cc:74: tree pruning end, 1 roots, 1432 extra nodes, 0 pruned nodes, max_depth=10\n",
      "[119]\tvalidation_0-rmse:0.347966\n",
      "[01:49:20] /workspace/src/tree/updater_prune.cc:74: tree pruning end, 1 roots, 1580 extra nodes, 0 pruned nodes, max_depth=10\n",
      "[120]\tvalidation_0-rmse:0.345154\n",
      "[01:49:33] /workspace/src/tree/updater_prune.cc:74: tree pruning end, 1 roots, 1166 extra nodes, 0 pruned nodes, max_depth=10\n",
      "[121]\tvalidation_0-rmse:0.34391\n",
      "[01:49:46] /workspace/src/tree/updater_prune.cc:74: tree pruning end, 1 roots, 1228 extra nodes, 0 pruned nodes, max_depth=10\n",
      "[122]\tvalidation_0-rmse:0.342834\n",
      "[01:49:59] /workspace/src/tree/updater_prune.cc:74: tree pruning end, 1 roots, 1462 extra nodes, 0 pruned nodes, max_depth=10\n",
      "[123]\tvalidation_0-rmse:0.34049\n",
      "[01:50:12] /workspace/src/tree/updater_prune.cc:74: tree pruning end, 1 roots, 1264 extra nodes, 0 pruned nodes, max_depth=10\n",
      "[124]\tvalidation_0-rmse:0.339256\n",
      "[01:50:25] /workspace/src/tree/updater_prune.cc:74: tree pruning end, 1 roots, 1560 extra nodes, 0 pruned nodes, max_depth=10\n",
      "[125]\tvalidation_0-rmse:0.335755\n",
      "[01:50:37] /workspace/src/tree/updater_prune.cc:74: tree pruning end, 1 roots, 1318 extra nodes, 0 pruned nodes, max_depth=10\n",
      "[126]\tvalidation_0-rmse:0.334353\n",
      "[01:50:50] /workspace/src/tree/updater_prune.cc:74: tree pruning end, 1 roots, 1612 extra nodes, 0 pruned nodes, max_depth=10\n",
      "[127]\tvalidation_0-rmse:0.331523\n",
      "[01:51:03] /workspace/src/tree/updater_prune.cc:74: tree pruning end, 1 roots, 1566 extra nodes, 0 pruned nodes, max_depth=10\n",
      "[128]\tvalidation_0-rmse:0.329948\n",
      "[01:51:17] /workspace/src/tree/updater_prune.cc:74: tree pruning end, 1 roots, 1650 extra nodes, 0 pruned nodes, max_depth=10\n",
      "[129]\tvalidation_0-rmse:0.327653\n",
      "[01:51:29] /workspace/src/tree/updater_prune.cc:74: tree pruning end, 1 roots, 1334 extra nodes, 0 pruned nodes, max_depth=10\n",
      "[130]\tvalidation_0-rmse:0.32664\n",
      "[01:51:42] /workspace/src/tree/updater_prune.cc:74: tree pruning end, 1 roots, 1570 extra nodes, 0 pruned nodes, max_depth=10\n",
      "[131]\tvalidation_0-rmse:0.324057\n",
      "[01:51:54] /workspace/src/tree/updater_prune.cc:74: tree pruning end, 1 roots, 1346 extra nodes, 0 pruned nodes, max_depth=10\n",
      "[132]\tvalidation_0-rmse:0.323078\n",
      "[01:52:07] /workspace/src/tree/updater_prune.cc:74: tree pruning end, 1 roots, 1724 extra nodes, 0 pruned nodes, max_depth=10\n",
      "[133]\tvalidation_0-rmse:0.32111\n",
      "[01:52:20] /workspace/src/tree/updater_prune.cc:74: tree pruning end, 1 roots, 1738 extra nodes, 0 pruned nodes, max_depth=10\n",
      "[134]\tvalidation_0-rmse:0.319456\n",
      "[01:52:34] /workspace/src/tree/updater_prune.cc:74: tree pruning end, 1 roots, 1746 extra nodes, 0 pruned nodes, max_depth=10\n",
      "[135]\tvalidation_0-rmse:0.31759\n",
      "[01:52:47] /workspace/src/tree/updater_prune.cc:74: tree pruning end, 1 roots, 1022 extra nodes, 0 pruned nodes, max_depth=10\n",
      "[136]\tvalidation_0-rmse:0.317186\n",
      "[01:53:00] /workspace/src/tree/updater_prune.cc:74: tree pruning end, 1 roots, 1144 extra nodes, 0 pruned nodes, max_depth=10\n",
      "[137]\tvalidation_0-rmse:0.316499\n",
      "[01:53:13] /workspace/src/tree/updater_prune.cc:74: tree pruning end, 1 roots, 1398 extra nodes, 0 pruned nodes, max_depth=10\n",
      "[138]\tvalidation_0-rmse:0.315262\n",
      "[01:53:25] /workspace/src/tree/updater_prune.cc:74: tree pruning end, 1 roots, 1550 extra nodes, 0 pruned nodes, max_depth=10\n",
      "[139]\tvalidation_0-rmse:0.312867\n",
      "[01:53:38] /workspace/src/tree/updater_prune.cc:74: tree pruning end, 1 roots, 1364 extra nodes, 0 pruned nodes, max_depth=10\n",
      "[140]\tvalidation_0-rmse:0.311599\n",
      "[01:53:52] /workspace/src/tree/updater_prune.cc:74: tree pruning end, 1 roots, 1666 extra nodes, 0 pruned nodes, max_depth=10\n",
      "[141]\tvalidation_0-rmse:0.309638\n",
      "[01:54:05] /workspace/src/tree/updater_prune.cc:74: tree pruning end, 1 roots, 1316 extra nodes, 0 pruned nodes, max_depth=10\n",
      "[142]\tvalidation_0-rmse:0.308899\n",
      "[01:54:18] /workspace/src/tree/updater_prune.cc:74: tree pruning end, 1 roots, 1616 extra nodes, 0 pruned nodes, max_depth=10\n",
      "[143]\tvalidation_0-rmse:0.306804\n",
      "[01:54:30] /workspace/src/tree/updater_prune.cc:74: tree pruning end, 1 roots, 1654 extra nodes, 0 pruned nodes, max_depth=10\n",
      "[144]\tvalidation_0-rmse:0.305126\n",
      "[01:54:43] /workspace/src/tree/updater_prune.cc:74: tree pruning end, 1 roots, 1264 extra nodes, 0 pruned nodes, max_depth=10\n",
      "[145]\tvalidation_0-rmse:0.304346\n",
      "[01:54:55] /workspace/src/tree/updater_prune.cc:74: tree pruning end, 1 roots, 1564 extra nodes, 0 pruned nodes, max_depth=10\n",
      "[146]\tvalidation_0-rmse:0.303579\n",
      "[01:55:09] /workspace/src/tree/updater_prune.cc:74: tree pruning end, 1 roots, 990 extra nodes, 0 pruned nodes, max_depth=10\n",
      "[147]\tvalidation_0-rmse:0.303203\n",
      "[01:55:22] /workspace/src/tree/updater_prune.cc:74: tree pruning end, 1 roots, 1428 extra nodes, 0 pruned nodes, max_depth=10\n",
      "[148]\tvalidation_0-rmse:0.302144\n",
      "[01:55:35] /workspace/src/tree/updater_prune.cc:74: tree pruning end, 1 roots, 1256 extra nodes, 0 pruned nodes, max_depth=10\n",
      "[149]\tvalidation_0-rmse:0.301105\n",
      "[01:55:47] /workspace/src/tree/updater_prune.cc:74: tree pruning end, 1 roots, 1302 extra nodes, 0 pruned nodes, max_depth=10\n",
      "[150]\tvalidation_0-rmse:0.299895\n",
      "[01:56:00] /workspace/src/tree/updater_prune.cc:74: tree pruning end, 1 roots, 1212 extra nodes, 0 pruned nodes, max_depth=10\n",
      "[151]\tvalidation_0-rmse:0.299428\n",
      "[01:56:13] /workspace/src/tree/updater_prune.cc:74: tree pruning end, 1 roots, 1638 extra nodes, 0 pruned nodes, max_depth=10\n",
      "[152]\tvalidation_0-rmse:0.29827\n",
      "[01:56:26] /workspace/src/tree/updater_prune.cc:74: tree pruning end, 1 roots, 1276 extra nodes, 0 pruned nodes, max_depth=10\n",
      "[153]\tvalidation_0-rmse:0.297235\n",
      "[01:56:39] /workspace/src/tree/updater_prune.cc:74: tree pruning end, 1 roots, 1544 extra nodes, 0 pruned nodes, max_depth=10\n",
      "[154]\tvalidation_0-rmse:0.296173\n",
      "[01:56:52] /workspace/src/tree/updater_prune.cc:74: tree pruning end, 1 roots, 1038 extra nodes, 0 pruned nodes, max_depth=10\n",
      "[155]\tvalidation_0-rmse:0.295791\n",
      "[01:57:04] /workspace/src/tree/updater_prune.cc:74: tree pruning end, 1 roots, 1408 extra nodes, 0 pruned nodes, max_depth=10\n"
     ]
    },
    {
     "name": "stdout",
     "output_type": "stream",
     "text": [
      "[156]\tvalidation_0-rmse:0.295063\n",
      "[01:57:17] /workspace/src/tree/updater_prune.cc:74: tree pruning end, 1 roots, 1320 extra nodes, 0 pruned nodes, max_depth=10\n",
      "[157]\tvalidation_0-rmse:0.294347\n",
      "[01:57:30] /workspace/src/tree/updater_prune.cc:74: tree pruning end, 1 roots, 1364 extra nodes, 0 pruned nodes, max_depth=10\n",
      "[158]\tvalidation_0-rmse:0.293216\n",
      "[01:57:43] /workspace/src/tree/updater_prune.cc:74: tree pruning end, 1 roots, 1244 extra nodes, 0 pruned nodes, max_depth=10\n",
      "[159]\tvalidation_0-rmse:0.292666\n",
      "[01:57:57] /workspace/src/tree/updater_prune.cc:74: tree pruning end, 1 roots, 1650 extra nodes, 0 pruned nodes, max_depth=10\n",
      "[160]\tvalidation_0-rmse:0.29174\n",
      "[01:58:10] /workspace/src/tree/updater_prune.cc:74: tree pruning end, 1 roots, 1702 extra nodes, 0 pruned nodes, max_depth=10\n",
      "[161]\tvalidation_0-rmse:0.290901\n",
      "[01:58:23] /workspace/src/tree/updater_prune.cc:74: tree pruning end, 1 roots, 1326 extra nodes, 0 pruned nodes, max_depth=10\n",
      "[162]\tvalidation_0-rmse:0.289588\n",
      "[01:58:35] /workspace/src/tree/updater_prune.cc:74: tree pruning end, 1 roots, 1322 extra nodes, 0 pruned nodes, max_depth=10\n",
      "[163]\tvalidation_0-rmse:0.288854\n",
      "[01:58:49] /workspace/src/tree/updater_prune.cc:74: tree pruning end, 1 roots, 1336 extra nodes, 0 pruned nodes, max_depth=10\n",
      "[164]\tvalidation_0-rmse:0.288334\n",
      "[01:59:02] /workspace/src/tree/updater_prune.cc:74: tree pruning end, 1 roots, 1410 extra nodes, 0 pruned nodes, max_depth=10\n",
      "[165]\tvalidation_0-rmse:0.287176\n",
      "[01:59:16] /workspace/src/tree/updater_prune.cc:74: tree pruning end, 1 roots, 1310 extra nodes, 0 pruned nodes, max_depth=10\n",
      "[166]\tvalidation_0-rmse:0.286525\n",
      "[01:59:28] /workspace/src/tree/updater_prune.cc:74: tree pruning end, 1 roots, 862 extra nodes, 0 pruned nodes, max_depth=10\n",
      "[167]\tvalidation_0-rmse:0.286206\n",
      "[01:59:41] /workspace/src/tree/updater_prune.cc:74: tree pruning end, 1 roots, 1580 extra nodes, 0 pruned nodes, max_depth=10\n",
      "[168]\tvalidation_0-rmse:0.285521\n",
      "[01:59:54] /workspace/src/tree/updater_prune.cc:74: tree pruning end, 1 roots, 1558 extra nodes, 0 pruned nodes, max_depth=10\n",
      "[169]\tvalidation_0-rmse:0.284349\n",
      "[02:00:07] /workspace/src/tree/updater_prune.cc:74: tree pruning end, 1 roots, 1438 extra nodes, 0 pruned nodes, max_depth=10\n",
      "[170]\tvalidation_0-rmse:0.283652\n",
      "[02:00:19] /workspace/src/tree/updater_prune.cc:74: tree pruning end, 1 roots, 1340 extra nodes, 0 pruned nodes, max_depth=10\n",
      "[171]\tvalidation_0-rmse:0.283256\n",
      "[02:00:33] /workspace/src/tree/updater_prune.cc:74: tree pruning end, 1 roots, 1598 extra nodes, 0 pruned nodes, max_depth=10\n",
      "[172]\tvalidation_0-rmse:0.2824\n",
      "[02:00:46] /workspace/src/tree/updater_prune.cc:74: tree pruning end, 1 roots, 1388 extra nodes, 0 pruned nodes, max_depth=10\n",
      "[173]\tvalidation_0-rmse:0.281435\n",
      "[02:00:59] /workspace/src/tree/updater_prune.cc:74: tree pruning end, 1 roots, 1240 extra nodes, 0 pruned nodes, max_depth=10\n",
      "[174]\tvalidation_0-rmse:0.280964\n",
      "[02:01:12] /workspace/src/tree/updater_prune.cc:74: tree pruning end, 1 roots, 1496 extra nodes, 0 pruned nodes, max_depth=10\n",
      "[175]\tvalidation_0-rmse:0.279976\n",
      "[02:01:24] /workspace/src/tree/updater_prune.cc:74: tree pruning end, 1 roots, 1368 extra nodes, 0 pruned nodes, max_depth=10\n",
      "[176]\tvalidation_0-rmse:0.279419\n",
      "[02:01:37] /workspace/src/tree/updater_prune.cc:74: tree pruning end, 1 roots, 1442 extra nodes, 0 pruned nodes, max_depth=10\n",
      "[177]\tvalidation_0-rmse:0.278803\n",
      "[02:01:51] /workspace/src/tree/updater_prune.cc:74: tree pruning end, 1 roots, 948 extra nodes, 0 pruned nodes, max_depth=10\n",
      "[178]\tvalidation_0-rmse:0.278614\n",
      "[02:02:03] /workspace/src/tree/updater_prune.cc:74: tree pruning end, 1 roots, 1584 extra nodes, 0 pruned nodes, max_depth=10\n",
      "[179]\tvalidation_0-rmse:0.278017\n",
      "[02:02:16] /workspace/src/tree/updater_prune.cc:74: tree pruning end, 1 roots, 1536 extra nodes, 0 pruned nodes, max_depth=10\n",
      "[180]\tvalidation_0-rmse:0.276905\n",
      "[02:02:29] /workspace/src/tree/updater_prune.cc:74: tree pruning end, 1 roots, 1346 extra nodes, 0 pruned nodes, max_depth=10\n",
      "[181]\tvalidation_0-rmse:0.276324\n",
      "[02:02:42] /workspace/src/tree/updater_prune.cc:74: tree pruning end, 1 roots, 1476 extra nodes, 0 pruned nodes, max_depth=10\n",
      "[182]\tvalidation_0-rmse:0.275754\n",
      "[02:02:55] /workspace/src/tree/updater_prune.cc:74: tree pruning end, 1 roots, 1448 extra nodes, 0 pruned nodes, max_depth=10\n",
      "[183]\tvalidation_0-rmse:0.275363\n",
      "[02:03:08] /workspace/src/tree/updater_prune.cc:74: tree pruning end, 1 roots, 1180 extra nodes, 0 pruned nodes, max_depth=10\n",
      "[184]\tvalidation_0-rmse:0.275151\n",
      "[02:03:21] /workspace/src/tree/updater_prune.cc:74: tree pruning end, 1 roots, 966 extra nodes, 0 pruned nodes, max_depth=10\n",
      "[185]\tvalidation_0-rmse:0.274901\n",
      "[02:03:34] /workspace/src/tree/updater_prune.cc:74: tree pruning end, 1 roots, 1304 extra nodes, 0 pruned nodes, max_depth=10\n",
      "[186]\tvalidation_0-rmse:0.274572\n",
      "[02:03:47] /workspace/src/tree/updater_prune.cc:74: tree pruning end, 1 roots, 942 extra nodes, 0 pruned nodes, max_depth=10\n",
      "[187]\tvalidation_0-rmse:0.274294\n",
      "[02:04:01] /workspace/src/tree/updater_prune.cc:74: tree pruning end, 1 roots, 1604 extra nodes, 0 pruned nodes, max_depth=10\n",
      "[188]\tvalidation_0-rmse:0.273351\n",
      "[02:04:14] /workspace/src/tree/updater_prune.cc:74: tree pruning end, 1 roots, 1352 extra nodes, 0 pruned nodes, max_depth=10\n",
      "[189]\tvalidation_0-rmse:0.273093\n",
      "[02:04:27] /workspace/src/tree/updater_prune.cc:74: tree pruning end, 1 roots, 1490 extra nodes, 0 pruned nodes, max_depth=10\n",
      "[190]\tvalidation_0-rmse:0.272722\n",
      "[02:04:40] /workspace/src/tree/updater_prune.cc:74: tree pruning end, 1 roots, 1412 extra nodes, 0 pruned nodes, max_depth=10\n",
      "[191]\tvalidation_0-rmse:0.272096\n",
      "[02:04:53] /workspace/src/tree/updater_prune.cc:74: tree pruning end, 1 roots, 766 extra nodes, 0 pruned nodes, max_depth=10\n",
      "[192]\tvalidation_0-rmse:0.271941\n",
      "[02:05:05] /workspace/src/tree/updater_prune.cc:74: tree pruning end, 1 roots, 1432 extra nodes, 0 pruned nodes, max_depth=10\n",
      "[193]\tvalidation_0-rmse:0.271554\n",
      "[02:05:18] /workspace/src/tree/updater_prune.cc:74: tree pruning end, 1 roots, 1176 extra nodes, 0 pruned nodes, max_depth=10\n",
      "[194]\tvalidation_0-rmse:0.271112\n",
      "[02:05:31] /workspace/src/tree/updater_prune.cc:74: tree pruning end, 1 roots, 1390 extra nodes, 0 pruned nodes, max_depth=10\n",
      "[195]\tvalidation_0-rmse:0.270818\n",
      "[02:05:44] /workspace/src/tree/updater_prune.cc:74: tree pruning end, 1 roots, 1340 extra nodes, 0 pruned nodes, max_depth=10\n",
      "[196]\tvalidation_0-rmse:0.270241\n",
      "[02:05:57] /workspace/src/tree/updater_prune.cc:74: tree pruning end, 1 roots, 1296 extra nodes, 0 pruned nodes, max_depth=10\n",
      "[197]\tvalidation_0-rmse:0.269835\n",
      "[02:06:10] /workspace/src/tree/updater_prune.cc:74: tree pruning end, 1 roots, 888 extra nodes, 0 pruned nodes, max_depth=10\n",
      "[198]\tvalidation_0-rmse:0.269714\n",
      "[02:06:22] /workspace/src/tree/updater_prune.cc:74: tree pruning end, 1 roots, 1292 extra nodes, 0 pruned nodes, max_depth=10\n",
      "[199]\tvalidation_0-rmse:0.26951\n",
      "[02:06:35] /workspace/src/tree/updater_prune.cc:74: tree pruning end, 1 roots, 1382 extra nodes, 0 pruned nodes, max_depth=10\n",
      "[200]\tvalidation_0-rmse:0.268697\n",
      "[02:06:47] /workspace/src/tree/updater_prune.cc:74: tree pruning end, 1 roots, 986 extra nodes, 0 pruned nodes, max_depth=10\n",
      "[201]\tvalidation_0-rmse:0.268493\n",
      "[02:07:00] /workspace/src/tree/updater_prune.cc:74: tree pruning end, 1 roots, 1508 extra nodes, 0 pruned nodes, max_depth=10\n",
      "[202]\tvalidation_0-rmse:0.268192\n",
      "[02:07:14] /workspace/src/tree/updater_prune.cc:74: tree pruning end, 1 roots, 1404 extra nodes, 0 pruned nodes, max_depth=10\n",
      "[203]\tvalidation_0-rmse:0.267697\n",
      "[02:07:27] /workspace/src/tree/updater_prune.cc:74: tree pruning end, 1 roots, 1158 extra nodes, 0 pruned nodes, max_depth=10\n",
      "[204]\tvalidation_0-rmse:0.267353\n",
      "[02:07:39] /workspace/src/tree/updater_prune.cc:74: tree pruning end, 1 roots, 1382 extra nodes, 0 pruned nodes, max_depth=10\n",
      "[205]\tvalidation_0-rmse:0.266773\n",
      "[02:07:52] /workspace/src/tree/updater_prune.cc:74: tree pruning end, 1 roots, 1460 extra nodes, 0 pruned nodes, max_depth=10\n",
      "[206]\tvalidation_0-rmse:0.266101\n",
      "[02:08:05] /workspace/src/tree/updater_prune.cc:74: tree pruning end, 1 roots, 1306 extra nodes, 0 pruned nodes, max_depth=10\n",
      "[207]\tvalidation_0-rmse:0.265768\n",
      "[02:08:18] /workspace/src/tree/updater_prune.cc:74: tree pruning end, 1 roots, 1736 extra nodes, 0 pruned nodes, max_depth=10\n"
     ]
    },
    {
     "name": "stdout",
     "output_type": "stream",
     "text": [
      "[208]\tvalidation_0-rmse:0.265267\n",
      "[02:08:32] /workspace/src/tree/updater_prune.cc:74: tree pruning end, 1 roots, 1456 extra nodes, 0 pruned nodes, max_depth=10\n",
      "[209]\tvalidation_0-rmse:0.264992\n",
      "[02:08:44] /workspace/src/tree/updater_prune.cc:74: tree pruning end, 1 roots, 1112 extra nodes, 0 pruned nodes, max_depth=10\n",
      "[210]\tvalidation_0-rmse:0.264818\n",
      "[02:08:57] /workspace/src/tree/updater_prune.cc:74: tree pruning end, 1 roots, 1020 extra nodes, 0 pruned nodes, max_depth=10\n",
      "[211]\tvalidation_0-rmse:0.264637\n",
      "[02:09:10] /workspace/src/tree/updater_prune.cc:74: tree pruning end, 1 roots, 1288 extra nodes, 0 pruned nodes, max_depth=10\n",
      "[212]\tvalidation_0-rmse:0.264134\n",
      "[02:09:24] /workspace/src/tree/updater_prune.cc:74: tree pruning end, 1 roots, 1486 extra nodes, 0 pruned nodes, max_depth=10\n",
      "[213]\tvalidation_0-rmse:0.263464\n",
      "[02:09:36] /workspace/src/tree/updater_prune.cc:74: tree pruning end, 1 roots, 1346 extra nodes, 0 pruned nodes, max_depth=10\n",
      "[214]\tvalidation_0-rmse:0.263146\n",
      "[02:09:50] /workspace/src/tree/updater_prune.cc:74: tree pruning end, 1 roots, 1662 extra nodes, 0 pruned nodes, max_depth=10\n",
      "[215]\tvalidation_0-rmse:0.26282\n",
      "[02:10:03] /workspace/src/tree/updater_prune.cc:74: tree pruning end, 1 roots, 844 extra nodes, 0 pruned nodes, max_depth=10\n",
      "[216]\tvalidation_0-rmse:0.262715\n",
      "[02:10:15] /workspace/src/tree/updater_prune.cc:74: tree pruning end, 1 roots, 1278 extra nodes, 0 pruned nodes, max_depth=10\n",
      "[217]\tvalidation_0-rmse:0.262412\n",
      "[02:10:28] /workspace/src/tree/updater_prune.cc:74: tree pruning end, 1 roots, 1310 extra nodes, 0 pruned nodes, max_depth=10\n",
      "[218]\tvalidation_0-rmse:0.261876\n",
      "[02:10:41] /workspace/src/tree/updater_prune.cc:74: tree pruning end, 1 roots, 1512 extra nodes, 0 pruned nodes, max_depth=10\n",
      "[219]\tvalidation_0-rmse:0.261228\n",
      "[02:10:53] /workspace/src/tree/updater_prune.cc:74: tree pruning end, 1 roots, 1262 extra nodes, 0 pruned nodes, max_depth=10\n",
      "[220]\tvalidation_0-rmse:0.260933\n",
      "[02:11:06] /workspace/src/tree/updater_prune.cc:74: tree pruning end, 1 roots, 1056 extra nodes, 0 pruned nodes, max_depth=10\n",
      "[221]\tvalidation_0-rmse:0.260696\n",
      "[02:11:20] /workspace/src/tree/updater_prune.cc:74: tree pruning end, 1 roots, 1362 extra nodes, 0 pruned nodes, max_depth=10\n",
      "[222]\tvalidation_0-rmse:0.260303\n",
      "[02:11:32] /workspace/src/tree/updater_prune.cc:74: tree pruning end, 1 roots, 1144 extra nodes, 0 pruned nodes, max_depth=10\n",
      "[223]\tvalidation_0-rmse:0.259988\n",
      "[02:11:45] /workspace/src/tree/updater_prune.cc:74: tree pruning end, 1 roots, 1112 extra nodes, 0 pruned nodes, max_depth=10\n",
      "[224]\tvalidation_0-rmse:0.259705\n",
      "[02:11:58] /workspace/src/tree/updater_prune.cc:74: tree pruning end, 1 roots, 1162 extra nodes, 0 pruned nodes, max_depth=10\n",
      "[225]\tvalidation_0-rmse:0.259427\n",
      "[02:12:10] /workspace/src/tree/updater_prune.cc:74: tree pruning end, 1 roots, 1250 extra nodes, 0 pruned nodes, max_depth=10\n",
      "[226]\tvalidation_0-rmse:0.259255\n",
      "[02:12:23] /workspace/src/tree/updater_prune.cc:74: tree pruning end, 1 roots, 1452 extra nodes, 0 pruned nodes, max_depth=10\n",
      "[227]\tvalidation_0-rmse:0.25887\n",
      "[02:12:37] /workspace/src/tree/updater_prune.cc:74: tree pruning end, 1 roots, 1152 extra nodes, 0 pruned nodes, max_depth=10\n",
      "[228]\tvalidation_0-rmse:0.258572\n",
      "[02:12:50] /workspace/src/tree/updater_prune.cc:74: tree pruning end, 1 roots, 952 extra nodes, 0 pruned nodes, max_depth=10\n",
      "[229]\tvalidation_0-rmse:0.25846\n",
      "[02:13:02] /workspace/src/tree/updater_prune.cc:74: tree pruning end, 1 roots, 1652 extra nodes, 0 pruned nodes, max_depth=10\n",
      "[230]\tvalidation_0-rmse:0.25822\n",
      "[02:13:15] /workspace/src/tree/updater_prune.cc:74: tree pruning end, 1 roots, 1334 extra nodes, 0 pruned nodes, max_depth=10\n",
      "[231]\tvalidation_0-rmse:0.257858\n",
      "[02:13:28] /workspace/src/tree/updater_prune.cc:74: tree pruning end, 1 roots, 1406 extra nodes, 0 pruned nodes, max_depth=10\n",
      "[232]\tvalidation_0-rmse:0.257725\n",
      "[02:13:41] /workspace/src/tree/updater_prune.cc:74: tree pruning end, 1 roots, 1240 extra nodes, 0 pruned nodes, max_depth=10\n",
      "[233]\tvalidation_0-rmse:0.257516\n",
      "[02:13:55] /workspace/src/tree/updater_prune.cc:74: tree pruning end, 1 roots, 1246 extra nodes, 0 pruned nodes, max_depth=10\n",
      "[234]\tvalidation_0-rmse:0.257354\n",
      "[02:14:08] /workspace/src/tree/updater_prune.cc:74: tree pruning end, 1 roots, 930 extra nodes, 0 pruned nodes, max_depth=10\n",
      "[235]\tvalidation_0-rmse:0.257304\n",
      "[02:14:21] /workspace/src/tree/updater_prune.cc:74: tree pruning end, 1 roots, 1204 extra nodes, 0 pruned nodes, max_depth=10\n",
      "[236]\tvalidation_0-rmse:0.257091\n",
      "[02:14:34] /workspace/src/tree/updater_prune.cc:74: tree pruning end, 1 roots, 966 extra nodes, 0 pruned nodes, max_depth=10\n",
      "[237]\tvalidation_0-rmse:0.256948\n",
      "[02:14:47] /workspace/src/tree/updater_prune.cc:74: tree pruning end, 1 roots, 1604 extra nodes, 0 pruned nodes, max_depth=10\n",
      "[238]\tvalidation_0-rmse:0.256463\n",
      "[02:14:59] /workspace/src/tree/updater_prune.cc:74: tree pruning end, 1 roots, 1378 extra nodes, 0 pruned nodes, max_depth=10\n",
      "[239]\tvalidation_0-rmse:0.256095\n",
      "[02:15:13] /workspace/src/tree/updater_prune.cc:74: tree pruning end, 1 roots, 1024 extra nodes, 0 pruned nodes, max_depth=10\n",
      "[240]\tvalidation_0-rmse:0.255828\n",
      "[02:15:26] /workspace/src/tree/updater_prune.cc:74: tree pruning end, 1 roots, 1026 extra nodes, 0 pruned nodes, max_depth=10\n",
      "[241]\tvalidation_0-rmse:0.255614\n",
      "[02:15:38] /workspace/src/tree/updater_prune.cc:74: tree pruning end, 1 roots, 1312 extra nodes, 0 pruned nodes, max_depth=10\n",
      "[242]\tvalidation_0-rmse:0.255218\n",
      "[02:15:51] /workspace/src/tree/updater_prune.cc:74: tree pruning end, 1 roots, 1198 extra nodes, 0 pruned nodes, max_depth=10\n",
      "[243]\tvalidation_0-rmse:0.254947\n",
      "[02:16:03] /workspace/src/tree/updater_prune.cc:74: tree pruning end, 1 roots, 1354 extra nodes, 0 pruned nodes, max_depth=10\n",
      "[244]\tvalidation_0-rmse:0.25475\n",
      "[02:16:16] /workspace/src/tree/updater_prune.cc:74: tree pruning end, 1 roots, 1332 extra nodes, 0 pruned nodes, max_depth=10\n",
      "[245]\tvalidation_0-rmse:0.254401\n",
      "[02:16:29] /workspace/src/tree/updater_prune.cc:74: tree pruning end, 1 roots, 996 extra nodes, 0 pruned nodes, max_depth=10\n",
      "[246]\tvalidation_0-rmse:0.254212\n",
      "[02:16:42] /workspace/src/tree/updater_prune.cc:74: tree pruning end, 1 roots, 800 extra nodes, 0 pruned nodes, max_depth=10\n",
      "[247]\tvalidation_0-rmse:0.254158\n",
      "[02:16:55] /workspace/src/tree/updater_prune.cc:74: tree pruning end, 1 roots, 1200 extra nodes, 0 pruned nodes, max_depth=10\n",
      "[248]\tvalidation_0-rmse:0.253863\n",
      "[02:17:08] /workspace/src/tree/updater_prune.cc:74: tree pruning end, 1 roots, 1450 extra nodes, 0 pruned nodes, max_depth=10\n",
      "[249]\tvalidation_0-rmse:0.253551\n",
      "[02:17:20] /workspace/src/tree/updater_prune.cc:74: tree pruning end, 1 roots, 1570 extra nodes, 0 pruned nodes, max_depth=10\n",
      "[250]\tvalidation_0-rmse:0.253288\n",
      "[02:17:33] /workspace/src/tree/updater_prune.cc:74: tree pruning end, 1 roots, 1076 extra nodes, 0 pruned nodes, max_depth=10\n",
      "[251]\tvalidation_0-rmse:0.253019\n",
      "[02:17:45] /workspace/src/tree/updater_prune.cc:74: tree pruning end, 1 roots, 1392 extra nodes, 0 pruned nodes, max_depth=10\n",
      "[252]\tvalidation_0-rmse:0.252864\n",
      "[02:17:59] /workspace/src/tree/updater_prune.cc:74: tree pruning end, 1 roots, 834 extra nodes, 0 pruned nodes, max_depth=10\n",
      "[253]\tvalidation_0-rmse:0.25275\n",
      "[02:18:12] /workspace/src/tree/updater_prune.cc:74: tree pruning end, 1 roots, 1372 extra nodes, 0 pruned nodes, max_depth=10\n",
      "[254]\tvalidation_0-rmse:0.252517\n",
      "[02:18:25] /workspace/src/tree/updater_prune.cc:74: tree pruning end, 1 roots, 1056 extra nodes, 0 pruned nodes, max_depth=10\n",
      "[255]\tvalidation_0-rmse:0.25239\n",
      "[02:18:37] /workspace/src/tree/updater_prune.cc:74: tree pruning end, 1 roots, 1636 extra nodes, 0 pruned nodes, max_depth=10\n",
      "[256]\tvalidation_0-rmse:0.25199\n",
      "[02:18:50] /workspace/src/tree/updater_prune.cc:74: tree pruning end, 1 roots, 1204 extra nodes, 0 pruned nodes, max_depth=10\n",
      "[257]\tvalidation_0-rmse:0.251635\n",
      "[02:19:02] /workspace/src/tree/updater_prune.cc:74: tree pruning end, 1 roots, 1336 extra nodes, 0 pruned nodes, max_depth=10\n",
      "[258]\tvalidation_0-rmse:0.251531\n",
      "[02:19:16] /workspace/src/tree/updater_prune.cc:74: tree pruning end, 1 roots, 900 extra nodes, 0 pruned nodes, max_depth=10\n",
      "[259]\tvalidation_0-rmse:0.251482\n",
      "[02:19:29] /workspace/src/tree/updater_prune.cc:74: tree pruning end, 1 roots, 1016 extra nodes, 0 pruned nodes, max_depth=10\n"
     ]
    },
    {
     "name": "stdout",
     "output_type": "stream",
     "text": [
      "[260]\tvalidation_0-rmse:0.251378\n",
      "[02:19:43] /workspace/src/tree/updater_prune.cc:74: tree pruning end, 1 roots, 1316 extra nodes, 0 pruned nodes, max_depth=10\n",
      "[261]\tvalidation_0-rmse:0.251049\n",
      "[02:19:56] /workspace/src/tree/updater_prune.cc:74: tree pruning end, 1 roots, 1382 extra nodes, 0 pruned nodes, max_depth=10\n",
      "[262]\tvalidation_0-rmse:0.250509\n",
      "[02:20:08] /workspace/src/tree/updater_prune.cc:74: tree pruning end, 1 roots, 1424 extra nodes, 0 pruned nodes, max_depth=10\n",
      "[263]\tvalidation_0-rmse:0.250361\n",
      "[02:20:21] /workspace/src/tree/updater_prune.cc:74: tree pruning end, 1 roots, 1020 extra nodes, 0 pruned nodes, max_depth=10\n",
      "[264]\tvalidation_0-rmse:0.250151\n",
      "[02:20:34] /workspace/src/tree/updater_prune.cc:74: tree pruning end, 1 roots, 1420 extra nodes, 0 pruned nodes, max_depth=10\n",
      "[265]\tvalidation_0-rmse:0.249781\n",
      "[02:20:47] /workspace/src/tree/updater_prune.cc:74: tree pruning end, 1 roots, 1618 extra nodes, 0 pruned nodes, max_depth=10\n",
      "[266]\tvalidation_0-rmse:0.2495\n",
      "[02:21:00] /workspace/src/tree/updater_prune.cc:74: tree pruning end, 1 roots, 1614 extra nodes, 0 pruned nodes, max_depth=10\n",
      "[267]\tvalidation_0-rmse:0.24921\n",
      "[02:21:13] /workspace/src/tree/updater_prune.cc:74: tree pruning end, 1 roots, 1252 extra nodes, 0 pruned nodes, max_depth=10\n",
      "[268]\tvalidation_0-rmse:0.249005\n",
      "[02:21:25] /workspace/src/tree/updater_prune.cc:74: tree pruning end, 1 roots, 1536 extra nodes, 0 pruned nodes, max_depth=10\n",
      "[269]\tvalidation_0-rmse:0.248518\n",
      "[02:21:38] /workspace/src/tree/updater_prune.cc:74: tree pruning end, 1 roots, 1388 extra nodes, 0 pruned nodes, max_depth=10\n",
      "[270]\tvalidation_0-rmse:0.248245\n",
      "[02:21:51] /workspace/src/tree/updater_prune.cc:74: tree pruning end, 1 roots, 1132 extra nodes, 0 pruned nodes, max_depth=10\n",
      "[271]\tvalidation_0-rmse:0.248193\n",
      "[02:22:04] /workspace/src/tree/updater_prune.cc:74: tree pruning end, 1 roots, 1064 extra nodes, 0 pruned nodes, max_depth=10\n",
      "[272]\tvalidation_0-rmse:0.247939\n",
      "[02:22:17] /workspace/src/tree/updater_prune.cc:74: tree pruning end, 1 roots, 1036 extra nodes, 0 pruned nodes, max_depth=10\n",
      "[273]\tvalidation_0-rmse:0.247836\n",
      "[02:22:29] /workspace/src/tree/updater_prune.cc:74: tree pruning end, 1 roots, 1404 extra nodes, 0 pruned nodes, max_depth=10\n",
      "[274]\tvalidation_0-rmse:0.247678\n",
      "[02:22:42] /workspace/src/tree/updater_prune.cc:74: tree pruning end, 1 roots, 1516 extra nodes, 0 pruned nodes, max_depth=10\n",
      "[275]\tvalidation_0-rmse:0.247366\n",
      "[02:22:55] /workspace/src/tree/updater_prune.cc:74: tree pruning end, 1 roots, 978 extra nodes, 0 pruned nodes, max_depth=10\n",
      "[276]\tvalidation_0-rmse:0.247239\n",
      "[02:23:07] /workspace/src/tree/updater_prune.cc:74: tree pruning end, 1 roots, 940 extra nodes, 0 pruned nodes, max_depth=10\n",
      "[277]\tvalidation_0-rmse:0.247168\n",
      "[02:23:21] /workspace/src/tree/updater_prune.cc:74: tree pruning end, 1 roots, 1254 extra nodes, 0 pruned nodes, max_depth=10\n",
      "[278]\tvalidation_0-rmse:0.246926\n",
      "[02:23:34] /workspace/src/tree/updater_prune.cc:74: tree pruning end, 1 roots, 998 extra nodes, 0 pruned nodes, max_depth=10\n",
      "[279]\tvalidation_0-rmse:0.246771\n",
      "[02:23:47] /workspace/src/tree/updater_prune.cc:74: tree pruning end, 1 roots, 920 extra nodes, 0 pruned nodes, max_depth=10\n",
      "[280]\tvalidation_0-rmse:0.246734\n",
      "[02:23:59] /workspace/src/tree/updater_prune.cc:74: tree pruning end, 1 roots, 1370 extra nodes, 0 pruned nodes, max_depth=10\n",
      "[281]\tvalidation_0-rmse:0.246591\n",
      "[02:24:12] /workspace/src/tree/updater_prune.cc:74: tree pruning end, 1 roots, 960 extra nodes, 0 pruned nodes, max_depth=10\n",
      "[282]\tvalidation_0-rmse:0.246502\n",
      "[02:24:24] /workspace/src/tree/updater_prune.cc:74: tree pruning end, 1 roots, 1254 extra nodes, 0 pruned nodes, max_depth=10\n",
      "[283]\tvalidation_0-rmse:0.246211\n",
      "[02:24:39] /workspace/src/tree/updater_prune.cc:74: tree pruning end, 1 roots, 1380 extra nodes, 0 pruned nodes, max_depth=10\n",
      "[284]\tvalidation_0-rmse:0.246107\n",
      "[02:24:52] /workspace/src/tree/updater_prune.cc:74: tree pruning end, 1 roots, 688 extra nodes, 0 pruned nodes, max_depth=10\n",
      "[285]\tvalidation_0-rmse:0.246075\n",
      "[02:25:04] /workspace/src/tree/updater_prune.cc:74: tree pruning end, 1 roots, 1136 extra nodes, 0 pruned nodes, max_depth=10\n",
      "[286]\tvalidation_0-rmse:0.245949\n",
      "[02:25:17] /workspace/src/tree/updater_prune.cc:74: tree pruning end, 1 roots, 1466 extra nodes, 0 pruned nodes, max_depth=10\n",
      "[287]\tvalidation_0-rmse:0.245855\n",
      "[02:25:30] /workspace/src/tree/updater_prune.cc:74: tree pruning end, 1 roots, 1028 extra nodes, 0 pruned nodes, max_depth=10\n",
      "[288]\tvalidation_0-rmse:0.245728\n",
      "[02:25:42] /workspace/src/tree/updater_prune.cc:74: tree pruning end, 1 roots, 1518 extra nodes, 0 pruned nodes, max_depth=10\n",
      "[289]\tvalidation_0-rmse:0.24555\n",
      "[02:25:57] /workspace/src/tree/updater_prune.cc:74: tree pruning end, 1 roots, 1372 extra nodes, 0 pruned nodes, max_depth=10\n",
      "[290]\tvalidation_0-rmse:0.245408\n",
      "[02:26:09] /workspace/src/tree/updater_prune.cc:74: tree pruning end, 1 roots, 1196 extra nodes, 0 pruned nodes, max_depth=10\n",
      "[291]\tvalidation_0-rmse:0.245197\n",
      "[02:26:22] /workspace/src/tree/updater_prune.cc:74: tree pruning end, 1 roots, 1342 extra nodes, 0 pruned nodes, max_depth=10\n",
      "[292]\tvalidation_0-rmse:0.24483\n",
      "[02:26:34] /workspace/src/tree/updater_prune.cc:74: tree pruning end, 1 roots, 1558 extra nodes, 0 pruned nodes, max_depth=10\n",
      "[293]\tvalidation_0-rmse:0.244749\n",
      "[02:26:47] /workspace/src/tree/updater_prune.cc:74: tree pruning end, 1 roots, 1472 extra nodes, 0 pruned nodes, max_depth=10\n",
      "[294]\tvalidation_0-rmse:0.244616\n",
      "[02:27:00] /workspace/src/tree/updater_prune.cc:74: tree pruning end, 1 roots, 994 extra nodes, 0 pruned nodes, max_depth=10\n",
      "[295]\tvalidation_0-rmse:0.244383\n",
      "[02:27:13] /workspace/src/tree/updater_prune.cc:74: tree pruning end, 1 roots, 1058 extra nodes, 0 pruned nodes, max_depth=10\n",
      "[296]\tvalidation_0-rmse:0.244292\n",
      "[02:27:26] /workspace/src/tree/updater_prune.cc:74: tree pruning end, 1 roots, 1172 extra nodes, 0 pruned nodes, max_depth=10\n",
      "[297]\tvalidation_0-rmse:0.244153\n",
      "[02:27:39] /workspace/src/tree/updater_prune.cc:74: tree pruning end, 1 roots, 1588 extra nodes, 0 pruned nodes, max_depth=10\n",
      "[298]\tvalidation_0-rmse:0.243946\n",
      "[02:27:52] /workspace/src/tree/updater_prune.cc:74: tree pruning end, 1 roots, 1454 extra nodes, 0 pruned nodes, max_depth=10\n",
      "[299]\tvalidation_0-rmse:0.243801\n",
      "[02:28:05] /workspace/src/tree/updater_prune.cc:74: tree pruning end, 1 roots, 1084 extra nodes, 0 pruned nodes, max_depth=10\n",
      "[300]\tvalidation_0-rmse:0.243707\n",
      "[02:28:17] /workspace/src/tree/updater_prune.cc:74: tree pruning end, 1 roots, 912 extra nodes, 0 pruned nodes, max_depth=10\n",
      "[301]\tvalidation_0-rmse:0.243444\n",
      "[02:28:30] /workspace/src/tree/updater_prune.cc:74: tree pruning end, 1 roots, 1384 extra nodes, 0 pruned nodes, max_depth=10\n",
      "[302]\tvalidation_0-rmse:0.243342\n",
      "[02:28:44] /workspace/src/tree/updater_prune.cc:74: tree pruning end, 1 roots, 1036 extra nodes, 0 pruned nodes, max_depth=10\n",
      "[303]\tvalidation_0-rmse:0.243287\n",
      "[02:28:57] /workspace/src/tree/updater_prune.cc:74: tree pruning end, 1 roots, 1374 extra nodes, 0 pruned nodes, max_depth=10\n",
      "[304]\tvalidation_0-rmse:0.243211\n",
      "[02:29:09] /workspace/src/tree/updater_prune.cc:74: tree pruning end, 1 roots, 1124 extra nodes, 0 pruned nodes, max_depth=10\n",
      "[305]\tvalidation_0-rmse:0.243092\n",
      "[02:29:22] /workspace/src/tree/updater_prune.cc:74: tree pruning end, 1 roots, 878 extra nodes, 0 pruned nodes, max_depth=10\n",
      "[306]\tvalidation_0-rmse:0.243065\n",
      "[02:29:34] /workspace/src/tree/updater_prune.cc:74: tree pruning end, 1 roots, 1036 extra nodes, 0 pruned nodes, max_depth=10\n",
      "[307]\tvalidation_0-rmse:0.242912\n",
      "[02:29:47] /workspace/src/tree/updater_prune.cc:74: tree pruning end, 1 roots, 1482 extra nodes, 0 pruned nodes, max_depth=10\n",
      "[308]\tvalidation_0-rmse:0.242689\n",
      "[02:30:02] /workspace/src/tree/updater_prune.cc:74: tree pruning end, 1 roots, 896 extra nodes, 0 pruned nodes, max_depth=10\n",
      "[309]\tvalidation_0-rmse:0.242645\n",
      "[02:30:14] /workspace/src/tree/updater_prune.cc:74: tree pruning end, 1 roots, 1494 extra nodes, 0 pruned nodes, max_depth=10\n",
      "[310]\tvalidation_0-rmse:0.242504\n",
      "[02:30:27] /workspace/src/tree/updater_prune.cc:74: tree pruning end, 1 roots, 1038 extra nodes, 0 pruned nodes, max_depth=10\n",
      "[311]\tvalidation_0-rmse:0.242429\n",
      "[02:30:40] /workspace/src/tree/updater_prune.cc:74: tree pruning end, 1 roots, 966 extra nodes, 0 pruned nodes, max_depth=10\n"
     ]
    },
    {
     "name": "stdout",
     "output_type": "stream",
     "text": [
      "[312]\tvalidation_0-rmse:0.242378\n",
      "[02:30:52] /workspace/src/tree/updater_prune.cc:74: tree pruning end, 1 roots, 954 extra nodes, 0 pruned nodes, max_depth=10\n",
      "[313]\tvalidation_0-rmse:0.242294\n",
      "[02:31:05] /workspace/src/tree/updater_prune.cc:74: tree pruning end, 1 roots, 1116 extra nodes, 0 pruned nodes, max_depth=10\n",
      "[314]\tvalidation_0-rmse:0.242093\n",
      "[02:31:18] /workspace/src/tree/updater_prune.cc:74: tree pruning end, 1 roots, 1328 extra nodes, 0 pruned nodes, max_depth=10\n",
      "[315]\tvalidation_0-rmse:0.24189\n",
      "[02:31:31] /workspace/src/tree/updater_prune.cc:74: tree pruning end, 1 roots, 1100 extra nodes, 0 pruned nodes, max_depth=10\n",
      "[316]\tvalidation_0-rmse:0.241728\n",
      "[02:31:44] /workspace/src/tree/updater_prune.cc:74: tree pruning end, 1 roots, 282 extra nodes, 0 pruned nodes, max_depth=10\n",
      "[317]\tvalidation_0-rmse:0.241705\n",
      "[02:31:57] /workspace/src/tree/updater_prune.cc:74: tree pruning end, 1 roots, 912 extra nodes, 0 pruned nodes, max_depth=10\n",
      "[318]\tvalidation_0-rmse:0.241682\n",
      "[02:32:09] /workspace/src/tree/updater_prune.cc:74: tree pruning end, 1 roots, 874 extra nodes, 0 pruned nodes, max_depth=10\n",
      "[319]\tvalidation_0-rmse:0.241608\n",
      "[02:32:22] /workspace/src/tree/updater_prune.cc:74: tree pruning end, 1 roots, 1124 extra nodes, 0 pruned nodes, max_depth=10\n",
      "[320]\tvalidation_0-rmse:0.241486\n",
      "[02:32:35] /workspace/src/tree/updater_prune.cc:74: tree pruning end, 1 roots, 1068 extra nodes, 0 pruned nodes, max_depth=10\n",
      "[321]\tvalidation_0-rmse:0.241337\n",
      "[02:32:48] /workspace/src/tree/updater_prune.cc:74: tree pruning end, 1 roots, 1380 extra nodes, 0 pruned nodes, max_depth=10\n",
      "[322]\tvalidation_0-rmse:0.241147\n",
      "[02:33:01] /workspace/src/tree/updater_prune.cc:74: tree pruning end, 1 roots, 1168 extra nodes, 0 pruned nodes, max_depth=10\n",
      "[323]\tvalidation_0-rmse:0.241063\n",
      "[02:33:14] /workspace/src/tree/updater_prune.cc:74: tree pruning end, 1 roots, 1606 extra nodes, 0 pruned nodes, max_depth=10\n",
      "[324]\tvalidation_0-rmse:0.240891\n",
      "[02:33:26] /workspace/src/tree/updater_prune.cc:74: tree pruning end, 1 roots, 878 extra nodes, 0 pruned nodes, max_depth=10\n",
      "[325]\tvalidation_0-rmse:0.24079\n",
      "[02:33:40] /workspace/src/tree/updater_prune.cc:74: tree pruning end, 1 roots, 1286 extra nodes, 0 pruned nodes, max_depth=10\n",
      "[326]\tvalidation_0-rmse:0.240585\n",
      "[02:33:52] /workspace/src/tree/updater_prune.cc:74: tree pruning end, 1 roots, 1380 extra nodes, 0 pruned nodes, max_depth=10\n",
      "[327]\tvalidation_0-rmse:0.240393\n",
      "[02:34:06] /workspace/src/tree/updater_prune.cc:74: tree pruning end, 1 roots, 1202 extra nodes, 0 pruned nodes, max_depth=10\n",
      "[328]\tvalidation_0-rmse:0.240237\n",
      "[02:34:19] /workspace/src/tree/updater_prune.cc:74: tree pruning end, 1 roots, 1346 extra nodes, 0 pruned nodes, max_depth=10\n",
      "[329]\tvalidation_0-rmse:0.240083\n",
      "[02:34:31] /workspace/src/tree/updater_prune.cc:74: tree pruning end, 1 roots, 1184 extra nodes, 0 pruned nodes, max_depth=10\n",
      "[330]\tvalidation_0-rmse:0.239994\n",
      "[02:34:44] /workspace/src/tree/updater_prune.cc:74: tree pruning end, 1 roots, 814 extra nodes, 0 pruned nodes, max_depth=10\n",
      "[331]\tvalidation_0-rmse:0.23997\n",
      "[02:34:56] /workspace/src/tree/updater_prune.cc:74: tree pruning end, 1 roots, 662 extra nodes, 0 pruned nodes, max_depth=10\n",
      "[332]\tvalidation_0-rmse:0.239931\n",
      "[02:35:10] /workspace/src/tree/updater_prune.cc:74: tree pruning end, 1 roots, 624 extra nodes, 0 pruned nodes, max_depth=10\n",
      "[333]\tvalidation_0-rmse:0.239899\n",
      "[02:35:23] /workspace/src/tree/updater_prune.cc:74: tree pruning end, 1 roots, 1368 extra nodes, 0 pruned nodes, max_depth=10\n",
      "[334]\tvalidation_0-rmse:0.239647\n",
      "[02:35:36] /workspace/src/tree/updater_prune.cc:74: tree pruning end, 1 roots, 1380 extra nodes, 0 pruned nodes, max_depth=10\n",
      "[335]\tvalidation_0-rmse:0.239475\n",
      "[02:35:49] /workspace/src/tree/updater_prune.cc:74: tree pruning end, 1 roots, 604 extra nodes, 0 pruned nodes, max_depth=10\n",
      "[336]\tvalidation_0-rmse:0.239475\n",
      "[02:36:01] /workspace/src/tree/updater_prune.cc:74: tree pruning end, 1 roots, 700 extra nodes, 0 pruned nodes, max_depth=10\n",
      "[337]\tvalidation_0-rmse:0.239455\n",
      "[02:36:14] /workspace/src/tree/updater_prune.cc:74: tree pruning end, 1 roots, 1300 extra nodes, 0 pruned nodes, max_depth=10\n",
      "[338]\tvalidation_0-rmse:0.239247\n",
      "[02:36:27] /workspace/src/tree/updater_prune.cc:74: tree pruning end, 1 roots, 1624 extra nodes, 0 pruned nodes, max_depth=10\n",
      "[339]\tvalidation_0-rmse:0.239072\n",
      "[02:36:40] /workspace/src/tree/updater_prune.cc:74: tree pruning end, 1 roots, 850 extra nodes, 0 pruned nodes, max_depth=10\n",
      "[340]\tvalidation_0-rmse:0.239048\n",
      "[02:36:53] /workspace/src/tree/updater_prune.cc:74: tree pruning end, 1 roots, 1300 extra nodes, 0 pruned nodes, max_depth=10\n",
      "[341]\tvalidation_0-rmse:0.239012\n",
      "[02:37:06] /workspace/src/tree/updater_prune.cc:74: tree pruning end, 1 roots, 1222 extra nodes, 0 pruned nodes, max_depth=10\n",
      "[342]\tvalidation_0-rmse:0.238871\n",
      "[02:37:18] /workspace/src/tree/updater_prune.cc:74: tree pruning end, 1 roots, 1110 extra nodes, 0 pruned nodes, max_depth=10\n",
      "[343]\tvalidation_0-rmse:0.238698\n",
      "[02:37:31] /workspace/src/tree/updater_prune.cc:74: tree pruning end, 1 roots, 1374 extra nodes, 0 pruned nodes, max_depth=10\n",
      "[344]\tvalidation_0-rmse:0.238564\n",
      "[02:37:44] /workspace/src/tree/updater_prune.cc:74: tree pruning end, 1 roots, 1200 extra nodes, 0 pruned nodes, max_depth=10\n",
      "[345]\tvalidation_0-rmse:0.238404\n",
      "[02:37:57] /workspace/src/tree/updater_prune.cc:74: tree pruning end, 1 roots, 1266 extra nodes, 0 pruned nodes, max_depth=10\n",
      "[346]\tvalidation_0-rmse:0.238296\n",
      "[02:38:10] /workspace/src/tree/updater_prune.cc:74: tree pruning end, 1 roots, 1308 extra nodes, 0 pruned nodes, max_depth=10\n",
      "[347]\tvalidation_0-rmse:0.238218\n",
      "[02:38:22] /workspace/src/tree/updater_prune.cc:74: tree pruning end, 1 roots, 862 extra nodes, 0 pruned nodes, max_depth=10\n",
      "[348]\tvalidation_0-rmse:0.238203\n",
      "[02:38:35] /workspace/src/tree/updater_prune.cc:74: tree pruning end, 1 roots, 688 extra nodes, 0 pruned nodes, max_depth=10\n",
      "[349]\tvalidation_0-rmse:0.238169\n",
      "[02:38:48] /workspace/src/tree/updater_prune.cc:74: tree pruning end, 1 roots, 1066 extra nodes, 0 pruned nodes, max_depth=10\n",
      "[350]\tvalidation_0-rmse:0.23802\n",
      "[02:39:00] /workspace/src/tree/updater_prune.cc:74: tree pruning end, 1 roots, 1414 extra nodes, 0 pruned nodes, max_depth=10\n",
      "[351]\tvalidation_0-rmse:0.23783\n",
      "[02:39:13] /workspace/src/tree/updater_prune.cc:74: tree pruning end, 1 roots, 1122 extra nodes, 0 pruned nodes, max_depth=10\n",
      "[352]\tvalidation_0-rmse:0.237682\n",
      "[02:39:27] /workspace/src/tree/updater_prune.cc:74: tree pruning end, 1 roots, 1260 extra nodes, 0 pruned nodes, max_depth=10\n",
      "[353]\tvalidation_0-rmse:0.237495\n",
      "[02:39:39] /workspace/src/tree/updater_prune.cc:74: tree pruning end, 1 roots, 1292 extra nodes, 0 pruned nodes, max_depth=10\n",
      "[354]\tvalidation_0-rmse:0.237367\n",
      "[02:39:52] /workspace/src/tree/updater_prune.cc:74: tree pruning end, 1 roots, 1118 extra nodes, 0 pruned nodes, max_depth=10\n",
      "[355]\tvalidation_0-rmse:0.237315\n",
      "[02:40:04] /workspace/src/tree/updater_prune.cc:74: tree pruning end, 1 roots, 1256 extra nodes, 0 pruned nodes, max_depth=10\n",
      "[356]\tvalidation_0-rmse:0.237163\n",
      "[02:40:18] /workspace/src/tree/updater_prune.cc:74: tree pruning end, 1 roots, 1630 extra nodes, 0 pruned nodes, max_depth=10\n",
      "[357]\tvalidation_0-rmse:0.237028\n",
      "[02:40:31] /workspace/src/tree/updater_prune.cc:74: tree pruning end, 1 roots, 1078 extra nodes, 0 pruned nodes, max_depth=10\n",
      "[358]\tvalidation_0-rmse:0.236966\n",
      "[02:40:45] /workspace/src/tree/updater_prune.cc:74: tree pruning end, 1 roots, 1366 extra nodes, 0 pruned nodes, max_depth=10\n",
      "[359]\tvalidation_0-rmse:0.236787\n",
      "[02:40:57] /workspace/src/tree/updater_prune.cc:74: tree pruning end, 1 roots, 1226 extra nodes, 0 pruned nodes, max_depth=10\n",
      "[360]\tvalidation_0-rmse:0.236695\n",
      "[02:41:10] /workspace/src/tree/updater_prune.cc:74: tree pruning end, 1 roots, 1380 extra nodes, 0 pruned nodes, max_depth=10\n",
      "[361]\tvalidation_0-rmse:0.236633\n",
      "[02:41:23] /workspace/src/tree/updater_prune.cc:74: tree pruning end, 1 roots, 1276 extra nodes, 0 pruned nodes, max_depth=10\n",
      "[362]\tvalidation_0-rmse:0.236442\n",
      "[02:41:36] /workspace/src/tree/updater_prune.cc:74: tree pruning end, 1 roots, 1406 extra nodes, 0 pruned nodes, max_depth=10\n",
      "[363]\tvalidation_0-rmse:0.236285\n",
      "[02:41:48] /workspace/src/tree/updater_prune.cc:74: tree pruning end, 1 roots, 1138 extra nodes, 0 pruned nodes, max_depth=10\n"
     ]
    },
    {
     "name": "stdout",
     "output_type": "stream",
     "text": [
      "[364]\tvalidation_0-rmse:0.236185\n",
      "[02:42:02] /workspace/src/tree/updater_prune.cc:74: tree pruning end, 1 roots, 1264 extra nodes, 0 pruned nodes, max_depth=10\n",
      "[365]\tvalidation_0-rmse:0.236039\n",
      "[02:42:14] /workspace/src/tree/updater_prune.cc:74: tree pruning end, 1 roots, 794 extra nodes, 0 pruned nodes, max_depth=10\n",
      "[366]\tvalidation_0-rmse:0.236016\n",
      "[02:42:27] /workspace/src/tree/updater_prune.cc:74: tree pruning end, 1 roots, 1234 extra nodes, 0 pruned nodes, max_depth=10\n",
      "[367]\tvalidation_0-rmse:0.235952\n",
      "[02:42:39] /workspace/src/tree/updater_prune.cc:74: tree pruning end, 1 roots, 934 extra nodes, 0 pruned nodes, max_depth=10\n",
      "[368]\tvalidation_0-rmse:0.23592\n",
      "[02:42:52] /workspace/src/tree/updater_prune.cc:74: tree pruning end, 1 roots, 1250 extra nodes, 0 pruned nodes, max_depth=10\n",
      "[369]\tvalidation_0-rmse:0.235728\n",
      "[02:43:05] /workspace/src/tree/updater_prune.cc:74: tree pruning end, 1 roots, 1282 extra nodes, 0 pruned nodes, max_depth=10\n",
      "[370]\tvalidation_0-rmse:0.235622\n",
      "[02:43:18] /workspace/src/tree/updater_prune.cc:74: tree pruning end, 1 roots, 702 extra nodes, 0 pruned nodes, max_depth=10\n",
      "[371]\tvalidation_0-rmse:0.235599\n",
      "[02:43:31] /workspace/src/tree/updater_prune.cc:74: tree pruning end, 1 roots, 1286 extra nodes, 0 pruned nodes, max_depth=10\n",
      "[372]\tvalidation_0-rmse:0.235494\n",
      "[02:43:44] /workspace/src/tree/updater_prune.cc:74: tree pruning end, 1 roots, 862 extra nodes, 0 pruned nodes, max_depth=10\n",
      "[373]\tvalidation_0-rmse:0.235475\n",
      "[02:43:57] /workspace/src/tree/updater_prune.cc:74: tree pruning end, 1 roots, 1044 extra nodes, 0 pruned nodes, max_depth=10\n",
      "[374]\tvalidation_0-rmse:0.235396\n",
      "[02:44:10] /workspace/src/tree/updater_prune.cc:74: tree pruning end, 1 roots, 948 extra nodes, 0 pruned nodes, max_depth=10\n",
      "[375]\tvalidation_0-rmse:0.235359\n",
      "[02:44:22] /workspace/src/tree/updater_prune.cc:74: tree pruning end, 1 roots, 1390 extra nodes, 0 pruned nodes, max_depth=10\n",
      "[376]\tvalidation_0-rmse:0.23518\n",
      "[02:44:35] /workspace/src/tree/updater_prune.cc:74: tree pruning end, 1 roots, 1248 extra nodes, 0 pruned nodes, max_depth=10\n",
      "[377]\tvalidation_0-rmse:0.235128\n",
      "[02:44:49] /workspace/src/tree/updater_prune.cc:74: tree pruning end, 1 roots, 1138 extra nodes, 0 pruned nodes, max_depth=10\n",
      "[378]\tvalidation_0-rmse:0.235062\n",
      "[02:45:01] /workspace/src/tree/updater_prune.cc:74: tree pruning end, 1 roots, 826 extra nodes, 0 pruned nodes, max_depth=10\n",
      "[379]\tvalidation_0-rmse:0.235032\n",
      "[02:45:13] /workspace/src/tree/updater_prune.cc:74: tree pruning end, 1 roots, 616 extra nodes, 0 pruned nodes, max_depth=10\n",
      "[380]\tvalidation_0-rmse:0.234972\n",
      "[02:45:27] /workspace/src/tree/updater_prune.cc:74: tree pruning end, 1 roots, 976 extra nodes, 0 pruned nodes, max_depth=10\n",
      "[381]\tvalidation_0-rmse:0.234854\n",
      "[02:45:40] /workspace/src/tree/updater_prune.cc:74: tree pruning end, 1 roots, 862 extra nodes, 0 pruned nodes, max_depth=10\n",
      "[382]\tvalidation_0-rmse:0.234815\n",
      "[02:45:52] /workspace/src/tree/updater_prune.cc:74: tree pruning end, 1 roots, 1260 extra nodes, 0 pruned nodes, max_depth=10\n",
      "[383]\tvalidation_0-rmse:0.234674\n",
      "[02:46:06] /workspace/src/tree/updater_prune.cc:74: tree pruning end, 1 roots, 1090 extra nodes, 0 pruned nodes, max_depth=10\n",
      "[384]\tvalidation_0-rmse:0.234637\n",
      "[02:46:19] /workspace/src/tree/updater_prune.cc:74: tree pruning end, 1 roots, 1550 extra nodes, 0 pruned nodes, max_depth=10\n",
      "[385]\tvalidation_0-rmse:0.234438\n",
      "[02:46:31] /workspace/src/tree/updater_prune.cc:74: tree pruning end, 1 roots, 1252 extra nodes, 0 pruned nodes, max_depth=10\n",
      "[386]\tvalidation_0-rmse:0.234338\n",
      "[02:46:44] /workspace/src/tree/updater_prune.cc:74: tree pruning end, 1 roots, 1510 extra nodes, 0 pruned nodes, max_depth=10\n",
      "[387]\tvalidation_0-rmse:0.234179\n",
      "[02:46:56] /workspace/src/tree/updater_prune.cc:74: tree pruning end, 1 roots, 720 extra nodes, 0 pruned nodes, max_depth=10\n",
      "[388]\tvalidation_0-rmse:0.23417\n",
      "[02:47:08] /workspace/src/tree/updater_prune.cc:74: tree pruning end, 1 roots, 548 extra nodes, 0 pruned nodes, max_depth=10\n",
      "[389]\tvalidation_0-rmse:0.234135\n",
      "[02:47:22] /workspace/src/tree/updater_prune.cc:74: tree pruning end, 1 roots, 842 extra nodes, 0 pruned nodes, max_depth=10\n",
      "[390]\tvalidation_0-rmse:0.234107\n",
      "[02:47:34] /workspace/src/tree/updater_prune.cc:74: tree pruning end, 1 roots, 1036 extra nodes, 0 pruned nodes, max_depth=10\n",
      "[391]\tvalidation_0-rmse:0.234041\n",
      "[02:47:47] /workspace/src/tree/updater_prune.cc:74: tree pruning end, 1 roots, 556 extra nodes, 0 pruned nodes, max_depth=10\n",
      "[392]\tvalidation_0-rmse:0.234006\n",
      "[02:47:59] /workspace/src/tree/updater_prune.cc:74: tree pruning end, 1 roots, 1406 extra nodes, 0 pruned nodes, max_depth=10\n",
      "[393]\tvalidation_0-rmse:0.233893\n",
      "[02:48:12] /workspace/src/tree/updater_prune.cc:74: tree pruning end, 1 roots, 1202 extra nodes, 0 pruned nodes, max_depth=10\n",
      "[394]\tvalidation_0-rmse:0.233768\n",
      "[02:48:25] /workspace/src/tree/updater_prune.cc:74: tree pruning end, 1 roots, 1658 extra nodes, 0 pruned nodes, max_depth=10\n",
      "[395]\tvalidation_0-rmse:0.233606\n",
      "[02:48:38] /workspace/src/tree/updater_prune.cc:74: tree pruning end, 1 roots, 1070 extra nodes, 0 pruned nodes, max_depth=10\n",
      "[396]\tvalidation_0-rmse:0.233542\n",
      "[02:48:52] /workspace/src/tree/updater_prune.cc:74: tree pruning end, 1 roots, 980 extra nodes, 0 pruned nodes, max_depth=10\n",
      "[397]\tvalidation_0-rmse:0.233529\n",
      "[02:49:04] /workspace/src/tree/updater_prune.cc:74: tree pruning end, 1 roots, 986 extra nodes, 0 pruned nodes, max_depth=10\n",
      "[398]\tvalidation_0-rmse:0.23346\n",
      "[02:49:17] /workspace/src/tree/updater_prune.cc:74: tree pruning end, 1 roots, 1326 extra nodes, 0 pruned nodes, max_depth=10\n",
      "[399]\tvalidation_0-rmse:0.233384\n",
      "[02:49:30] /workspace/src/tree/updater_prune.cc:74: tree pruning end, 1 roots, 1118 extra nodes, 0 pruned nodes, max_depth=10\n",
      "[400]\tvalidation_0-rmse:0.233248\n",
      "[02:49:42] /workspace/src/tree/updater_prune.cc:74: tree pruning end, 1 roots, 1452 extra nodes, 0 pruned nodes, max_depth=10\n",
      "[401]\tvalidation_0-rmse:0.233085\n",
      "[02:49:55] /workspace/src/tree/updater_prune.cc:74: tree pruning end, 1 roots, 868 extra nodes, 0 pruned nodes, max_depth=10\n",
      "[402]\tvalidation_0-rmse:0.233066\n",
      "[02:50:08] /workspace/src/tree/updater_prune.cc:74: tree pruning end, 1 roots, 1144 extra nodes, 0 pruned nodes, max_depth=10\n",
      "[403]\tvalidation_0-rmse:0.232986\n",
      "[02:50:21] /workspace/src/tree/updater_prune.cc:74: tree pruning end, 1 roots, 1410 extra nodes, 0 pruned nodes, max_depth=10\n",
      "[404]\tvalidation_0-rmse:0.232894\n",
      "[02:50:35] /workspace/src/tree/updater_prune.cc:74: tree pruning end, 1 roots, 1058 extra nodes, 0 pruned nodes, max_depth=10\n",
      "[405]\tvalidation_0-rmse:0.232811\n",
      "[02:50:48] /workspace/src/tree/updater_prune.cc:74: tree pruning end, 1 roots, 1278 extra nodes, 0 pruned nodes, max_depth=10\n",
      "[406]\tvalidation_0-rmse:0.232651\n",
      "[02:51:00] /workspace/src/tree/updater_prune.cc:74: tree pruning end, 1 roots, 754 extra nodes, 0 pruned nodes, max_depth=10\n",
      "[407]\tvalidation_0-rmse:0.232656\n",
      "[02:51:13] /workspace/src/tree/updater_prune.cc:74: tree pruning end, 1 roots, 1406 extra nodes, 0 pruned nodes, max_depth=10\n",
      "[408]\tvalidation_0-rmse:0.232609\n",
      "[02:51:27] /workspace/src/tree/updater_prune.cc:74: tree pruning end, 1 roots, 906 extra nodes, 0 pruned nodes, max_depth=10\n",
      "[409]\tvalidation_0-rmse:0.232573\n",
      "[02:51:40] /workspace/src/tree/updater_prune.cc:74: tree pruning end, 1 roots, 804 extra nodes, 0 pruned nodes, max_depth=10\n",
      "[410]\tvalidation_0-rmse:0.232567\n",
      "[02:51:52] /workspace/src/tree/updater_prune.cc:74: tree pruning end, 1 roots, 1446 extra nodes, 0 pruned nodes, max_depth=10\n",
      "[411]\tvalidation_0-rmse:0.232445\n",
      "[02:52:05] /workspace/src/tree/updater_prune.cc:74: tree pruning end, 1 roots, 922 extra nodes, 0 pruned nodes, max_depth=10\n",
      "[412]\tvalidation_0-rmse:0.232358\n",
      "[02:52:18] /workspace/src/tree/updater_prune.cc:74: tree pruning end, 1 roots, 1304 extra nodes, 0 pruned nodes, max_depth=10\n",
      "[413]\tvalidation_0-rmse:0.232262\n",
      "[02:52:30] /workspace/src/tree/updater_prune.cc:74: tree pruning end, 1 roots, 1192 extra nodes, 0 pruned nodes, max_depth=10\n",
      "[414]\tvalidation_0-rmse:0.232171\n",
      "[02:52:44] /workspace/src/tree/updater_prune.cc:74: tree pruning end, 1 roots, 874 extra nodes, 0 pruned nodes, max_depth=10\n",
      "[415]\tvalidation_0-rmse:0.232114\n",
      "[02:52:57] /workspace/src/tree/updater_prune.cc:74: tree pruning end, 1 roots, 1152 extra nodes, 0 pruned nodes, max_depth=10\n"
     ]
    },
    {
     "name": "stdout",
     "output_type": "stream",
     "text": [
      "[416]\tvalidation_0-rmse:0.232091\n",
      "[02:53:09] /workspace/src/tree/updater_prune.cc:74: tree pruning end, 1 roots, 910 extra nodes, 0 pruned nodes, max_depth=10\n",
      "[417]\tvalidation_0-rmse:0.231996\n",
      "[02:53:22] /workspace/src/tree/updater_prune.cc:74: tree pruning end, 1 roots, 1232 extra nodes, 0 pruned nodes, max_depth=10\n",
      "[418]\tvalidation_0-rmse:0.231963\n",
      "[02:53:34] /workspace/src/tree/updater_prune.cc:74: tree pruning end, 1 roots, 820 extra nodes, 0 pruned nodes, max_depth=10\n",
      "[419]\tvalidation_0-rmse:0.231894\n",
      "[02:53:47] /workspace/src/tree/updater_prune.cc:74: tree pruning end, 1 roots, 806 extra nodes, 0 pruned nodes, max_depth=10\n",
      "[420]\tvalidation_0-rmse:0.231887\n",
      "[02:54:00] /workspace/src/tree/updater_prune.cc:74: tree pruning end, 1 roots, 1110 extra nodes, 0 pruned nodes, max_depth=10\n",
      "[421]\tvalidation_0-rmse:0.23181\n",
      "[02:54:14] /workspace/src/tree/updater_prune.cc:74: tree pruning end, 1 roots, 1138 extra nodes, 0 pruned nodes, max_depth=10\n",
      "[422]\tvalidation_0-rmse:0.23171\n",
      "[02:54:26] /workspace/src/tree/updater_prune.cc:74: tree pruning end, 1 roots, 786 extra nodes, 0 pruned nodes, max_depth=10\n",
      "[423]\tvalidation_0-rmse:0.231706\n",
      "[02:54:39] /workspace/src/tree/updater_prune.cc:74: tree pruning end, 1 roots, 708 extra nodes, 0 pruned nodes, max_depth=10\n",
      "[424]\tvalidation_0-rmse:0.231692\n",
      "[02:54:52] /workspace/src/tree/updater_prune.cc:74: tree pruning end, 1 roots, 1320 extra nodes, 0 pruned nodes, max_depth=10\n",
      "[425]\tvalidation_0-rmse:0.23163\n",
      "[02:55:04] /workspace/src/tree/updater_prune.cc:74: tree pruning end, 1 roots, 1350 extra nodes, 0 pruned nodes, max_depth=10\n",
      "[426]\tvalidation_0-rmse:0.231561\n",
      "[02:55:17] /workspace/src/tree/updater_prune.cc:74: tree pruning end, 1 roots, 1280 extra nodes, 0 pruned nodes, max_depth=10\n",
      "[427]\tvalidation_0-rmse:0.231442\n",
      "[02:55:30] /workspace/src/tree/updater_prune.cc:74: tree pruning end, 1 roots, 904 extra nodes, 0 pruned nodes, max_depth=10\n",
      "[428]\tvalidation_0-rmse:0.231431\n",
      "[02:55:44] /workspace/src/tree/updater_prune.cc:74: tree pruning end, 1 roots, 1218 extra nodes, 0 pruned nodes, max_depth=10\n",
      "[429]\tvalidation_0-rmse:0.231329\n",
      "[02:55:57] /workspace/src/tree/updater_prune.cc:74: tree pruning end, 1 roots, 870 extra nodes, 0 pruned nodes, max_depth=10\n",
      "[430]\tvalidation_0-rmse:0.231286\n",
      "[02:56:09] /workspace/src/tree/updater_prune.cc:74: tree pruning end, 1 roots, 1390 extra nodes, 0 pruned nodes, max_depth=10\n",
      "[431]\tvalidation_0-rmse:0.231185\n",
      "[02:56:22] /workspace/src/tree/updater_prune.cc:74: tree pruning end, 1 roots, 1038 extra nodes, 0 pruned nodes, max_depth=10\n",
      "[432]\tvalidation_0-rmse:0.231169\n",
      "[02:56:34] /workspace/src/tree/updater_prune.cc:74: tree pruning end, 1 roots, 480 extra nodes, 0 pruned nodes, max_depth=10\n",
      "[433]\tvalidation_0-rmse:0.231146\n",
      "[02:56:48] /workspace/src/tree/updater_prune.cc:74: tree pruning end, 1 roots, 792 extra nodes, 0 pruned nodes, max_depth=10\n",
      "[434]\tvalidation_0-rmse:0.231132\n",
      "[02:57:01] /workspace/src/tree/updater_prune.cc:74: tree pruning end, 1 roots, 1250 extra nodes, 0 pruned nodes, max_depth=10\n",
      "[435]\tvalidation_0-rmse:0.231084\n",
      "[02:57:13] /workspace/src/tree/updater_prune.cc:74: tree pruning end, 1 roots, 674 extra nodes, 0 pruned nodes, max_depth=10\n",
      "[436]\tvalidation_0-rmse:0.231074\n",
      "[02:57:26] /workspace/src/tree/updater_prune.cc:74: tree pruning end, 1 roots, 1234 extra nodes, 0 pruned nodes, max_depth=10\n",
      "[437]\tvalidation_0-rmse:0.230965\n",
      "[02:57:38] /workspace/src/tree/updater_prune.cc:74: tree pruning end, 1 roots, 998 extra nodes, 0 pruned nodes, max_depth=10\n",
      "[438]\tvalidation_0-rmse:0.230894\n",
      "[02:57:51] /workspace/src/tree/updater_prune.cc:74: tree pruning end, 1 roots, 828 extra nodes, 0 pruned nodes, max_depth=10\n",
      "[439]\tvalidation_0-rmse:0.230882\n",
      "[02:58:04] /workspace/src/tree/updater_prune.cc:74: tree pruning end, 1 roots, 426 extra nodes, 0 pruned nodes, max_depth=10\n",
      "[440]\tvalidation_0-rmse:0.230882\n",
      "[02:58:17] /workspace/src/tree/updater_prune.cc:74: tree pruning end, 1 roots, 892 extra nodes, 0 pruned nodes, max_depth=10\n",
      "[441]\tvalidation_0-rmse:0.230831\n",
      "[02:58:30] /workspace/src/tree/updater_prune.cc:74: tree pruning end, 1 roots, 1114 extra nodes, 0 pruned nodes, max_depth=10\n",
      "[442]\tvalidation_0-rmse:0.230817\n",
      "[02:58:43] /workspace/src/tree/updater_prune.cc:74: tree pruning end, 1 roots, 940 extra nodes, 0 pruned nodes, max_depth=10\n",
      "[443]\tvalidation_0-rmse:0.23081\n",
      "[02:58:55] /workspace/src/tree/updater_prune.cc:74: tree pruning end, 1 roots, 516 extra nodes, 0 pruned nodes, max_depth=10\n",
      "[444]\tvalidation_0-rmse:0.230779\n",
      "[02:59:08] /workspace/src/tree/updater_prune.cc:74: tree pruning end, 1 roots, 926 extra nodes, 0 pruned nodes, max_depth=10\n",
      "[445]\tvalidation_0-rmse:0.230673\n",
      "[02:59:21] /workspace/src/tree/updater_prune.cc:74: tree pruning end, 1 roots, 1230 extra nodes, 0 pruned nodes, max_depth=10\n",
      "[446]\tvalidation_0-rmse:0.230597\n",
      "[02:59:35] /workspace/src/tree/updater_prune.cc:74: tree pruning end, 1 roots, 904 extra nodes, 0 pruned nodes, max_depth=10\n",
      "[447]\tvalidation_0-rmse:0.230589\n",
      "[02:59:47] /workspace/src/tree/updater_prune.cc:74: tree pruning end, 1 roots, 960 extra nodes, 0 pruned nodes, max_depth=10\n",
      "[448]\tvalidation_0-rmse:0.230556\n",
      "[03:00:00] /workspace/src/tree/updater_prune.cc:74: tree pruning end, 1 roots, 848 extra nodes, 0 pruned nodes, max_depth=10\n",
      "[449]\tvalidation_0-rmse:0.230552\n",
      "[03:00:13] /workspace/src/tree/updater_prune.cc:74: tree pruning end, 1 roots, 836 extra nodes, 0 pruned nodes, max_depth=10\n",
      "[450]\tvalidation_0-rmse:0.230537\n",
      "[03:00:25] /workspace/src/tree/updater_prune.cc:74: tree pruning end, 1 roots, 1132 extra nodes, 0 pruned nodes, max_depth=10\n",
      "[451]\tvalidation_0-rmse:0.230451\n",
      "[03:00:38] /workspace/src/tree/updater_prune.cc:74: tree pruning end, 1 roots, 784 extra nodes, 0 pruned nodes, max_depth=10\n",
      "[452]\tvalidation_0-rmse:0.230441\n",
      "[03:00:52] /workspace/src/tree/updater_prune.cc:74: tree pruning end, 1 roots, 972 extra nodes, 0 pruned nodes, max_depth=10\n",
      "[453]\tvalidation_0-rmse:0.230428\n",
      "[03:01:05] /workspace/src/tree/updater_prune.cc:74: tree pruning end, 1 roots, 1226 extra nodes, 0 pruned nodes, max_depth=10\n",
      "[454]\tvalidation_0-rmse:0.230297\n",
      "[03:01:18] /workspace/src/tree/updater_prune.cc:74: tree pruning end, 1 roots, 748 extra nodes, 0 pruned nodes, max_depth=10\n",
      "[455]\tvalidation_0-rmse:0.230293\n",
      "[03:01:30] /workspace/src/tree/updater_prune.cc:74: tree pruning end, 1 roots, 864 extra nodes, 0 pruned nodes, max_depth=10\n",
      "[456]\tvalidation_0-rmse:0.230266\n",
      "[03:01:42] /workspace/src/tree/updater_prune.cc:74: tree pruning end, 1 roots, 812 extra nodes, 0 pruned nodes, max_depth=10\n",
      "[457]\tvalidation_0-rmse:0.230245\n",
      "[03:01:55] /workspace/src/tree/updater_prune.cc:74: tree pruning end, 1 roots, 922 extra nodes, 0 pruned nodes, max_depth=10\n",
      "[458]\tvalidation_0-rmse:0.230179\n",
      "[03:02:09] /workspace/src/tree/updater_prune.cc:74: tree pruning end, 1 roots, 1000 extra nodes, 0 pruned nodes, max_depth=10\n",
      "[459]\tvalidation_0-rmse:0.230163\n",
      "[03:02:21] /workspace/src/tree/updater_prune.cc:74: tree pruning end, 1 roots, 678 extra nodes, 0 pruned nodes, max_depth=10\n",
      "[460]\tvalidation_0-rmse:0.230145\n",
      "[03:02:34] /workspace/src/tree/updater_prune.cc:74: tree pruning end, 1 roots, 724 extra nodes, 0 pruned nodes, max_depth=10\n",
      "[461]\tvalidation_0-rmse:0.230117\n",
      "[03:02:46] /workspace/src/tree/updater_prune.cc:74: tree pruning end, 1 roots, 594 extra nodes, 0 pruned nodes, max_depth=10\n",
      "[462]\tvalidation_0-rmse:0.230109\n",
      "[03:02:59] /workspace/src/tree/updater_prune.cc:74: tree pruning end, 1 roots, 1006 extra nodes, 0 pruned nodes, max_depth=10\n",
      "[463]\tvalidation_0-rmse:0.230041\n",
      "[03:03:11] /workspace/src/tree/updater_prune.cc:74: tree pruning end, 1 roots, 1038 extra nodes, 0 pruned nodes, max_depth=10\n",
      "[464]\tvalidation_0-rmse:0.229996\n",
      "[03:03:25] /workspace/src/tree/updater_prune.cc:74: tree pruning end, 1 roots, 896 extra nodes, 0 pruned nodes, max_depth=10\n",
      "[465]\tvalidation_0-rmse:0.229974\n",
      "[03:03:38] /workspace/src/tree/updater_prune.cc:74: tree pruning end, 1 roots, 1352 extra nodes, 0 pruned nodes, max_depth=10\n",
      "[466]\tvalidation_0-rmse:0.229872\n",
      "[03:03:50] /workspace/src/tree/updater_prune.cc:74: tree pruning end, 1 roots, 1114 extra nodes, 0 pruned nodes, max_depth=10\n",
      "[467]\tvalidation_0-rmse:0.229813\n",
      "[03:04:02] /workspace/src/tree/updater_prune.cc:74: tree pruning end, 1 roots, 558 extra nodes, 0 pruned nodes, max_depth=10\n"
     ]
    },
    {
     "name": "stdout",
     "output_type": "stream",
     "text": [
      "[468]\tvalidation_0-rmse:0.229815\n",
      "[03:04:16] /workspace/src/tree/updater_prune.cc:74: tree pruning end, 1 roots, 1408 extra nodes, 0 pruned nodes, max_depth=10\n",
      "[469]\tvalidation_0-rmse:0.229756\n",
      "[03:04:29] /workspace/src/tree/updater_prune.cc:74: tree pruning end, 1 roots, 1598 extra nodes, 0 pruned nodes, max_depth=10\n",
      "[470]\tvalidation_0-rmse:0.229637\n",
      "[03:04:41] /workspace/src/tree/updater_prune.cc:74: tree pruning end, 1 roots, 1476 extra nodes, 0 pruned nodes, max_depth=10\n",
      "[471]\tvalidation_0-rmse:0.229545\n",
      "[03:04:55] /workspace/src/tree/updater_prune.cc:74: tree pruning end, 1 roots, 1380 extra nodes, 0 pruned nodes, max_depth=10\n",
      "[472]\tvalidation_0-rmse:0.229478\n",
      "[03:05:07] /workspace/src/tree/updater_prune.cc:74: tree pruning end, 1 roots, 1152 extra nodes, 0 pruned nodes, max_depth=10\n",
      "[473]\tvalidation_0-rmse:0.229447\n",
      "[03:05:20] /workspace/src/tree/updater_prune.cc:74: tree pruning end, 1 roots, 1180 extra nodes, 0 pruned nodes, max_depth=10\n",
      "[474]\tvalidation_0-rmse:0.229389\n",
      "[03:05:33] /workspace/src/tree/updater_prune.cc:74: tree pruning end, 1 roots, 842 extra nodes, 0 pruned nodes, max_depth=10\n",
      "[475]\tvalidation_0-rmse:0.22938\n",
      "[03:05:45] /workspace/src/tree/updater_prune.cc:74: tree pruning end, 1 roots, 820 extra nodes, 0 pruned nodes, max_depth=10\n",
      "[476]\tvalidation_0-rmse:0.229371\n",
      "[03:05:58] /workspace/src/tree/updater_prune.cc:74: tree pruning end, 1 roots, 940 extra nodes, 0 pruned nodes, max_depth=10\n",
      "[477]\tvalidation_0-rmse:0.229363\n",
      "[03:06:12] /workspace/src/tree/updater_prune.cc:74: tree pruning end, 1 roots, 568 extra nodes, 0 pruned nodes, max_depth=10\n",
      "[478]\tvalidation_0-rmse:0.229335\n",
      "[03:06:24] /workspace/src/tree/updater_prune.cc:74: tree pruning end, 1 roots, 468 extra nodes, 0 pruned nodes, max_depth=10\n",
      "[479]\tvalidation_0-rmse:0.22933\n",
      "[03:06:37] /workspace/src/tree/updater_prune.cc:74: tree pruning end, 1 roots, 1100 extra nodes, 0 pruned nodes, max_depth=10\n",
      "[480]\tvalidation_0-rmse:0.229297\n",
      "[03:06:50] /workspace/src/tree/updater_prune.cc:74: tree pruning end, 1 roots, 1208 extra nodes, 0 pruned nodes, max_depth=10\n",
      "[481]\tvalidation_0-rmse:0.229288\n",
      "[03:07:02] /workspace/src/tree/updater_prune.cc:74: tree pruning end, 1 roots, 658 extra nodes, 0 pruned nodes, max_depth=10\n",
      "[482]\tvalidation_0-rmse:0.22927\n",
      "[03:07:15] /workspace/src/tree/updater_prune.cc:74: tree pruning end, 1 roots, 502 extra nodes, 0 pruned nodes, max_depth=10\n",
      "[483]\tvalidation_0-rmse:0.229263\n",
      "[03:07:28] /workspace/src/tree/updater_prune.cc:74: tree pruning end, 1 roots, 1032 extra nodes, 0 pruned nodes, max_depth=10\n",
      "[484]\tvalidation_0-rmse:0.229257\n",
      "[03:07:41] /workspace/src/tree/updater_prune.cc:74: tree pruning end, 1 roots, 514 extra nodes, 0 pruned nodes, max_depth=10\n",
      "[485]\tvalidation_0-rmse:0.229246\n",
      "[03:07:53] /workspace/src/tree/updater_prune.cc:74: tree pruning end, 1 roots, 872 extra nodes, 0 pruned nodes, max_depth=10\n",
      "[486]\tvalidation_0-rmse:0.229238\n",
      "[03:08:06] /workspace/src/tree/updater_prune.cc:74: tree pruning end, 1 roots, 664 extra nodes, 0 pruned nodes, max_depth=10\n",
      "[487]\tvalidation_0-rmse:0.229201\n",
      "[03:08:19] /workspace/src/tree/updater_prune.cc:74: tree pruning end, 1 roots, 630 extra nodes, 0 pruned nodes, max_depth=10\n",
      "[488]\tvalidation_0-rmse:0.229197\n",
      "[03:08:31] /workspace/src/tree/updater_prune.cc:74: tree pruning end, 1 roots, 640 extra nodes, 0 pruned nodes, max_depth=10\n",
      "[489]\tvalidation_0-rmse:0.229189\n",
      "[03:08:44] /workspace/src/tree/updater_prune.cc:74: tree pruning end, 1 roots, 1342 extra nodes, 0 pruned nodes, max_depth=10\n",
      "[490]\tvalidation_0-rmse:0.229034\n",
      "[03:08:57] /workspace/src/tree/updater_prune.cc:74: tree pruning end, 1 roots, 610 extra nodes, 0 pruned nodes, max_depth=10\n",
      "[491]\tvalidation_0-rmse:0.229012\n",
      "[03:09:10] /workspace/src/tree/updater_prune.cc:74: tree pruning end, 1 roots, 750 extra nodes, 0 pruned nodes, max_depth=10\n",
      "[492]\tvalidation_0-rmse:0.229004\n",
      "[03:09:23] /workspace/src/tree/updater_prune.cc:74: tree pruning end, 1 roots, 460 extra nodes, 0 pruned nodes, max_depth=10\n",
      "[493]\tvalidation_0-rmse:0.229003\n",
      "[03:09:35] /workspace/src/tree/updater_prune.cc:74: tree pruning end, 1 roots, 1034 extra nodes, 0 pruned nodes, max_depth=10\n",
      "[494]\tvalidation_0-rmse:0.228993\n",
      "[03:09:48] /workspace/src/tree/updater_prune.cc:74: tree pruning end, 1 roots, 1256 extra nodes, 0 pruned nodes, max_depth=10\n",
      "[495]\tvalidation_0-rmse:0.228935\n",
      "[03:10:01] /workspace/src/tree/updater_prune.cc:74: tree pruning end, 1 roots, 1024 extra nodes, 0 pruned nodes, max_depth=10\n",
      "[496]\tvalidation_0-rmse:0.228876\n",
      "[03:10:14] /workspace/src/tree/updater_prune.cc:74: tree pruning end, 1 roots, 1046 extra nodes, 0 pruned nodes, max_depth=10\n",
      "[497]\tvalidation_0-rmse:0.228829\n",
      "[03:10:27] /workspace/src/tree/updater_prune.cc:74: tree pruning end, 1 roots, 1024 extra nodes, 0 pruned nodes, max_depth=10\n",
      "[498]\tvalidation_0-rmse:0.228822\n",
      "[03:10:40] /workspace/src/tree/updater_prune.cc:74: tree pruning end, 1 roots, 1228 extra nodes, 0 pruned nodes, max_depth=10\n",
      "[499]\tvalidation_0-rmse:0.228679\n"
     ]
    },
    {
     "data": {
      "text/plain": [
       "XGBRegressor(base_score=0.5, booster='gbtree', colsample_bylevel=1,\n",
       "       colsample_bytree=1, gamma=0, learning_rate=0.1, max_delta_step=0,\n",
       "       max_depth=10, min_child_weight=1, missing=None, n_estimators=500,\n",
       "       n_jobs=1, nthread=None, objective='reg:linear', random_state=0,\n",
       "       reg_alpha=0, reg_lambda=1, scale_pos_weight=1, seed=None,\n",
       "       silent=False, subsample=1)"
      ]
     },
     "execution_count": 38,
     "metadata": {},
     "output_type": "execute_result"
    }
   ],
   "source": [
    "\n",
    "#Creating Train Test split from here. X_test and y_test is TEST SET and they will not be touched upon from now until testing phase.\n",
    "X_train, X_test, y_train, y_test = train_test_split(np.array(df_taxi_tips.drop('Tip_%',axis=1)),np.array(df_taxi_tips['Tip_%']), test_size=0.05, random_state=42)\n",
    "\n",
    "# X_train and y_train will be further splitted into X_train_new and X_valid and same for y variable.\n",
    "X_train_new, X_validation, y_train_new, y_validation = train_test_split(X_train,y_train, test_size=0.20, random_state=42)\n",
    "\n",
    "# Creating Evaluation Set using X_validation and y_validation which we created in above step.\n",
    "validation_set = [ ( X_validation, y_validation ) ]\n",
    "\n",
    "#This parameters are found by Hyperparameter tuning and still further better could be done if time were not the constraint.\n",
    "param = { \"silent\":False, \"max_depth\":10, \"n_estimators\":500}\n",
    "\n",
    "# Setting up the XGBRegressor model and parameters as mentioned above are passed. \n",
    "xgbmodel = xgb.XGBRegressor( **param )\n",
    "\n",
    "# We will set evaluation set/ validation set to eval_set parameter \n",
    "# early stopping =50 is highly prefered in order to prevent overfitting.\n",
    "# Also we have used rmse as our metric which is Root mean squared error. \n",
    "xgbmodel.fit( X_train_new, y_train_new, eval_metric=\"rmse\",early_stopping_rounds=50, eval_set=validation_set, verbose=True )\n"
   ]
  },
  {
   "cell_type": "code",
   "execution_count": 39,
   "metadata": {
    "_uuid": "69307d24b2c9feefd64a53b64189e109ccd8bc0a",
    "scrolled": true
   },
   "outputs": [
    {
     "name": "stdout",
     "output_type": "stream",
     "text": [
      "Our XGBOOST MAE(Mean Absolute Error ) is :  0.050911784915922034\n"
     ]
    }
   ],
   "source": [
    "from sklearn.metrics import mean_squared_error,mean_absolute_error\n",
    "ypred=xgbmodel.predict(X_test)\n",
    "error = mean_absolute_error(ypred, y_test)\n",
    "print(\"Our XGBOOST MAE(Mean Absolute Error ) is : \",error)"
   ]
  },
  {
   "cell_type": "code",
   "execution_count": 40,
   "metadata": {
    "_uuid": "d15daa4c08686eb65ac57b54223516cc5ad0c3c3"
   },
   "outputs": [
    {
     "name": "stdout",
     "output_type": "stream",
     "text": [
      "Our XGBOOST MSE(Mean Squared Error ) is :  0.053042014532034186\n"
     ]
    }
   ],
   "source": [
    "from sklearn.metrics import mean_squared_error\n",
    "ypred=xgbmodel.predict(X_test)\n",
    "error = mean_squared_error(ypred, y_test)\n",
    "print(\"Our XGBOOST MSE(Mean Squared Error ) is : \",error)"
   ]
  },
  {
   "cell_type": "code",
   "execution_count": 41,
   "metadata": {
    "_uuid": "c5a6b9b79905df3886a7521cbf48db7cf5521006"
   },
   "outputs": [
    {
     "data": {
      "text/html": [
       "<div>\n",
       "<style scoped>\n",
       "    .dataframe tbody tr th:only-of-type {\n",
       "        vertical-align: middle;\n",
       "    }\n",
       "\n",
       "    .dataframe tbody tr th {\n",
       "        vertical-align: top;\n",
       "    }\n",
       "\n",
       "    .dataframe thead th {\n",
       "        text-align: right;\n",
       "    }\n",
       "</style>\n",
       "<table border=\"1\" class=\"dataframe\">\n",
       "  <thead>\n",
       "    <tr style=\"text-align: right;\">\n",
       "      <th></th>\n",
       "      <th>y_test</th>\n",
       "      <th>ypred</th>\n",
       "      <th>y_test-ypred</th>\n",
       "    </tr>\n",
       "  </thead>\n",
       "  <tbody>\n",
       "    <tr>\n",
       "      <th>0</th>\n",
       "      <td>0.000000</td>\n",
       "      <td>-0.001933</td>\n",
       "      <td>0.001933</td>\n",
       "    </tr>\n",
       "    <tr>\n",
       "      <th>1</th>\n",
       "      <td>0.000000</td>\n",
       "      <td>-0.000533</td>\n",
       "      <td>0.000533</td>\n",
       "    </tr>\n",
       "    <tr>\n",
       "      <th>2</th>\n",
       "      <td>0.000000</td>\n",
       "      <td>0.000164</td>\n",
       "      <td>-0.000164</td>\n",
       "    </tr>\n",
       "    <tr>\n",
       "      <th>3</th>\n",
       "      <td>0.000000</td>\n",
       "      <td>-0.001161</td>\n",
       "      <td>0.001161</td>\n",
       "    </tr>\n",
       "    <tr>\n",
       "      <th>4</th>\n",
       "      <td>16.666667</td>\n",
       "      <td>16.660606</td>\n",
       "      <td>0.006060</td>\n",
       "    </tr>\n",
       "    <tr>\n",
       "      <th>5</th>\n",
       "      <td>19.745223</td>\n",
       "      <td>19.757586</td>\n",
       "      <td>-0.012363</td>\n",
       "    </tr>\n",
       "    <tr>\n",
       "      <th>6</th>\n",
       "      <td>14.705882</td>\n",
       "      <td>14.674166</td>\n",
       "      <td>0.031717</td>\n",
       "    </tr>\n",
       "    <tr>\n",
       "      <th>7</th>\n",
       "      <td>0.000000</td>\n",
       "      <td>-0.001365</td>\n",
       "      <td>0.001365</td>\n",
       "    </tr>\n",
       "    <tr>\n",
       "      <th>8</th>\n",
       "      <td>0.000000</td>\n",
       "      <td>0.000686</td>\n",
       "      <td>-0.000686</td>\n",
       "    </tr>\n",
       "    <tr>\n",
       "      <th>9</th>\n",
       "      <td>32.258065</td>\n",
       "      <td>32.116093</td>\n",
       "      <td>0.141972</td>\n",
       "    </tr>\n",
       "    <tr>\n",
       "      <th>10</th>\n",
       "      <td>16.666667</td>\n",
       "      <td>16.746353</td>\n",
       "      <td>-0.079686</td>\n",
       "    </tr>\n",
       "    <tr>\n",
       "      <th>11</th>\n",
       "      <td>0.000000</td>\n",
       "      <td>-0.004377</td>\n",
       "      <td>0.004377</td>\n",
       "    </tr>\n",
       "    <tr>\n",
       "      <th>12</th>\n",
       "      <td>0.000000</td>\n",
       "      <td>-0.076782</td>\n",
       "      <td>0.076782</td>\n",
       "    </tr>\n",
       "    <tr>\n",
       "      <th>13</th>\n",
       "      <td>20.000000</td>\n",
       "      <td>19.956116</td>\n",
       "      <td>0.043884</td>\n",
       "    </tr>\n",
       "    <tr>\n",
       "      <th>14</th>\n",
       "      <td>20.000000</td>\n",
       "      <td>19.879057</td>\n",
       "      <td>0.120943</td>\n",
       "    </tr>\n",
       "    <tr>\n",
       "      <th>15</th>\n",
       "      <td>0.000000</td>\n",
       "      <td>0.001350</td>\n",
       "      <td>-0.001350</td>\n",
       "    </tr>\n",
       "    <tr>\n",
       "      <th>16</th>\n",
       "      <td>0.000000</td>\n",
       "      <td>0.000311</td>\n",
       "      <td>-0.000311</td>\n",
       "    </tr>\n",
       "    <tr>\n",
       "      <th>17</th>\n",
       "      <td>0.000000</td>\n",
       "      <td>0.001003</td>\n",
       "      <td>-0.001003</td>\n",
       "    </tr>\n",
       "    <tr>\n",
       "      <th>18</th>\n",
       "      <td>16.571429</td>\n",
       "      <td>16.556349</td>\n",
       "      <td>0.015080</td>\n",
       "    </tr>\n",
       "    <tr>\n",
       "      <th>19</th>\n",
       "      <td>0.000000</td>\n",
       "      <td>0.000967</td>\n",
       "      <td>-0.000967</td>\n",
       "    </tr>\n",
       "    <tr>\n",
       "      <th>20</th>\n",
       "      <td>16.618076</td>\n",
       "      <td>16.646595</td>\n",
       "      <td>-0.028519</td>\n",
       "    </tr>\n",
       "    <tr>\n",
       "      <th>21</th>\n",
       "      <td>16.666667</td>\n",
       "      <td>16.663891</td>\n",
       "      <td>0.002776</td>\n",
       "    </tr>\n",
       "    <tr>\n",
       "      <th>22</th>\n",
       "      <td>16.666667</td>\n",
       "      <td>16.662252</td>\n",
       "      <td>0.004414</td>\n",
       "    </tr>\n",
       "    <tr>\n",
       "      <th>23</th>\n",
       "      <td>0.000000</td>\n",
       "      <td>0.000131</td>\n",
       "      <td>-0.000131</td>\n",
       "    </tr>\n",
       "    <tr>\n",
       "      <th>24</th>\n",
       "      <td>0.000000</td>\n",
       "      <td>0.001444</td>\n",
       "      <td>-0.001444</td>\n",
       "    </tr>\n",
       "    <tr>\n",
       "      <th>25</th>\n",
       "      <td>0.000000</td>\n",
       "      <td>0.000523</td>\n",
       "      <td>-0.000523</td>\n",
       "    </tr>\n",
       "    <tr>\n",
       "      <th>26</th>\n",
       "      <td>0.000000</td>\n",
       "      <td>0.003728</td>\n",
       "      <td>-0.003728</td>\n",
       "    </tr>\n",
       "    <tr>\n",
       "      <th>27</th>\n",
       "      <td>7.000000</td>\n",
       "      <td>7.229422</td>\n",
       "      <td>-0.229422</td>\n",
       "    </tr>\n",
       "    <tr>\n",
       "      <th>28</th>\n",
       "      <td>16.619718</td>\n",
       "      <td>16.611153</td>\n",
       "      <td>0.008566</td>\n",
       "    </tr>\n",
       "    <tr>\n",
       "      <th>29</th>\n",
       "      <td>0.000000</td>\n",
       "      <td>0.001412</td>\n",
       "      <td>-0.001412</td>\n",
       "    </tr>\n",
       "    <tr>\n",
       "      <th>...</th>\n",
       "      <td>...</td>\n",
       "      <td>...</td>\n",
       "      <td>...</td>\n",
       "    </tr>\n",
       "    <tr>\n",
       "      <th>74360</th>\n",
       "      <td>0.000000</td>\n",
       "      <td>-0.000432</td>\n",
       "      <td>0.000432</td>\n",
       "    </tr>\n",
       "    <tr>\n",
       "      <th>74361</th>\n",
       "      <td>0.000000</td>\n",
       "      <td>0.001169</td>\n",
       "      <td>-0.001169</td>\n",
       "    </tr>\n",
       "    <tr>\n",
       "      <th>74362</th>\n",
       "      <td>0.000000</td>\n",
       "      <td>0.003976</td>\n",
       "      <td>-0.003976</td>\n",
       "    </tr>\n",
       "    <tr>\n",
       "      <th>74363</th>\n",
       "      <td>0.000000</td>\n",
       "      <td>-0.000620</td>\n",
       "      <td>0.000620</td>\n",
       "    </tr>\n",
       "    <tr>\n",
       "      <th>74364</th>\n",
       "      <td>0.000000</td>\n",
       "      <td>0.000244</td>\n",
       "      <td>-0.000244</td>\n",
       "    </tr>\n",
       "    <tr>\n",
       "      <th>74365</th>\n",
       "      <td>0.000000</td>\n",
       "      <td>0.000568</td>\n",
       "      <td>-0.000568</td>\n",
       "    </tr>\n",
       "    <tr>\n",
       "      <th>74366</th>\n",
       "      <td>20.000000</td>\n",
       "      <td>19.977346</td>\n",
       "      <td>0.022654</td>\n",
       "    </tr>\n",
       "    <tr>\n",
       "      <th>74367</th>\n",
       "      <td>13.076923</td>\n",
       "      <td>13.227209</td>\n",
       "      <td>-0.150286</td>\n",
       "    </tr>\n",
       "    <tr>\n",
       "      <th>74368</th>\n",
       "      <td>0.000000</td>\n",
       "      <td>-0.001216</td>\n",
       "      <td>0.001216</td>\n",
       "    </tr>\n",
       "    <tr>\n",
       "      <th>74369</th>\n",
       "      <td>16.619718</td>\n",
       "      <td>16.668232</td>\n",
       "      <td>-0.048514</td>\n",
       "    </tr>\n",
       "    <tr>\n",
       "      <th>74370</th>\n",
       "      <td>16.666667</td>\n",
       "      <td>16.661812</td>\n",
       "      <td>0.004855</td>\n",
       "    </tr>\n",
       "    <tr>\n",
       "      <th>74371</th>\n",
       "      <td>16.666667</td>\n",
       "      <td>16.818777</td>\n",
       "      <td>-0.152110</td>\n",
       "    </tr>\n",
       "    <tr>\n",
       "      <th>74372</th>\n",
       "      <td>19.965577</td>\n",
       "      <td>19.947577</td>\n",
       "      <td>0.018000</td>\n",
       "    </tr>\n",
       "    <tr>\n",
       "      <th>74373</th>\n",
       "      <td>16.666667</td>\n",
       "      <td>16.651121</td>\n",
       "      <td>0.015546</td>\n",
       "    </tr>\n",
       "    <tr>\n",
       "      <th>74374</th>\n",
       "      <td>16.666667</td>\n",
       "      <td>16.636814</td>\n",
       "      <td>0.029853</td>\n",
       "    </tr>\n",
       "    <tr>\n",
       "      <th>74375</th>\n",
       "      <td>13.409962</td>\n",
       "      <td>13.355430</td>\n",
       "      <td>0.054532</td>\n",
       "    </tr>\n",
       "    <tr>\n",
       "      <th>74376</th>\n",
       "      <td>16.666667</td>\n",
       "      <td>16.637623</td>\n",
       "      <td>0.029044</td>\n",
       "    </tr>\n",
       "    <tr>\n",
       "      <th>74377</th>\n",
       "      <td>0.000000</td>\n",
       "      <td>0.000932</td>\n",
       "      <td>-0.000932</td>\n",
       "    </tr>\n",
       "    <tr>\n",
       "      <th>74378</th>\n",
       "      <td>16.666667</td>\n",
       "      <td>16.653013</td>\n",
       "      <td>0.013653</td>\n",
       "    </tr>\n",
       "    <tr>\n",
       "      <th>74379</th>\n",
       "      <td>0.000000</td>\n",
       "      <td>-0.000899</td>\n",
       "      <td>0.000899</td>\n",
       "    </tr>\n",
       "    <tr>\n",
       "      <th>74380</th>\n",
       "      <td>16.666667</td>\n",
       "      <td>16.662125</td>\n",
       "      <td>0.004542</td>\n",
       "    </tr>\n",
       "    <tr>\n",
       "      <th>74381</th>\n",
       "      <td>0.000000</td>\n",
       "      <td>-0.000068</td>\n",
       "      <td>0.000068</td>\n",
       "    </tr>\n",
       "    <tr>\n",
       "      <th>74382</th>\n",
       "      <td>13.274336</td>\n",
       "      <td>13.679052</td>\n",
       "      <td>-0.404716</td>\n",
       "    </tr>\n",
       "    <tr>\n",
       "      <th>74383</th>\n",
       "      <td>0.000000</td>\n",
       "      <td>0.001348</td>\n",
       "      <td>-0.001348</td>\n",
       "    </tr>\n",
       "    <tr>\n",
       "      <th>74384</th>\n",
       "      <td>0.000000</td>\n",
       "      <td>-0.013423</td>\n",
       "      <td>0.013423</td>\n",
       "    </tr>\n",
       "    <tr>\n",
       "      <th>74385</th>\n",
       "      <td>23.076923</td>\n",
       "      <td>23.161402</td>\n",
       "      <td>-0.084479</td>\n",
       "    </tr>\n",
       "    <tr>\n",
       "      <th>74386</th>\n",
       "      <td>16.666667</td>\n",
       "      <td>16.656908</td>\n",
       "      <td>0.009759</td>\n",
       "    </tr>\n",
       "    <tr>\n",
       "      <th>74387</th>\n",
       "      <td>19.971671</td>\n",
       "      <td>19.910744</td>\n",
       "      <td>0.060928</td>\n",
       "    </tr>\n",
       "    <tr>\n",
       "      <th>74388</th>\n",
       "      <td>0.000000</td>\n",
       "      <td>-0.000646</td>\n",
       "      <td>0.000646</td>\n",
       "    </tr>\n",
       "    <tr>\n",
       "      <th>74389</th>\n",
       "      <td>0.000000</td>\n",
       "      <td>0.155815</td>\n",
       "      <td>-0.155815</td>\n",
       "    </tr>\n",
       "  </tbody>\n",
       "</table>\n",
       "<p>74390 rows × 3 columns</p>\n",
       "</div>"
      ],
      "text/plain": [
       "          y_test      ypred  y_test-ypred\n",
       "0       0.000000  -0.001933      0.001933\n",
       "1       0.000000  -0.000533      0.000533\n",
       "2       0.000000   0.000164     -0.000164\n",
       "3       0.000000  -0.001161      0.001161\n",
       "4      16.666667  16.660606      0.006060\n",
       "5      19.745223  19.757586     -0.012363\n",
       "6      14.705882  14.674166      0.031717\n",
       "7       0.000000  -0.001365      0.001365\n",
       "8       0.000000   0.000686     -0.000686\n",
       "9      32.258065  32.116093      0.141972\n",
       "10     16.666667  16.746353     -0.079686\n",
       "11      0.000000  -0.004377      0.004377\n",
       "12      0.000000  -0.076782      0.076782\n",
       "13     20.000000  19.956116      0.043884\n",
       "14     20.000000  19.879057      0.120943\n",
       "15      0.000000   0.001350     -0.001350\n",
       "16      0.000000   0.000311     -0.000311\n",
       "17      0.000000   0.001003     -0.001003\n",
       "18     16.571429  16.556349      0.015080\n",
       "19      0.000000   0.000967     -0.000967\n",
       "20     16.618076  16.646595     -0.028519\n",
       "21     16.666667  16.663891      0.002776\n",
       "22     16.666667  16.662252      0.004414\n",
       "23      0.000000   0.000131     -0.000131\n",
       "24      0.000000   0.001444     -0.001444\n",
       "25      0.000000   0.000523     -0.000523\n",
       "26      0.000000   0.003728     -0.003728\n",
       "27      7.000000   7.229422     -0.229422\n",
       "28     16.619718  16.611153      0.008566\n",
       "29      0.000000   0.001412     -0.001412\n",
       "...          ...        ...           ...\n",
       "74360   0.000000  -0.000432      0.000432\n",
       "74361   0.000000   0.001169     -0.001169\n",
       "74362   0.000000   0.003976     -0.003976\n",
       "74363   0.000000  -0.000620      0.000620\n",
       "74364   0.000000   0.000244     -0.000244\n",
       "74365   0.000000   0.000568     -0.000568\n",
       "74366  20.000000  19.977346      0.022654\n",
       "74367  13.076923  13.227209     -0.150286\n",
       "74368   0.000000  -0.001216      0.001216\n",
       "74369  16.619718  16.668232     -0.048514\n",
       "74370  16.666667  16.661812      0.004855\n",
       "74371  16.666667  16.818777     -0.152110\n",
       "74372  19.965577  19.947577      0.018000\n",
       "74373  16.666667  16.651121      0.015546\n",
       "74374  16.666667  16.636814      0.029853\n",
       "74375  13.409962  13.355430      0.054532\n",
       "74376  16.666667  16.637623      0.029044\n",
       "74377   0.000000   0.000932     -0.000932\n",
       "74378  16.666667  16.653013      0.013653\n",
       "74379   0.000000  -0.000899      0.000899\n",
       "74380  16.666667  16.662125      0.004542\n",
       "74381   0.000000  -0.000068      0.000068\n",
       "74382  13.274336  13.679052     -0.404716\n",
       "74383   0.000000   0.001348     -0.001348\n",
       "74384   0.000000  -0.013423      0.013423\n",
       "74385  23.076923  23.161402     -0.084479\n",
       "74386  16.666667  16.656908      0.009759\n",
       "74387  19.971671  19.910744      0.060928\n",
       "74388   0.000000  -0.000646      0.000646\n",
       "74389   0.000000   0.155815     -0.155815\n",
       "\n",
       "[74390 rows x 3 columns]"
      ]
     },
     "execution_count": 41,
     "metadata": {},
     "output_type": "execute_result"
    }
   ],
   "source": [
    "resultdf=pd.DataFrame()\n",
    "resultdf['y_test']=y_test\n",
    "resultdf['ypred']=ypred\n",
    "resultdf['y_test-ypred']=y_test-ypred\n",
    "resultdf"
   ]
  },
  {
   "cell_type": "code",
   "execution_count": 42,
   "metadata": {
    "_uuid": "63f4ac6ecd6f47d97f81a1465b1ae1de454773c5"
   },
   "outputs": [
    {
     "name": "stdout",
     "output_type": "stream",
     "text": [
      "RMSE : 0.230308520320114\n"
     ]
    }
   ],
   "source": [
    "import math\n",
    "\n",
    "print(\"RMSE :\",math.sqrt((resultdf['y_test-ypred']**2).mean()))"
   ]
  },
  {
   "cell_type": "markdown",
   "metadata": {
    "_uuid": "9883bf1aad66be16ab7bffef7f9b9786c873b7d2"
   },
   "source": [
    "## Printing feature_importances"
   ]
  },
  {
   "cell_type": "code",
   "execution_count": 43,
   "metadata": {
    "_uuid": "f26a3a727b4d3e525f7ad386d5b20c474827b9eb"
   },
   "outputs": [
    {
     "name": "stdout",
     "output_type": "stream",
     "text": [
      "153\n"
     ]
    }
   ],
   "source": [
    "print(len(xgbmodel.feature_importances_))"
   ]
  },
  {
   "cell_type": "code",
   "execution_count": 44,
   "metadata": {
    "_uuid": "02fad92ef8c815a9d55d08fa81d1e4cbbbb2b157"
   },
   "outputs": [
    {
     "data": {
      "text/plain": [
       "array([1.2228319e-01, 7.6405019e-02, 5.3895041e-02, 7.4943647e-02,\n",
       "       5.4284511e-03, 3.6148317e-02, 1.6809243e-01, 3.7547648e-02,\n",
       "       5.7731150e-03, 2.2361772e-02, 4.9217958e-03, 2.0096299e-01,\n",
       "       4.1604340e-02, 1.7891485e-02, 5.0320884e-04, 1.7057400e-02,\n",
       "       1.9949127e-02, 0.0000000e+00, 0.0000000e+00, 0.0000000e+00,\n",
       "       0.0000000e+00, 0.0000000e+00, 0.0000000e+00, 0.0000000e+00,\n",
       "       0.0000000e+00, 1.2959350e-03, 1.8267169e-04, 3.9980974e-04,\n",
       "       3.6879003e-04, 2.0679814e-04, 5.9971464e-04, 5.8937469e-04,\n",
       "       2.5505104e-04, 1.8267169e-04, 4.1014966e-04, 2.2403132e-04,\n",
       "       2.3781786e-04, 3.3777030e-04, 1.9301160e-04, 6.1005453e-04,\n",
       "       3.7568330e-04, 5.3078192e-04, 3.2398375e-04, 3.6534338e-04,\n",
       "       2.7573085e-05, 1.9094362e-03, 2.3712853e-03, 1.4751601e-03,\n",
       "       2.3574987e-03, 7.4102666e-04, 4.0670301e-04, 2.8951740e-04,\n",
       "       3.8257657e-04, 4.4461602e-04, 2.3437123e-04, 0.0000000e+00,\n",
       "       1.0374374e-03, 1.5854524e-04, 4.6184918e-04, 3.1709048e-04,\n",
       "       1.9301160e-04, 5.5835501e-04, 3.3432367e-04, 1.6543851e-04,\n",
       "       1.7233178e-04, 6.2384107e-04, 2.7228423e-04, 3.0675059e-04,\n",
       "       2.7228423e-04, 1.0339907e-04, 4.9286889e-04, 7.4102666e-04,\n",
       "       4.9976219e-04, 3.9980974e-04, 3.0675059e-04, 1.1029234e-04,\n",
       "       9.8918448e-04, 1.7750174e-03, 6.5141416e-04, 9.2714501e-04,\n",
       "       4.3082947e-04, 4.1014966e-04, 2.6194431e-04, 2.9985732e-04,\n",
       "       1.9645823e-04, 1.3786543e-04, 0.0000000e+00, 1.3579745e-03,\n",
       "       1.6371519e-03, 1.7715708e-03, 1.6061323e-03, 1.8473967e-03,\n",
       "       1.7715708e-03, 1.4544802e-03, 0.0000000e+00, 2.4815777e-04,\n",
       "       1.5165197e-04, 4.1359628e-04, 3.2053713e-04, 0.0000000e+00,\n",
       "       0.0000000e+00, 4.2738282e-04, 4.0670301e-04, 3.9980974e-04,\n",
       "       4.8597564e-04, 3.7912992e-04, 5.7558814e-04, 6.6175405e-04,\n",
       "       7.0656033e-04, 8.4097910e-04, 8.1685267e-04, 7.8583293e-04,\n",
       "       6.9277378e-04, 7.5825985e-04, 9.5471810e-04, 9.0646523e-04,\n",
       "       9.9263107e-04, 1.1270499e-03, 1.1477297e-03, 9.9263107e-04,\n",
       "       9.2369836e-04, 8.8578538e-04, 6.6520070e-04, 0.0000000e+00,\n",
       "       0.0000000e+00, 0.0000000e+00, 1.5199664e-03, 1.8025904e-03,\n",
       "       1.2338955e-03, 0.0000000e+00, 0.0000000e+00, 5.7352018e-03,\n",
       "       0.0000000e+00, 0.0000000e+00, 1.7715708e-03, 1.7922506e-04,\n",
       "       7.9272620e-05, 2.8607078e-04, 1.1890894e-03, 0.0000000e+00,\n",
       "       0.0000000e+00, 3.5500349e-04, 0.0000000e+00, 0.0000000e+00,\n",
       "       5.6869490e-04, 0.0000000e+00, 0.0000000e+00, 1.7881146e-02,\n",
       "       2.0335150e-04, 5.5146171e-05, 3.2053713e-04, 0.0000000e+00,\n",
       "       0.0000000e+00], dtype=float32)"
      ]
     },
     "execution_count": 44,
     "metadata": {},
     "output_type": "execute_result"
    }
   ],
   "source": [
    "xgbmodel.feature_importances_"
   ]
  },
  {
   "cell_type": "code",
   "execution_count": 46,
   "metadata": {
    "_kg_hide-input": true,
    "_kg_hide-output": true,
    "_uuid": "b9f7eae0d36fdd7dbc18da04fd5b0ed029a14264"
   },
   "outputs": [],
   "source": [
    "d={}\n",
    "for i in range(0,153):\n",
    "    d[df_taxi_tips.columns[i]]=xgbmodel.feature_importances_[i]\n",
    "    print(d[df_taxi_tips.columns[i]])\n"
   ]
  },
  {
   "cell_type": "code",
   "execution_count": 47,
   "metadata": {
    "_uuid": "a1ffe688efe9f63968d1343919bb96b98f01e248"
   },
   "outputs": [
    {
     "data": {
      "text/plain": [
       "[('Total_amount', 0.20096299),\n",
       " ('Fare_amount', 0.16809243),\n",
       " ('Trip_time', 0.04160434),\n",
       " ('Extra', 0.037547648),\n",
       " ('Trip_distance', 0.036148317),\n",
       " ('Tolls_amount', 0.022361772),\n",
       " ('Day', 0.019949127),\n",
       " ('hour', 0.017891485),\n",
       " ('Trip_type_nan', 0.017881146),\n",
       " ('Trip_distance_Zero', 0.0170574),\n",
       " ('MTA_tax', 0.005773115),\n",
       " ('Week_nan', 0.0057352018),\n",
       " ('Passenger_count', 0.005428451),\n",
       " ('improvement_surcharge', 0.004921796),\n",
       " ('Group2_26.0', 0.0023712853),\n",
       " ('Group2_28.0', 0.0023574987),\n",
       " ('Group2_22.0', 0.0019094362),\n",
       " ('DayofWeek_4.0', 0.0018473967),\n",
       " ('Week_2.0', 0.0018025904),\n",
       " ('Group1_26.0', 0.0017750174),\n",
       " ('DayofWeek_2.0', 0.0017715708),\n",
       " ('DayofWeek_5.0', 0.0017715708),\n",
       " ('VendorID_nan', 0.0017715708),\n",
       " ('DayofWeek_1.0', 0.0016371519),\n",
       " ('DayofWeek_3.0', 0.0016061323),\n",
       " ('Week_1.0', 0.0015199664),\n",
       " ('Group2_27.0', 0.0014751601),\n",
       " ('DayofWeek_6.0', 0.0014544802),\n",
       " ('Group1_nan', 0.0013579745),\n",
       " ('lonbin2', 0.001295935),\n",
       " ('Week_3.0', 0.0012338955),\n",
       " ('RateCodeID_4.0', 0.0011890894),\n",
       " ('hour_17.0', 0.0011477297),\n",
       " ('hour_16.0', 0.0011270499),\n",
       " ('Group2_nan', 0.0010374374),\n",
       " ('hour_15.0', 0.0009926311),\n",
       " ('hour_18.0', 0.0009926311),\n",
       " ('Group1_22.0', 0.0009891845),\n",
       " ('hour_13.0', 0.0009547181),\n",
       " ('Group1_28.0', 0.000927145),\n",
       " ('hour_19.0', 0.00092369836),\n",
       " ('hour_14.0', 0.0009064652),\n",
       " ('hour_20.0', 0.0008857854),\n",
       " ('hour_8.0', 0.0008409791),\n",
       " ('hour_9.0', 0.00081685267),\n",
       " ('hour_10.0', 0.00078583293),\n",
       " ('hour_12.0', 0.00075825985),\n",
       " ('Group2_29.0', 0.00074102666),\n",
       " ('Group1_17.0', 0.00074102666),\n",
       " ('hour_7.0', 0.0007065603),\n",
       " ('hour_11.0', 0.0006927738),\n",
       " ('hour_21.0', 0.0006652007),\n",
       " ('hour_6.0', 0.00066175405),\n",
       " ('Group1_27.0', 0.00065141416),\n",
       " ('Group1_11.0', 0.0006238411),\n",
       " ('Group2_16.0', 0.0006100545),\n",
       " ('Group2_6.0', 0.00059971464),\n",
       " ('Group2_8.0', 0.0005893747),\n",
       " ('hour_5.0', 0.00057558814),\n",
       " ('Store_and_fwd_flag_nan', 0.0005686949),\n",
       " ('Group1_6.0', 0.000558355),\n",
       " ('Group2_18.0', 0.0005307819),\n",
       " ('Tip_%', 0.00050320884),\n",
       " ('Group1_18.0', 0.0004997622),\n",
       " ('Group1_16.0', 0.0004928689),\n",
       " ('hour_3.0', 0.00048597564),\n",
       " ('Group1_2.0', 0.00046184918),\n",
       " ('Group2_33.0', 0.00044461602),\n",
       " ('Group1_29.0', 0.00043082947),\n",
       " ('hour_0.0', 0.00042738282),\n",
       " ('Airport_JFK', 0.00041359628),\n",
       " ('Group2_11.0', 0.00041014966),\n",
       " ('Group1_30.0', 0.00041014966),\n",
       " ('Group2_30.0', 0.000406703),\n",
       " ('hour_1.0', 0.000406703),\n",
       " ('Group2_2.0', 0.00039980974),\n",
       " ('Group1_19.0', 0.00039980974),\n",
       " ('hour_2.0', 0.00039980974),\n",
       " ('Group2_32.0', 0.00038257657),\n",
       " ('hour_4.0', 0.00037912992),\n",
       " ('Group2_17.0', 0.0003756833),\n",
       " ('Group2_4.0', 0.00036879003),\n",
       " ('Group2_20.0', 0.00036534338),\n",
       " ('RateCodeID_nan', 0.0003550035),\n",
       " ('Group2_14.0', 0.0003377703),\n",
       " ('Group1_8.0', 0.00033432367),\n",
       " ('Group2_19.0', 0.00032398375),\n",
       " ('Airport_LGA', 0.00032053713),\n",
       " ('Payment_type_3.0', 0.00032053713),\n",
       " ('Group1_4.0', 0.00031709048),\n",
       " ('Group1_13.0', 0.0003067506),\n",
       " ('Group1_20.0', 0.0003067506),\n",
       " ('Group1_32.0', 0.00029985732),\n",
       " ('Group2_31.0', 0.0002895174),\n",
       " ('RateCodeID_3.0', 0.00028607078),\n",
       " ('Group1_12.0', 0.00027228423),\n",
       " ('Group1_14.0', 0.00027228423),\n",
       " ('Group1_31.0', 0.0002619443),\n",
       " ('Group2_9.0', 0.00025505104),\n",
       " ('DayofWeek_nan', 0.00024815777),\n",
       " ('Group2_13.0', 0.00023781786),\n",
       " ('Group2_34.0', 0.00023437123),\n",
       " ('Group2_12.0', 0.00022403132),\n",
       " ('Group2_5.0', 0.00020679814),\n",
       " ('Payment_type_1.0', 0.0002033515),\n",
       " ('Group1_33.0', 0.00019645823),\n",
       " ('Group2_15.0', 0.0001930116),\n",
       " ('Group1_5.0', 0.0001930116),\n",
       " ('Group2_0.0', 0.00018267169),\n",
       " ('Group2_10.0', 0.00018267169),\n",
       " ('RateCodeID_1.0', 0.00017922506),\n",
       " ('Group1_10.0', 0.00017233178),\n",
       " ('Group1_9.0', 0.00016543851),\n",
       " ('Group1_0.0', 0.00015854524),\n",
       " ('Airport_EWR', 0.00015165197),\n",
       " ('Group1_34.0', 0.00013786543),\n",
       " ('Group1_21.0', 0.00011029234),\n",
       " ('Group1_15.0', 0.00010339907),\n",
       " ('RateCodeID_2.0', 7.927262e-05),\n",
       " ('Payment_type_2.0', 5.514617e-05),\n",
       " ('Group2_21.0', 2.7573085e-05),\n",
       " ('Pickup_longitude', 0.0),\n",
       " ('Pickup_latitude', 0.0),\n",
       " ('Dropoff_longitude', 0.0),\n",
       " ('Dropoff_latitude', 0.0),\n",
       " ('Speed', 0.0),\n",
       " ('latbin', 0.0),\n",
       " ('lonbin', 0.0),\n",
       " ('latbin2', 0.0),\n",
       " ('Group2_35.0', 0.0),\n",
       " ('Group1_35.0', 0.0),\n",
       " ('DayofWeek_7.0', 0.0),\n",
       " ('Airport_None', 0.0),\n",
       " ('Airport_nan', 0.0),\n",
       " ('hour_22.0', 0.0),\n",
       " ('hour_23.0', 0.0),\n",
       " ('hour_nan', 0.0),\n",
       " ('Week_4.0', 0.0),\n",
       " ('Week_5.0', 0.0),\n",
       " ('VendorID_1.0', 0.0),\n",
       " ('VendorID_2.0', 0.0),\n",
       " ('RateCodeID_5.0', 0.0),\n",
       " ('RateCodeID_6.0', 0.0),\n",
       " ('Store_and_fwd_flag_N', 0.0),\n",
       " ('Store_and_fwd_flag_Y', 0.0),\n",
       " ('Trip_type_1.0', 0.0),\n",
       " ('Trip_type_2.0', 0.0),\n",
       " ('Payment_type_4.0', 0.0),\n",
       " ('Payment_type_5.0', 0.0)]"
      ]
     },
     "execution_count": 47,
     "metadata": {},
     "output_type": "execute_result"
    }
   ],
   "source": [
    "d=sorted(d.items(),key= lambda value: value[1],reverse=True)\n",
    "d"
   ]
  },
  {
   "cell_type": "markdown",
   "metadata": {
    "_uuid": "fd4771a193f0fb3c1e23904949a10c04e5593c08"
   },
   "source": [
    "## Code for Parameter Tuning which could be used to tune Hyper Parameters.\n"
   ]
  },
  {
   "cell_type": "code",
   "execution_count": 48,
   "metadata": {
    "_uuid": "f72dd533362477b5e306bed2615faf1ffa60746c"
   },
   "outputs": [],
   "source": [
    "# import xgboost as xgb \n",
    "# xgb_model =  xgb.XGBRegressor()\n",
    "# parameters = {'objective':['reg:linear'],\n",
    "#               'learning_rate': [0.01,0.05,0.1,0.2,0.3,0.5],\n",
    "#               'max_depth': [6,8,10,12],\n",
    "#               'min_child_weight': [8,10,12],\n",
    "#               'silent': [1],\n",
    "#               'subsample': [0.8],\n",
    "#               'colsample_bytree': [0.7],\n",
    "#               'n_estimators': [5,50,100,500,1000],\n",
    "#               'seed': [42]}\n",
    "\n",
    "\n",
    "# clf = GridSearchCV(xgb_model, parameters,cv=5,scoring='neg_mean_squared_error',verbose=2,refit=True)\n",
    "\n",
    "# clf.fit(X_train, y_train)\n",
    "\n",
    "# clf.grid_scores_"
   ]
  },
  {
   "cell_type": "markdown",
   "metadata": {
    "_uuid": "f524956379aaeaf5f32df74477bd83b44c586fea"
   },
   "source": [
    "\n",
    "# <font color='darkred'>Question 5 : Choose only one of these options to answer for Question 5. There is no preference as to which one you choose. Please select the question that you feel your particular skills and/or expertise are best suited to. If you answer more than one, only the first will be scored.\n",
    "\n",
    "## <font color='darkred'>• Option A: Distributions\n",
    "\n",
    "### <font color='darkred'>• Build a derived variable representing the average speed over the course of a trip.\n",
    "\n",
    "### <font color='darkred'>• Can you perform a test to determine if the average trip speeds are materially the same in all weeks of September? If you decide they are not the same, can you form a hypothesis regarding why they differ?\n",
    "\n",
    "### <font color='darkred'>• Can you build up a hypothesis of average trip speed as a function of time of day?\n",
    "\n"
   ]
  },
  {
   "cell_type": "markdown",
   "metadata": {
    "_uuid": "088bfdf925f5823d96b3b6b3cf23dd581cbfb4dc"
   },
   "source": [
    "## <font color='darkred'>5.A.1 • Build a derived variable representing the average speed over the course of a trip.\n",
    "\n",
    "## <font color='blue'>Answer 5.A.1 \n",
    "## <font color='blue'>• I have already build a column 'Speed' that was derived in Feature Engineering Section. It was derived from distance and time varaible. We had distance in Miles and time in Seconds. So Speed was derived by \n",
    "\n",
    "## <font color='blue'>$$Speed={\\frac  {Distance(in Miles)}{Duration(in seconds)*(3600)}}$$ \n",
    "## <font color='blue'> Thus, our derived varaible $$Speed={\\frac{Distance(in Miles)}{Duration(in Hour)}}$$\n",
    "\n",
    "### <font color='blue'> Now, I took mean of all Speed Values which were >0 and <240 and that mean turned out to be 13.324 and I replaced    1. Nan,  2. float('inf')  3. NULL  and 4. Speed >240 values with our mean value 13.324 which would be our best estimate as we have very much large amount of data and Mean imputation turns out to be best in such cases. "
   ]
  },
  {
   "cell_type": "code",
   "execution_count": 35,
   "metadata": {
    "_uuid": "00433e04208f6b0b1bcc290deb617f5f0a36fd65"
   },
   "outputs": [
    {
     "data": {
      "text/plain": [
       "0    13.324231\n",
       "1    13.324231\n",
       "2    13.792208\n",
       "3    10.829268\n",
       "4     8.926829\n",
       "Name: Speed, dtype: float64"
      ]
     },
     "execution_count": 35,
     "metadata": {},
     "output_type": "execute_result"
    }
   ],
   "source": [
    "df_taxi_tips['Speed'].head()"
   ]
  },
  {
   "cell_type": "markdown",
   "metadata": {
    "_uuid": "643aaf7ddda6bc6185c1575018391b15520d31bc"
   },
   "source": [
    "## <font color='darkred'>Question 5.A.2 \n",
    "## <font color='darkred'>    • Can you perform a test to determine if the average trip speeds are materially the same in all weeks of September? If you decide they are not the same, can you form a hypothesis regarding why they differ?\n"
   ]
  },
  {
   "cell_type": "markdown",
   "metadata": {
    "_uuid": "8ec51c584f20c7e31ff3a3cbb680f92312e76f08"
   },
   "source": [
    "### Lets have a look at average speed of taxi in all weeks.\n"
   ]
  },
  {
   "cell_type": "code",
   "execution_count": 36,
   "metadata": {
    "_uuid": "86f5c0baec2db2512dab1afb376a77d6376eac8a"
   },
   "outputs": [
    {
     "data": {
      "text/plain": [
       "Week\n",
       "1    13.806461\n",
       "2    13.073065\n",
       "3    13.099998\n",
       "4    13.571924\n",
       "5    12.923634\n",
       "Name: Speed, dtype: float64"
      ]
     },
     "execution_count": 36,
     "metadata": {},
     "output_type": "execute_result"
    }
   ],
   "source": [
    "taxi_backup.groupby('Week').mean()['Speed']"
   ]
  },
  {
   "cell_type": "code",
   "execution_count": 37,
   "metadata": {
    "_uuid": "dd9eac41abd7a5743b02b7486bdb3c59e91492a2"
   },
   "outputs": [
    {
     "data": {
      "text/plain": [
       "array([13.93498571, 13.11474977, 12.91042952, 12.68070843, 12.75760886,\n",
       "       13.57337905, 14.33794771])"
      ]
     },
     "execution_count": 37,
     "metadata": {},
     "output_type": "execute_result"
    }
   ],
   "source": [
    "taxi_backup.groupby('DayofWeek').mean()['Speed'].values"
   ]
  },
  {
   "cell_type": "code",
   "execution_count": 38,
   "metadata": {
    "_uuid": "f9f8e4e20489310085f4e5c46bd92aed98c02b19"
   },
   "outputs": [
    {
     "data": {
      "image/png": "[encoded data removed]",
      "text/plain": [
       "<Figure size 504x504 with 1 Axes>"
      ]
     },
     "metadata": {},
     "output_type": "display_data"
    }
   ],
   "source": [
    "plt.figure(figsize=(7,7))\n",
    "plt.plot([1,2,3,4,5],taxi_backup.groupby('Week').mean()['Speed'].values,'bo-',linewidth=2)\n",
    "plt.title('Mean Speed for each Week in September',size=20)\n",
    "plt.xlabel(\"Week of September\",size=22)\n",
    "plt.ylabel(\"Weekly Average Speed (Miles Per Hour)\",size=20)\n",
    "plt.grid(True)"
   ]
  },
  {
   "cell_type": "markdown",
   "metadata": {
    "_uuid": "19d80451a48ba921c22095a8db6e46aca8e16f83"
   },
   "source": [
    "### We can see from above graph that the 2nd and 3rd week has low Mean Speed as compared to 1st and 4th. Moreover, 5th week is having lowest."
   ]
  },
  {
   "cell_type": "code",
   "execution_count": 39,
   "metadata": {
    "_uuid": "44cf7a1943c807607f21bde47b2e32b12e95b959"
   },
   "outputs": [
    {
     "data": {
      "image/png": "[encoded data removed]",
      "text/plain": [
       "<Figure size 504x504 with 1 Axes>"
      ]
     },
     "metadata": {},
     "output_type": "display_data"
    }
   ],
   "source": [
    "plt.figure(figsize=(7,7))\n",
    "plt.plot([1,2,3,4,5,6,7],taxi_backup.groupby('DayofWeek').mean()['Speed'].values,'ro-',linewidth=2)\n",
    "plt.title('Mean Speed for each Day in any given Week of September',size=20)\n",
    "plt.xlabel(\"Day of Week (Monday-Day 1 to Sunday-Day 7)\",size=22)\n",
    "plt.ylabel(\"Daily Average Speed (Miles Per Hour)\",size=20)\n",
    "plt.grid(True)"
   ]
  },
  {
   "cell_type": "markdown",
   "metadata": {
    "_uuid": "5da669ba5aebcf714a5ea46322fe1bacedf6cf35"
   },
   "source": [
    "### We can see that there is very high speed on Monday , while there are low speeds on 3rd, 4th and 5th day . Then again from Saturday the speed increases and we have on Sunday a speed of 14.337."
   ]
  },
  {
   "cell_type": "code",
   "execution_count": 40,
   "metadata": {
    "_uuid": "5bfb1796661bbbbd6d111f7ce507d13c43b1efff"
   },
   "outputs": [
    {
     "data": {
      "image/png": "[encoded data removed]",
      "text/plain": [
       "<Figure size 504x504 with 1 Axes>"
      ]
     },
     "metadata": {},
     "output_type": "display_data"
    }
   ],
   "source": [
    "plt.figure(figsize=(7,7))\n",
    "plt.plot(range(1,25),taxi_backup.groupby('hour').mean()['Speed'].values,'ro-',linewidth=2)\n",
    "plt.title('Mean Speed for each Hour for any given Day in September',size=20)\n",
    "plt.xlabel(\"Hour of Day\",size=22)\n",
    "plt.ylabel(\"Hourly Average Speed ( Miles Per Hour )\",size=20)\n",
    "plt.grid(True)"
   ]
  },
  {
   "cell_type": "markdown",
   "metadata": {
    "_uuid": "49c45a1e55004dfbc0adc966dd80c51b22e234fd"
   },
   "source": [
    "### We can observe from figure that we have a very steep high speed in morning 4 to 6 AM, while a noteworthy change is seen in evening 3 to 6 PM, when there is so much less average speed as compared ot whole day. "
   ]
  },
  {
   "cell_type": "markdown",
   "metadata": {
    "_uuid": "225abf037c779fceff427d5e5021b0a0443a7c61"
   },
   "source": [
    "## <font color='darkred'>Can you perform a test to determine if the average trip speeds are materially the same in all weeks of September?"
   ]
  },
  {
   "cell_type": "markdown",
   "metadata": {
    "_uuid": "c27b86ad713b577704f6ae01de3e3bf53413e5b5"
   },
   "source": [
    "# <font color='blue'> Test: One Way Anova test.\n",
    "\n",
    "### <font color='blue'>Why One Way? \n",
    "> ### <font color='blue'>A one-way ANOVA is used when we have 1 categorical Independent Variable with 3+ categories or groups, and 1 continuous dependent variable. This is Design of One Way Anova Test.\n",
    "\n",
    "### <font color='blue'>In our case: We can see that there is One continuous Dependent Variable: Speed (Speed is Dependent on Week and Speed is Continuous) AND We have one categorical independent variable which is Week and it has 3+ Categories(Week 1 to Week 5). Thus I have used Anova Test here. \n",
    "\n",
    "\n",
    "### <font color='blue'>In a given month of September, 2015:\n",
    "> ### <font color='blue'>Null Hypothesis: \"Average Speed is almost same through all Weeks from 1 to 5.\"\n",
    "\n",
    "> ### <font color='blue'>Alternate Hypothesis: \"Average Speed differs among in at least two weeks with a significant amount.\"\n",
    "\n",
    "> ### <font color='blue'>P value turned out to be 0.0 which means we do not have enough enough claims to support Null Hypothesis or in other terms, the probability of given event occuring is almost 0, if we assume that Null Hypothesis is true. Thus, if we assume that Average Speed is equal for all weeks, we have 0 probability for the data that we have. Thus, we will reject NULL Hypothesis. \n",
    "\n",
    "> ### <font color='blue'>Rejecting Null Hypothesis means we CANNOT consider that we have almost same Average speeds.\n",
    "\n",
    "\n",
    "### <font color='blue'> Anova Results: P value=0.0 and test statistic=485.9197592 and thus we REJECT NULL Hypothesis of means being equal."
   ]
  },
  {
   "cell_type": "markdown",
   "metadata": {
    "_uuid": "99a3455b3f887cefca842e84d7cfdf08da36d1f7"
   },
   "source": [
    "### <font color='limegreen '>How I achieved results?\n",
    ">### <font color='limegreen '>1. Got Week 1 Speed data into variable w1, same way for w2, w3, w4 and w5.\n",
    ">### <font color='limegreen '>2. After getting Speed data into seperate groups, passing them to f_oneway() method of stats imprted from scipy.\n",
    ">### <font color='limegreen '>3. We will get results performing above step."
   ]
  },
  {
   "cell_type": "code",
   "execution_count": 41,
   "metadata": {
    "_uuid": "9533fe4d1d09fff8e18a9cd3a5856e09ff0ad33a"
   },
   "outputs": [
    {
     "data": {
      "text/plain": [
       "F_onewayResult(statistic=485.9197592749325, pvalue=0.0)"
      ]
     },
     "execution_count": 41,
     "metadata": {},
     "output_type": "execute_result"
    }
   ],
   "source": [
    "from scipy import stats \n",
    "w1=taxi_backup[(taxi_backup['Week']==1)]['Speed']\n",
    "w2=taxi_backup[(taxi_backup['Week']==2)]['Speed']\n",
    "w3=taxi_backup[(taxi_backup['Week']==3)]['Speed']\n",
    "w4=taxi_backup[(taxi_backup['Week']==4)]['Speed']\n",
    "w5=taxi_backup[(taxi_backup['Week']==5)]['Speed']\n",
    "# print(\"Total of all :\",w1.shape[0]+w2.shape[0]+w3.shape[0]+w4.shape[0]+w5.shape[0])\n",
    "# print(taxi_backup.shape[0])\n",
    "stats.f_oneway(w1,w2,w3,w4,w5)"
   ]
  },
  {
   "cell_type": "markdown",
   "metadata": {
    "_uuid": "20776a54adb376b8fb085e1afabd402628e099ce"
   },
   "source": [
    "## <font color=darkred> If you decide they are not the same, can you form a hypothesis regarding why they differ?"
   ]
  },
  {
   "cell_type": "code",
   "execution_count": 42,
   "metadata": {
    "_uuid": "fb9ee38d3c6563c68bd6dfd520b7f68f4ea2d35b"
   },
   "outputs": [
    {
     "data": {
      "image/png": "[encoded data removed]",
      "text/plain": [
       "<Figure size 1440x576 with 3 Axes>"
      ]
     },
     "metadata": {},
     "output_type": "display_data"
    }
   ],
   "source": [
    "sns.set()\n",
    "matplotlib.rc('xtick', labelsize=20)     \n",
    "matplotlib.rc('ytick', labelsize=20)\n",
    "plt.figure(1,figsize=(20,8))\n",
    "\n",
    "plt.subplot(131)\n",
    "plt.plot([1,2,3,4,5],taxi_backup.groupby('Week').mean()['Speed'].values,'bo-',linewidth=2)\n",
    "plt.title('Mean Speed for each Week',size=20)\n",
    "plt.xlabel(\"Week of September\",size=22)\n",
    "plt.ylabel(\"Weekly Average Speed (Miles Per Hour)\",size=20)\n",
    "plt.grid(True)\n",
    "\n",
    "plt.subplot(132)\n",
    "plt.plot([1,2,3,4,5,6,7],taxi_backup.groupby('DayofWeek').mean()['Speed'].values,'ro-',linewidth=2)\n",
    "plt.title('Mean Speed for each Day in any given Week',size=20)\n",
    "plt.xlabel(\"Day of Week (Monday-Day 1)\",size=22)\n",
    "plt.ylabel(\"Daily Average Speed (Miles Per Hour)\",size=20)\n",
    "plt.grid(True)\n",
    "\n",
    "plt.subplot(133)\n",
    "plt.plot(range(1,25),taxi_backup.groupby('hour').mean()['Speed'].values,'ro-',linewidth=2)\n",
    "plt.title('Mean Speed for each Hour for any given Day',size=20)\n",
    "plt.xlabel(\"Hour of Day\",size=22)\n",
    "plt.ylabel(\"Hourly Average Speed ( Miles Per Hour )\",size=20)\n",
    "plt.grid(True)"
   ]
  },
  {
   "cell_type": "markdown",
   "metadata": {
    "_uuid": "7c5ac2a9c87a634c32edd918d1f7ee517d56cc65"
   },
   "source": [
    "## <font color='blue'> Hypothesis regarding why the average speed differs: \n",
    ">## <font color='blue'> We can see from first graph that week 5 is having too much low Average Speeds as compared to the other weeks. Now, from Second graph we can easily see that 6th and 7th day(Saturday and Sunday) are having high average speeds than most of the other days. Now a close inspection discovered that, In week 5 We have No Saturday and No Sunday. Thus the two days on which people tend to drive faster, are not there in week 5. Thus we have only low averages day in Week 5, which leads us to MAJOR difference in their means. \n",
    "    \n",
    ">>#### <font color='blue'>Week 1: Tuesday to Sunday\n",
    ">>#### <font color='blue'>Week 2: All\n",
    ">>#### <font color='blue'>Week 3: All\n",
    ">>#### <font color='blue'>Week 4 : All\n",
    ">>#### <font color='blue'>Week 5: Monday, Tuesday and Wednesday (Less Average Speed Days)"
   ]
  },
  {
   "cell_type": "markdown",
   "metadata": {
    "_uuid": "bec25e4e8a13af9bc9b3bbc2708182291b2625bf"
   },
   "source": [
    "# <font color='darkred'> Can you build up a hypothesis of average trip speed as a function of time of day?"
   ]
  },
  {
   "cell_type": "code",
   "execution_count": null,
   "metadata": {
    "_uuid": "dd2f0cd4707fc5939c48ff729c820a5f5ff600b9"
   },
   "outputs": [],
   "source": [
    "sns.set()\n",
    "matplotlib.rc('xtick', labelsize=20)     \n",
    "matplotlib.rc('ytick', labelsize=20)\n",
    "plt.figure(1,figsize=(20,15))\n",
    "\n",
    "plt.subplot(221)\n",
    "plt.plot(range(1,25),taxi_backup.groupby('hour').mean()['Speed'].values,'bo-',linewidth=2)\n",
    "plt.title('Mean Speed for each Hour for any given Day',size=20)\n",
    "plt.xlabel(\"Hour of Day\",size=22)\n",
    "plt.ylabel(\"Hourly Average Speed ( Miles Per Hour )\",size=20)\n",
    "plt.grid(True)\n",
    "\n",
    "plt.subplot(222)\n",
    "plt.plot(range(1,25),taxi_backup.groupby('hour').count()['Speed'].values,'ro-',linewidth=2)\n",
    "plt.title('Count of Trips for each Hour for any given Day',size=20)\n",
    "plt.xlabel(\"Hour of Day\",size=22)\n",
    "plt.ylabel(\"Count of Trips\",size=20)\n",
    "plt.grid(True)\n",
    "\n",
    "plt.subplot(223)\n",
    "plt.plot(df_hour['Hour'],df_hour['Mean_distance'],'bo-',linewidth=2,label='Mean Distance')\n",
    "plt.legend(loc='upper right',fontsize=20)\n",
    "plt.title('Graph representing Mean Distance corresponding Hour of Day',size=20)\n",
    "plt.xlabel(\"Hour of the Day\",size=22)\n",
    "plt.ylabel(\"Distance (in Miles)\",size=20)\n",
    "plt.grid(True)\n",
    "\n",
    "plt.subplot(224)\n",
    "plt.plot(range(1,25),taxi_backup.groupby('hour').mean()['Trip_time'].values,'ro-',linewidth=2)\n",
    "plt.title('Graph representing Trip Duration for given Hour',size=20)\n",
    "plt.xlabel(\"Hour of the Day\",size=22)\n",
    "plt.ylabel(\"Trip Duration in Seconds\",size=20)\n",
    "plt.grid(True)"
   ]
  },
  {
   "cell_type": "markdown",
   "metadata": {
    "_uuid": "a7c1507110fd17b24a56356f6848be3e9cbec3ca"
   },
   "source": [
    "### <font color='blue'> From 12 Am to 5PM, the graphs of Speed and Count of Trips(First 2) are perfectly mirror images of one another. This leads to some clear explanations that as count increases ie as number of trips increases, the average speed of taxi on roads decreases. "
   ]
  },
  {
   "cell_type": "markdown",
   "metadata": {
    "_uuid": "469c3e8c63ea5c7b139b6a02fe1970f8c0786c29"
   },
   "source": [
    "### <font color='blue'> Hypothesis for Average Speed as a function of time of day:\n",
    "### <font color='blue'>12 AM to 7AM\n",
    "### <font color='blue'>Why 12AM to 7 AM high Average Speed?\n",
    "> ### <font color='blue'>    1A. There are high average speeds from 12 AM late night to morning 7AM. If we look closely, there are too much high average speeds from 5 to 7 which is logical. This is because, at night or early morning before 6, there might not be much traffic and taxi drivers tend to drive faster if the roads are empty. \n",
    "> ### <font color='blue'>    1B. Another reason is from 2nd graph, we can see that number of rides are less from 12 AM to 7AM exactly, and then it increases. Thus, when rides are less, the traffic would be less and thus the speeds would be more. \n",
    "\n",
    "### <font color='blue'>7AM to 9 AM    \n",
    "### <font color='blue'>Why from after 7 AM it drastically started to decrease untill 9AM?    \n",
    "> ### <font color='blue'>    2A . We all know that the first shift of people going to work is 8AM ot 4PM or 9AM to 5PM. Thus, We can infer that more people will be going to work after 7AM untill 9AM because their work duty starts from 8 or 9, which makes a clear logical sense.\n",
    "> ### <font color='blue'>    2B. As we can see from 2nd graph that from 7AM to 9AM, there is a lot increase in number of count of trips, thus if number of taxi on roads increases, traffic increases and this leads to decrease in average speed.\n",
    "    \n",
    "### <font color='blue'>10 AM to 3PM \n",
    "> ### <font color='blue'>    3A . No Special changes in Graph 1.\n",
    "> ### <font color='blue'>    3B . No Special Changes in Graph 2.\n",
    "\n",
    "### <font color='blue'>3PM to 6PM\n",
    "### <font color='blue'>Why was there unwanted decrease from 3PM to 6PM ?  \n",
    "> ### <font color='blue'>    4. Now, Taxi Drivers mostly changes shifts from around 4 to 5PM and that is the reason that in NYC, there is nearly 20% decrease in Taxi being available as the drivers are going back to give taxi to another drivers or they are ending their shifts during this time period. Thus, they tend to accept less rides than usually and it is mostly mentioned that NYC people generally find it very hard to get a cap from 4 PM to 5 PM. \n",
    "\n",
    "### <font color='blue'>6PM to 12 AM.\n",
    "### <font color='blue'>Why Average Speed increases?\n",
    "> ### <font color='blue'>    5. Now, NYC people nearly 80% use public transport. Thus, when all people run to their homes at 5 PM nearly from their jobs, they would directly run to public transports. Thus due to those 80% people using public transport, there is comparatively less traffic on roads and hence, more average speeds are observed. [Source : http://web.mta.info/mta/network.htm]\n",
    "> ### <font color='blue'>    Also after having a look at graph 2, you might be wondering that How the counts are increasing and still the average speed increases. For this, please have a look at Graph 4 which indicates that Trip Duration is lower as compared to whole day, So a person might be using cab for less time and thus more trip counts.\n",
    "> ### <font color='blue'>    Also, have a look at graph 3 which indicates the distance decreases for a ride as we go from 6AM to 12 AM, which means that distance decreases for any given ride and so taxi drivers can take more trips. Thus it all justifies one another smoothly.\n"
   ]
  },
  {
   "cell_type": "code",
   "execution_count": null,
   "metadata": {
    "_uuid": "ef2706500baa697cce6402f6a618da7fa30a45d9"
   },
   "outputs": [],
   "source": []
  },
  {
   "cell_type": "code",
   "execution_count": null,
   "metadata": {
    "_uuid": "a76587698b326c87bcfb72a4e38262f49039a024"
   },
   "outputs": [],
   "source": []
  },
  {
   "cell_type": "code",
   "execution_count": null,
   "metadata": {
    "_uuid": "8ac85b981db1e3765e9ffaa73b13caf48d8b1b41"
   },
   "outputs": [],
   "source": []
  },
  {
   "cell_type": "code",
   "execution_count": null,
   "metadata": {
    "_uuid": "588ddbe5625ea08348307a0dabb660c0fb74d880"
   },
   "outputs": [],
   "source": []
  },
  {
   "cell_type": "code",
   "execution_count": null,
   "metadata": {
    "_uuid": "799a3b447e4f66a6194ac42b4ca039b8bcce378f"
   },
   "outputs": [],
   "source": []
  },
  {
   "cell_type": "code",
   "execution_count": null,
   "metadata": {
    "_uuid": "b77b967d77a2a7aa3d633ab0496dc25fa6d5be19"
   },
   "outputs": [],
   "source": []
  },
  {
   "cell_type": "code",
   "execution_count": null,
   "metadata": {
    "_uuid": "491627d563ed7b45ebaad8fc3846a2712372bd55"
   },
   "outputs": [],
   "source": []
  },
  {
   "cell_type": "code",
   "execution_count": null,
   "metadata": {
    "_uuid": "1ee49b6303108c332fd20c24899dafe052fb0f6f"
   },
   "outputs": [],
   "source": []
  },
  {
   "cell_type": "code",
   "execution_count": null,
   "metadata": {
    "_uuid": "9a6a42ef68ef9a2efcfb2f8b2075cad8b1ce6531"
   },
   "outputs": [],
   "source": []
  },
  {
   "cell_type": "code",
   "execution_count": null,
   "metadata": {
    "_uuid": "36f022daccbf3ce9645d46e45c664607a551d4b6"
   },
   "outputs": [],
   "source": []
  },
  {
   "cell_type": "code",
   "execution_count": null,
   "metadata": {
    "_uuid": "73ba28e243e940100c1cdabd5778ac6755d71ce0"
   },
   "outputs": [],
   "source": []
  },
  {
   "cell_type": "code",
   "execution_count": null,
   "metadata": {
    "_uuid": "22e751443b118a1a7d55818d2d45321e12f0bbc2"
   },
   "outputs": [],
   "source": []
  }
 ],
 "metadata": {
  "accelerator": "GPU",
  "colab": {
   "name": "Utsav_NYC_Green_Sept.ipynb",
   "provenance": [],
   "version": "0.3.2"
  },
  "kernelspec": {
   "display_name": "Python 3",
   "language": "python",
   "name": "python3"
  },
  "language_info": {
   "codemirror_mode": {
    "name": "ipython",
    "version": 3
   },
   "file_extension": ".py",
   "mimetype": "text/x-python",
   "name": "python",
   "nbconvert_exporter": "python",
   "pygments_lexer": "ipython3",
   "version": "3.7.0"
  }
 },
 "nbformat": 4,
 "nbformat_minor": 1
}
